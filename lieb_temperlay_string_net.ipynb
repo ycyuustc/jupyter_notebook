{
 "cells": [
  {
   "cell_type": "code",
   "execution_count": 43,
   "metadata": {
    "collapsed": true
   },
   "outputs": [],
   "source": [
    "import numpy as np\n",
    "import matplotlib.pyplot as plt\n",
    "import bisect\n",
    "import time\n",
    "import array\n",
    "\n",
    "\n",
    "def fn_lieb_find_circle(lieb_up,lieb_down,index0,index1):\n",
    "    (ind_out, isup, v_circle1) = fn_lieb_combine(lieb_up,lieb_down,index0,index1,True)\n",
    "    \n",
    "    # case 1\n",
    "    if ind_out==index1 and isup==True:\n",
    "        circle_number_change = 1\n",
    "        if v_circle1:\n",
    "            res = fn_lieb_combine(lieb_up,lieb_down,index0,index1,False)\n",
    "            v_circle2 = res[2]\n",
    "            if v_circle2:\n",
    "                if len(v_circle1)>=len(v_circle2):\n",
    "                    return circle_number_change, v_circle2, v_circle1\n",
    "                else:\n",
    "                    return circle_number_change, v_circle1, v_circle2\n",
    "            else:\n",
    "                return circle_number_change, [], []\n",
    "        else:\n",
    "            return circle_number_change, [], []\n",
    "        \n",
    "    # case 2\n",
    "    elif ind_out==index1 and isup==False:\n",
    "        circle_number_change = 0\n",
    "        return circle_number_change, [], []\n",
    "    \n",
    "    # case 3\n",
    "    elif ind_out==index0 and isup==False:\n",
    "        circle_number_change = -1\n",
    "        if v_circle1:\n",
    "            res = fn_lieb_combine(lieb_up,lieb_down,index1,index0,True)\n",
    "            v_circle2 = res[2]\n",
    "            if v_circle2:\n",
    "                if len(v_circle1)>=len(v_circle2):\n",
    "                    return circle_number_change, v_circle2, v_circle1\n",
    "                else:\n",
    "                    return circle_number_change, v_circle1, v_circle2\n",
    "            else:\n",
    "                return circle_number_change, [], []\n",
    "    else:\n",
    "        print('error')\n",
    "        \n",
    "        \n",
    "        \n",
    "def fn_lieb_combine(lieb_up, lieb_down, index0, index1, isup0):\n",
    "        N = len(lieb_up)//2      \n",
    "        v_mid = []\n",
    "        if isup0:\n",
    "            ind = index0 + N\n",
    "        else:\n",
    "            ind = index0\n",
    "        isup = isup0\n",
    "        while True:\n",
    "            if isup:\n",
    "                ind = lieb_up[ind]\n",
    "                if ind<=N-1:       \n",
    "                    v_mid.append(ind)\n",
    "                    ind = ind + N\n",
    "                else:\n",
    "                    ind = ind - N\n",
    "                    if ind==index0 or ind==index1:\n",
    "                        return ind, isup, v_mid\n",
    "                isup = not isup\n",
    "                \n",
    "            else:\n",
    "                ind = lieb_down[ind]\n",
    "                if ind>=N:\n",
    "                    ind = ind - N\n",
    "                    v_mid.append(ind)\n",
    "                else:\n",
    "                    if ind==index0 or ind==index1:\n",
    "                        return ind, isup, v_mid\n",
    "                    ind = ind + N\n",
    "                isup = not isup\n",
    "            # print(ind)\n",
    "    \n",
    "    \n",
    "def fn_lieb_identity(N):\n",
    "    return [i+N for i in range(N)] + [i for i in range(N)]\n",
    "\n",
    "\n",
    "def fn_lieb_add(lieb, p1, p2, v_index, v_value):\n",
    "    t1 = lieb[p1]\n",
    "    t2 = lieb[p2]\n",
    "    if not t1 == p2:\n",
    "        lieb[t1] = t2\n",
    "        lieb[t2] = t1\n",
    "        lieb[p1] = p2\n",
    "        lieb[p2] = p1\n",
    "        # v_index.append([t1,p1,t2,p2])\n",
    "        # v_value.append([p1,t1,p2,t2])\n",
    "        v_index.append(t1)\n",
    "        v_index.append(p1)\n",
    "        v_index.append(t2)\n",
    "        v_index.append(p2)\n",
    "        v_value.append(p1)\n",
    "        v_value.append(t1)\n",
    "        v_value.append(p2)\n",
    "        v_value.append(t2)\n",
    "\n",
    "\n",
    "class SN:\n",
    "    def __init__(self,N,M):\n",
    "        self.N = N\n",
    "        self.M = M\n",
    "        self.lmap = [fn_lieb_identity(N) for _ in range(M+1)]\n",
    "        self.cn = N\n",
    "        self.circle_index = [i for i in range(N)]\n",
    "        self.stack_circle = [[], N]\n",
    "        self.Hamiltonian = [[0 for _ in range(N)] for _ in range(N)]\n",
    "        \n",
    "        self.cn_backup = N\n",
    "        self.v_for_stack = []\n",
    "        self.v_modified_map_index = []\n",
    "        self.v_modified_map_value = []\n",
    "        self.modified_map_num = 0\n",
    "        self.v_modified_circle_index = []\n",
    "        self.v_modified_circle_value = []\n",
    "        self.modified_circle_num = 0\n",
    "        \n",
    "        self.v_circle1 = []\n",
    "        self.v_circle2 = []\n",
    "      \n",
    "    \n",
    "    def fn_initialization(self):\n",
    "        for layer in range(self.M-1, -1, -1):\n",
    "            map_up = self.lmap[layer]\n",
    "            map_down = self.lmap[layer + 1]\n",
    "            leg_number = np.random.poisson(1)\n",
    "            vp = [np.random.randint(1,N) for _ in range(leg_number)]\n",
    "               \n",
    "        \n",
    "    def fn_stack_circle_pull(self):\n",
    "        if not self.stack_circle[0]:\n",
    "            num_circle = self.stack_circle[1]\n",
    "            self.stack_circle[1] = num_circle + 1\n",
    "            self.circle.append([])\n",
    "        else:\n",
    "            num_circle = self.stack_circle[0][-1]\n",
    "            self.stack_circle[0].pop()\n",
    "        return num_circle\n",
    "    \n",
    "    \n",
    "    def fn_stack_circle_push(self,index):\n",
    "        self.stack_circle[0].append(index)\n",
    "        \n",
    "        \n",
    "    def fn_try_layer(self,layer):\n",
    "        map_up = sn.lmap[layer]\n",
    "        map_down = sn.lmap[layer+1]\n",
    "        circle_number = sn.cn\n",
    "        \n",
    "        \n",
    "    def fn_update_layer_forward(self, layer, legs):\n",
    "        self.cn_backup = self.cn\n",
    "        self.v_for_stack = []\n",
    "        self.v_modified_map_index = []\n",
    "        self.v_modified_map_value = []\n",
    "        self.v_modified_circle_index = []\n",
    "        self.v_modified_circle_value = []\n",
    "        \n",
    "        map_up = self.lmap[layer]\n",
    "        map_down = self.lmap[layer+1]\n",
    "        \n",
    "        for leg in legs:\n",
    "            p1 = leg[0]\n",
    "            p2 = leg[1]\n",
    "            (cn_change, v_circle1, v_circle2) = fn_lieb_find_circle(map_up,map_down,p1,p2)\n",
    "            \n",
    "            # change cn\n",
    "            self.cn = self.cn + cn_change\n",
    "            \n",
    "            # change v_circle_index\n",
    "            if v_circle1:\n",
    "                if cn_change == 1:\n",
    "                    circle_index = self.fn_stack_circle_pull()\n",
    "                    self.v_for_stack.insert(0,circle_index)\n",
    "                    for change_index in v_circle1:\n",
    "                        self.v_modified_circle_index.append(change_index)\n",
    "                        self.v_modified_circle_value.append(self.circle_index[change_index])\n",
    "                        self.circle_index[change_index] = circle_index\n",
    "                elif cn_change == -1:\n",
    "                    self.fn_stack_circle_push(self.circle_index[v_circle1[0]])\n",
    "                    circle_index = self.circle_index[v_circle2[0]]\n",
    "                    self.v_for_stack.insert(0,-1)\n",
    "                    for change_index in v_circle1:\n",
    "                        self.v_modified_circle_index.append(change_index)\n",
    "                        self.v_modified_circle_value.append(self.circle_index[change_index])\n",
    "                        self.circle_index[change_index] = circle_index\n",
    "                else:\n",
    "                    print('error')\n",
    "            \n",
    "            # change map_up\n",
    "            fn_lieb_add(map_up, p1, p2, self.v_modified_map_index, self.v_modified_map_value)        \n",
    "                        \n",
    "            "
   ]
  },
  {
   "cell_type": "code",
   "execution_count": 44,
   "metadata": {},
   "outputs": [],
   "source": [
    "N = 4\n",
    "M = 6\n",
    "sn = SN(N,M)\n",
    "legs = [[0,1],[0,2]]\n",
    "sn.fn_update_layer_forward(1,legs)"
   ]
  },
  {
   "cell_type": "code",
   "execution_count": 51,
   "metadata": {},
   "outputs": [
    {
     "name": "stdout",
     "output_type": "stream",
     "text": [
      "[1, 2]\n",
      "[1, 2]\n",
      "[4, 0, 5, 1, 1, 0, 6, 2]\n",
      "[0, 4, 1, 5, 0, 1, 2, 6]\n",
      "[2, 6, 0, 7, 5, 4, 1, 3]\n",
      "[-1, -1]\n"
     ]
    }
   ],
   "source": [
    "print(sn.v_modified_circle_index)\n",
    "print(sn.v_modified_circle_value)\n",
    "print(sn.v_modified_map_index)\n",
    "print(sn.v_modified_map_value)\n",
    "print(sn.lmap[1])\n",
    "print(sn.v_for_stack)"
   ]
  },
  {
   "cell_type": "code",
   "execution_count": 33,
   "metadata": {},
   "outputs": [
    {
     "name": "stdout",
     "output_type": "stream",
     "text": [
      "hehe\n"
     ]
    },
    {
     "data": {
      "text/plain": [
       "[1, 2, 3, 1]"
      ]
     },
     "execution_count": 33,
     "metadata": {},
     "output_type": "execute_result"
    }
   ],
   "source": [
    "fn_try(y)\n",
    "y"
   ]
  },
  {
   "cell_type": "code",
   "execution_count": 19,
   "metadata": {},
   "outputs": [],
   "source": [
    "y = [[1,2],[3,4]]"
   ]
  },
  {
   "cell_type": "code",
   "execution_count": 20,
   "metadata": {},
   "outputs": [
    {
     "name": "stdout",
     "output_type": "stream",
     "text": [
      "[1, 2]\n",
      "[3, 4]\n"
     ]
    }
   ],
   "source": [
    "for k in y:\n",
    "    print(k)"
   ]
  },
  {
   "cell_type": "code",
   "execution_count": 21,
   "metadata": {},
   "outputs": [
    {
     "data": {
      "text/plain": [
       "[[1, 2], [3, 4]]"
      ]
     },
     "execution_count": 21,
     "metadata": {},
     "output_type": "execute_result"
    }
   ],
   "source": [
    "y"
   ]
  },
  {
   "cell_type": "code",
   "execution_count": 24,
   "metadata": {
    "collapsed": true
   },
   "outputs": [],
   "source": [
    "y.insert(0,1)"
   ]
  },
  {
   "cell_type": "code",
   "execution_count": 25,
   "metadata": {},
   "outputs": [
    {
     "data": {
      "text/plain": [
       "[1, 1, [1, 2], [3, 4]]"
      ]
     },
     "execution_count": 25,
     "metadata": {},
     "output_type": "execute_result"
    }
   ],
   "source": [
    "y"
   ]
  },
  {
   "cell_type": "code",
   "execution_count": null,
   "metadata": {
    "collapsed": true
   },
   "outputs": [],
   "source": []
  }
 ],
 "metadata": {
  "kernelspec": {
   "display_name": "Python 3",
   "language": "python",
   "name": "python3"
  },
  "language_info": {
   "codemirror_mode": {
    "name": "ipython",
    "version": 3
   },
   "file_extension": ".py",
   "mimetype": "text/x-python",
   "name": "python",
   "nbconvert_exporter": "python",
   "pygments_lexer": "ipython3",
   "version": "3.6.2"
  }
 },
 "nbformat": 4,
 "nbformat_minor": 2
}
