{
 "cells": [
  {
   "cell_type": "code",
   "execution_count": 1,
   "metadata": {
    "collapsed": true
   },
   "outputs": [],
   "source": [
    "import numpy as np"
   ]
  },
  {
   "cell_type": "code",
   "execution_count": 2,
   "metadata": {},
   "outputs": [
    {
     "data": {
      "text/plain": [
       "array([-5, -3, -1,  1,  3])"
      ]
     },
     "execution_count": 2,
     "metadata": {},
     "output_type": "execute_result"
    }
   ],
   "source": [
    "np.arange(-5,5,step=2)"
   ]
  },
  {
   "cell_type": "code",
   "execution_count": 3,
   "metadata": {},
   "outputs": [
    {
     "data": {
      "text/plain": [
       "array([-4.5, -3.5, -2.5, -1.5, -0.5,  0.5,  1.5,  2.5,  3.5])"
      ]
     },
     "execution_count": 3,
     "metadata": {},
     "output_type": "execute_result"
    }
   ],
   "source": [
    "np.arange(-9/2,9/2,step=1)"
   ]
  },
  {
   "cell_type": "code",
   "execution_count": 4,
   "metadata": {},
   "outputs": [
    {
     "data": {
      "text/plain": [
       "array([-4.5, -3.5, -2.5, -1.5, -0.5,  0.5,  1.5,  2.5,  3.5,  4.5])"
      ]
     },
     "execution_count": 4,
     "metadata": {},
     "output_type": "execute_result"
    }
   ],
   "source": [
    "np.linspace(-9/2,9/2,10)"
   ]
  },
  {
   "cell_type": "code",
   "execution_count": 5,
   "metadata": {
    "collapsed": true
   },
   "outputs": [],
   "source": [
    "tv = np.linspace(-9/2,9/2,10)"
   ]
  },
  {
   "cell_type": "code",
   "execution_count": 6,
   "metadata": {},
   "outputs": [
    {
     "data": {
      "text/plain": [
       "array([-4.5, -3.5, -2.5, -1.5, -0.5,  0.5,  1.5,  2.5,  3.5,  4.5])"
      ]
     },
     "execution_count": 6,
     "metadata": {},
     "output_type": "execute_result"
    }
   ],
   "source": [
    "tv"
   ]
  },
  {
   "cell_type": "code",
   "execution_count": 7,
   "metadata": {
    "collapsed": true
   },
   "outputs": [],
   "source": [
    "import random as rd"
   ]
  },
  {
   "cell_type": "code",
   "execution_count": 11,
   "metadata": {},
   "outputs": [
    {
     "data": {
      "text/plain": [
       "list"
      ]
     },
     "execution_count": 11,
     "metadata": {},
     "output_type": "execute_result"
    }
   ],
   "source": [
    "type(rd.sample(list(tv),5))"
   ]
  },
  {
   "cell_type": "code",
   "execution_count": 13,
   "metadata": {},
   "outputs": [],
   "source": [
    "tv2 = rd.sample(list(tv),5)"
   ]
  },
  {
   "cell_type": "code",
   "execution_count": 14,
   "metadata": {},
   "outputs": [
    {
     "data": {
      "text/plain": [
       "[-4.5, 2.5, -0.5, 3.5, -2.5]"
      ]
     },
     "execution_count": 14,
     "metadata": {},
     "output_type": "execute_result"
    }
   ],
   "source": [
    "tv2"
   ]
  },
  {
   "cell_type": "code",
   "execution_count": 16,
   "metadata": {},
   "outputs": [],
   "source": [
    "tv2.sort()"
   ]
  },
  {
   "cell_type": "code",
   "execution_count": 17,
   "metadata": {},
   "outputs": [
    {
     "data": {
      "text/plain": [
       "[-4.5, -2.5, -0.5, 2.5, 3.5]"
      ]
     },
     "execution_count": 17,
     "metadata": {},
     "output_type": "execute_result"
    }
   ],
   "source": [
    "tv2"
   ]
  },
  {
   "cell_type": "code",
   "execution_count": 18,
   "metadata": {},
   "outputs": [
    {
     "data": {
      "text/plain": [
       "list"
      ]
     },
     "execution_count": 18,
     "metadata": {},
     "output_type": "execute_result"
    }
   ],
   "source": [
    "type(tv2)"
   ]
  },
  {
   "cell_type": "code",
   "execution_count": 19,
   "metadata": {},
   "outputs": [
    {
     "data": {
      "text/plain": [
       "array([-4.5, -2.5, -0.5,  2.5,  3.5])"
      ]
     },
     "execution_count": 19,
     "metadata": {},
     "output_type": "execute_result"
    }
   ],
   "source": [
    "np.array(tv2)"
   ]
  },
  {
   "cell_type": "code",
   "execution_count": 25,
   "metadata": {},
   "outputs": [
    {
     "ename": "SyntaxError",
     "evalue": "invalid syntax (<ipython-input-25-6bb1047683dc>, line 1)",
     "output_type": "error",
     "traceback": [
      "\u001b[1;36m  File \u001b[1;32m\"<ipython-input-25-6bb1047683dc>\"\u001b[1;36m, line \u001b[1;32m1\u001b[0m\n\u001b[1;33m    for in range(5):\u001b[0m\n\u001b[1;37m         ^\u001b[0m\n\u001b[1;31mSyntaxError\u001b[0m\u001b[1;31m:\u001b[0m invalid syntax\n"
     ]
    }
   ],
   "source": [
    "for in range(5):\n",
    "    print('a')"
   ]
  },
  {
   "cell_type": "code",
   "execution_count": 26,
   "metadata": {},
   "outputs": [
    {
     "data": {
      "text/plain": [
       "[-4.5, -2.5, -0.5, 2.5, 3.5]"
      ]
     },
     "execution_count": 26,
     "metadata": {},
     "output_type": "execute_result"
    }
   ],
   "source": [
    "tv2"
   ]
  },
  {
   "cell_type": "code",
   "execution_count": 27,
   "metadata": {},
   "outputs": [
    {
     "data": {
      "text/plain": [
       "list"
      ]
     },
     "execution_count": 27,
     "metadata": {},
     "output_type": "execute_result"
    }
   ],
   "source": [
    "type(tv2)"
   ]
  },
  {
   "cell_type": "code",
   "execution_count": 28,
   "metadata": {
    "collapsed": true
   },
   "outputs": [],
   "source": [
    "tv3 = np.array(tv2)"
   ]
  },
  {
   "cell_type": "code",
   "execution_count": 29,
   "metadata": {},
   "outputs": [
    {
     "data": {
      "text/plain": [
       "array([-4.5, -2.5, -0.5,  2.5,  3.5])"
      ]
     },
     "execution_count": 29,
     "metadata": {},
     "output_type": "execute_result"
    }
   ],
   "source": [
    "tv3"
   ]
  },
  {
   "cell_type": "code",
   "execution_count": 30,
   "metadata": {},
   "outputs": [
    {
     "data": {
      "text/plain": [
       "numpy.ndarray"
      ]
     },
     "execution_count": 30,
     "metadata": {},
     "output_type": "execute_result"
    }
   ],
   "source": [
    "type(tv3)"
   ]
  },
  {
   "cell_type": "code",
   "execution_count": 42,
   "metadata": {},
   "outputs": [],
   "source": [
    "num_base = 10\n",
    "num_select = 6\n",
    "v_index_base = np.linspace(-(num_base-1)/2, (num_base-1)/2, num_base)\n",
    "v_index = rd.sample(list(v_index_base), num_select)\n",
    "# v_index.sort()\n",
    "v_index = np.array(v_index.sort())\n",
    "\n"
   ]
  },
  {
   "cell_type": "code",
   "execution_count": 43,
   "metadata": {},
   "outputs": [
    {
     "data": {
      "text/plain": [
       "array(None, dtype=object)"
      ]
     },
     "execution_count": 43,
     "metadata": {},
     "output_type": "execute_result"
    }
   ],
   "source": [
    "v_index"
   ]
  },
  {
   "cell_type": "code",
   "execution_count": 37,
   "metadata": {
    "collapsed": true
   },
   "outputs": [],
   "source": [
    "v_index.sort()"
   ]
  },
  {
   "cell_type": "code",
   "execution_count": 38,
   "metadata": {},
   "outputs": [
    {
     "data": {
      "text/plain": [
       "[-3.5, -1.5, 0.5, 2.5, 3.5, 4.5]"
      ]
     },
     "execution_count": 38,
     "metadata": {},
     "output_type": "execute_result"
    }
   ],
   "source": [
    "v_index"
   ]
  },
  {
   "cell_type": "code",
   "execution_count": 39,
   "metadata": {},
   "outputs": [
    {
     "data": {
      "text/plain": [
       "array([-3.5, -1.5,  0.5,  2.5,  3.5,  4.5])"
      ]
     },
     "execution_count": 39,
     "metadata": {},
     "output_type": "execute_result"
    }
   ],
   "source": [
    "np.array(v_index)"
   ]
  },
  {
   "cell_type": "code",
   "execution_count": 44,
   "metadata": {
    "collapsed": true
   },
   "outputs": [],
   "source": [
    "import numpy as np\n",
    "import matplotlib.pyplot as plt\n",
    "import random as rnd\n",
    "import multiprocessing as mp\n",
    "import time\n",
    "import pickle\n",
    "import os\n",
    "# from google.colab import files\n",
    "\n",
    "# ###### import scipy.io as sio\n",
    "\n",
    "\n",
    "# global variable path\n",
    "MY_PATH = 'E:/pythondata/'\n",
    "FILE_HEADER = 'FIXED_NUMBER_'"
   ]
  },
  {
   "cell_type": "code",
   "execution_count": 107,
   "metadata": {},
   "outputs": [],
   "source": [
    "total_list_index = list()\n",
    "total_list_root = list()\n",
    "\n",
    "num_base = 1000\n",
    "num_select = 600\n",
    "Num_thread = 4\n",
    "m_distribution = np.zeros([Num_thread, num_select])\n",
    "for i in range(Num_thread):\n",
    "    myFileName = \\\n",
    "    MY_PATH + FILE_HEADER + str(num_base) + '_' + str(num_select) + '_' + str(i)\n",
    "    with open(myFileName, 'rb') as file_read:\n",
    "        mylist = pickle.load(file_read)\n",
    "    myindex = mylist[0]\n",
    "    myroot = mylist[1]\n",
    "    total_list_index.extend(myindex)\n",
    "    total_list_root.extend(myroot)\n",
    "\n",
    "X = np.array(total_list_index)\n",
    "Y = np.array(total_list_root)\n"
   ]
  },
  {
   "cell_type": "code",
   "execution_count": 69,
   "metadata": {},
   "outputs": [],
   "source": [
    "myFileName = MY_PATH + FILE_HEADER + str(num_base) + '_' + str(num_select) + '_' + str(0)\n",
    "with open(myFileName, 'rb') as file_read:\n",
    "    mylist = pickle.load(file_read)\n",
    "    myarray = np.array(mylist)"
   ]
  },
  {
   "cell_type": "code",
   "execution_count": 111,
   "metadata": {},
   "outputs": [],
   "source": [
    "data_name = MY_PATH + FILE_HEADER + str(num_base) + '_' + str(num_select)\n",
    "with open(data_name, 'rb') as file_read:\n",
    "    mylist = pickle.load(file_read)\n",
    "X = mylist[0]\n",
    "Y = mylist[1]"
   ]
  },
  {
   "cell_type": "code",
   "execution_count": 112,
   "metadata": {},
   "outputs": [
    {
     "data": {
      "text/plain": [
       "(8000, 600)"
      ]
     },
     "execution_count": 112,
     "metadata": {},
     "output_type": "execute_result"
    }
   ],
   "source": [
    "X.shape"
   ]
  },
  {
   "cell_type": "code",
   "execution_count": 113,
   "metadata": {},
   "outputs": [
    {
     "data": {
      "text/plain": [
       "(8000, 600)"
      ]
     },
     "execution_count": 113,
     "metadata": {},
     "output_type": "execute_result"
    }
   ],
   "source": [
    "Y.shape"
   ]
  },
  {
   "cell_type": "code",
   "execution_count": 104,
   "metadata": {},
   "outputs": [
    {
     "data": {
      "text/plain": [
       "array([-499.5, -498.5, -497.5, -496.5, -494.5, -492.5, -489.5, -488.5,\n",
       "       -487.5, -485.5, -482.5, -481.5, -480.5, -475.5, -473.5, -471.5,\n",
       "       -468.5, -467.5, -466.5, -465.5, -463.5, -460.5, -459.5, -458.5,\n",
       "       -457.5, -455.5, -454.5, -452.5, -450.5, -448.5, -447.5, -446.5,\n",
       "       -442.5, -441.5, -437.5, -434.5, -424.5, -423.5, -422.5, -417.5,\n",
       "       -416.5, -415.5, -414.5, -411.5, -409.5, -407.5, -406.5, -405.5,\n",
       "       -404.5, -403.5, -402.5, -401.5, -400.5, -399.5, -394.5, -392.5,\n",
       "       -390.5, -387.5, -386.5, -384.5, -383.5, -382.5, -379.5, -376.5,\n",
       "       -374.5, -373.5, -372.5, -371.5, -369.5, -368.5, -367.5, -366.5,\n",
       "       -365.5, -363.5, -362.5, -361.5, -358.5, -357.5, -355.5, -353.5,\n",
       "       -352.5, -347.5, -345.5, -341.5, -340.5, -339.5, -337.5, -332.5,\n",
       "       -331.5, -330.5, -329.5, -328.5, -326.5, -325.5, -324.5, -321.5,\n",
       "       -320.5, -318.5, -317.5, -314.5, -313.5, -310.5, -309.5, -308.5,\n",
       "       -307.5, -306.5, -305.5, -303.5, -301.5, -300.5, -299.5, -298.5,\n",
       "       -294.5, -291.5, -289.5, -288.5, -287.5, -286.5, -285.5, -283.5,\n",
       "       -282.5, -281.5, -280.5, -278.5, -275.5, -274.5, -273.5, -271.5,\n",
       "       -270.5, -269.5, -267.5, -265.5, -264.5, -263.5, -262.5, -259.5,\n",
       "       -256.5, -254.5, -253.5, -252.5, -248.5, -246.5, -244.5, -243.5,\n",
       "       -242.5, -239.5, -236.5, -233.5, -231.5, -230.5, -228.5, -227.5,\n",
       "       -225.5, -222.5, -219.5, -218.5, -216.5, -215.5, -214.5, -209.5,\n",
       "       -208.5, -206.5, -205.5, -204.5, -200.5, -198.5, -197.5, -196.5,\n",
       "       -194.5, -193.5, -192.5, -189.5, -188.5, -186.5, -182.5, -181.5,\n",
       "       -180.5, -179.5, -178.5, -176.5, -175.5, -174.5, -173.5, -172.5,\n",
       "       -170.5, -165.5, -164.5, -161.5, -160.5, -159.5, -157.5, -156.5,\n",
       "       -154.5, -153.5, -145.5, -143.5, -142.5, -141.5, -140.5, -138.5,\n",
       "       -137.5, -135.5, -133.5, -132.5, -131.5, -129.5, -128.5, -127.5,\n",
       "       -126.5, -123.5, -122.5, -121.5, -119.5, -116.5, -114.5, -111.5,\n",
       "       -110.5, -109.5, -108.5, -107.5, -106.5, -104.5, -103.5, -101.5,\n",
       "        -99.5,  -97.5,  -95.5,  -94.5,  -93.5,  -92.5,  -91.5,  -90.5,\n",
       "        -89.5,  -88.5,  -87.5,  -85.5,  -84.5,  -83.5,  -81.5,  -80.5,\n",
       "        -79.5,  -78.5,  -77.5,  -76.5,  -74.5,  -73.5,  -72.5,  -71.5,\n",
       "        -69.5,  -68.5,  -67.5,  -66.5,  -65.5,  -64.5,  -63.5,  -58.5,\n",
       "        -57.5,  -55.5,  -53.5,  -51.5,  -49.5,  -48.5,  -47.5,  -46.5,\n",
       "        -45.5,  -44.5,  -42.5,  -41.5,  -40.5,  -38.5,  -35.5,  -34.5,\n",
       "        -33.5,  -32.5,  -31.5,  -30.5,  -28.5,  -27.5,  -26.5,  -25.5,\n",
       "        -24.5,  -22.5,  -21.5,  -20.5,  -17.5,  -11.5,  -10.5,   -8.5,\n",
       "         -7.5,   -6.5,   -5.5,   -4.5,   -3.5,   -0.5,    0.5,    1.5,\n",
       "          3.5,    4.5,    5.5,    6.5,    7.5,    9.5,   10.5,   11.5,\n",
       "         12.5,   13.5,   16.5,   17.5,   18.5,   19.5,   22.5,   25.5,\n",
       "         27.5,   28.5,   30.5,   31.5,   33.5,   34.5,   36.5,   37.5,\n",
       "         38.5,   39.5,   40.5,   42.5,   43.5,   46.5,   47.5,   49.5,\n",
       "         50.5,   51.5,   52.5,   54.5,   56.5,   57.5,   58.5,   61.5,\n",
       "         65.5,   66.5,   68.5,   69.5,   71.5,   74.5,   75.5,   76.5,\n",
       "         77.5,   79.5,   80.5,   81.5,   82.5,   83.5,   84.5,   85.5,\n",
       "         86.5,   89.5,   90.5,   93.5,   94.5,   98.5,   99.5,  100.5,\n",
       "        103.5,  104.5,  107.5,  108.5,  109.5,  111.5,  112.5,  113.5,\n",
       "        115.5,  116.5,  117.5,  119.5,  121.5,  123.5,  124.5,  125.5,\n",
       "        126.5,  129.5,  130.5,  131.5,  134.5,  135.5,  136.5,  137.5,\n",
       "        139.5,  141.5,  143.5,  145.5,  146.5,  147.5,  148.5,  151.5,\n",
       "        152.5,  155.5,  158.5,  159.5,  160.5,  162.5,  163.5,  165.5,\n",
       "        167.5,  168.5,  170.5,  171.5,  175.5,  176.5,  177.5,  180.5,\n",
       "        181.5,  182.5,  183.5,  185.5,  187.5,  188.5,  190.5,  191.5,\n",
       "        192.5,  193.5,  194.5,  195.5,  197.5,  198.5,  200.5,  201.5,\n",
       "        202.5,  203.5,  204.5,  207.5,  209.5,  210.5,  212.5,  213.5,\n",
       "        214.5,  215.5,  217.5,  218.5,  219.5,  220.5,  224.5,  226.5,\n",
       "        227.5,  230.5,  231.5,  232.5,  234.5,  236.5,  238.5,  240.5,\n",
       "        241.5,  245.5,  246.5,  248.5,  251.5,  252.5,  254.5,  255.5,\n",
       "        256.5,  257.5,  261.5,  263.5,  265.5,  267.5,  268.5,  269.5,\n",
       "        270.5,  272.5,  273.5,  276.5,  277.5,  278.5,  279.5,  280.5,\n",
       "        284.5,  287.5,  289.5,  291.5,  294.5,  295.5,  296.5,  297.5,\n",
       "        299.5,  300.5,  301.5,  303.5,  304.5,  306.5,  307.5,  310.5,\n",
       "        311.5,  312.5,  315.5,  316.5,  317.5,  318.5,  319.5,  322.5,\n",
       "        323.5,  324.5,  326.5,  327.5,  329.5,  330.5,  331.5,  332.5,\n",
       "        333.5,  337.5,  339.5,  341.5,  344.5,  346.5,  347.5,  349.5,\n",
       "        350.5,  351.5,  354.5,  360.5,  361.5,  362.5,  365.5,  368.5,\n",
       "        370.5,  371.5,  372.5,  373.5,  377.5,  383.5,  384.5,  387.5,\n",
       "        388.5,  391.5,  393.5,  395.5,  396.5,  399.5,  400.5,  401.5,\n",
       "        402.5,  405.5,  406.5,  407.5,  408.5,  409.5,  410.5,  411.5,\n",
       "        412.5,  413.5,  415.5,  416.5,  417.5,  420.5,  421.5,  422.5,\n",
       "        424.5,  425.5,  428.5,  429.5,  432.5,  433.5,  434.5,  435.5,\n",
       "        436.5,  437.5,  438.5,  441.5,  442.5,  443.5,  445.5,  447.5,\n",
       "        448.5,  449.5,  451.5,  454.5,  455.5,  457.5,  461.5,  462.5,\n",
       "        464.5,  465.5,  466.5,  468.5,  469.5,  470.5,  473.5,  474.5,\n",
       "        475.5,  476.5,  477.5,  480.5,  481.5,  482.5,  483.5,  485.5,\n",
       "        486.5,  487.5,  491.5,  492.5,  493.5,  495.5,  496.5,  498.5])"
      ]
     },
     "execution_count": 104,
     "metadata": {},
     "output_type": "execute_result"
    }
   ],
   "source": [
    "tv[1]"
   ]
  },
  {
   "cell_type": "code",
   "execution_count": 66,
   "metadata": {},
   "outputs": [
    {
     "data": {
      "text/plain": [
       "[3, 4]"
      ]
     },
     "execution_count": 66,
     "metadata": {},
     "output_type": "execute_result"
    }
   ],
   "source": [
    "tv2[2]"
   ]
  },
  {
   "cell_type": "code",
   "execution_count": 91,
   "metadata": {
    "collapsed": true
   },
   "outputs": [],
   "source": [
    "tv1 = list()"
   ]
  },
  {
   "cell_type": "code",
   "execution_count": 92,
   "metadata": {
    "collapsed": true
   },
   "outputs": [],
   "source": [
    "tv2 = [3,4]"
   ]
  },
  {
   "cell_type": "code",
   "execution_count": 93,
   "metadata": {
    "collapsed": true
   },
   "outputs": [],
   "source": [
    "tv1.extend(tv2)"
   ]
  },
  {
   "cell_type": "code",
   "execution_count": 94,
   "metadata": {},
   "outputs": [
    {
     "data": {
      "text/plain": [
       "[3, 4]"
      ]
     },
     "execution_count": 94,
     "metadata": {},
     "output_type": "execute_result"
    }
   ],
   "source": [
    "tv1"
   ]
  },
  {
   "cell_type": "code",
   "execution_count": null,
   "metadata": {
    "collapsed": true
   },
   "outputs": [],
   "source": []
  }
 ],
 "metadata": {
  "kernelspec": {
   "display_name": "Python [conda env:yyc36]",
   "language": "python",
   "name": "conda-env-yyc36-py"
  },
  "language_info": {
   "codemirror_mode": {
    "name": "ipython",
    "version": 3
   },
   "file_extension": ".py",
   "mimetype": "text/x-python",
   "name": "python",
   "nbconvert_exporter": "python",
   "pygments_lexer": "ipython3",
   "version": "3.6.2"
  }
 },
 "nbformat": 4,
 "nbformat_minor": 2
}
