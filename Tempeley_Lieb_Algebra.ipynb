{
 "cells": [
  {
   "cell_type": "code",
   "execution_count": 238,
   "metadata": {},
   "outputs": [],
   "source": [
    "import numpy as np\n",
    "import matplotlib.pyplot as plt\n",
    "\n",
    "def fn_lieb_prod(lieb1, lieb2):\n",
    "    # lieb1.fn_print()\n",
    "    # lieb2.fn_print()\n",
    "    lieb = TL(lieb1.M)   \n",
    "    lieb.map = TL.fn_map_product(lieb1.map, lieb2.map)\n",
    "    lieb.cn = lieb.map[0]\n",
    "    \n",
    "    return lieb\n",
    "\n",
    "def fn_virsual(map,y):\n",
    "    m = (len(map) - 1)//2     \n",
    "    for k in range(1,m+1):\n",
    "        plt.plot((k,k),(y-1.5,y+0.5),'y--')     \n",
    "    v_finished = [0 for _ in range(2*m)]\n",
    "    for k in range(1,2*m+1):\n",
    "        if v_finished[k-1]==0:\n",
    "            ind1 = k\n",
    "            ind2 = map[k]\n",
    "            if ind1<=m:\n",
    "                p1_x = ind1\n",
    "                p1_y = y\n",
    "            else:\n",
    "                p1_x = ind1 - m\n",
    "                p1_y = y-1                \n",
    "            if ind2<=m:\n",
    "                p2_x = ind2\n",
    "                p2_y = y\n",
    "            else:\n",
    "                p2_x = ind2 - m\n",
    "                p2_y = y-1           \n",
    "            v_finished[ind1-1] = 1\n",
    "            v_finished[ind2-1] = 1\n",
    "        if p1_y==(y-1) and p2_y==(y-1):\n",
    "            TL.fn_plot2(p1_x,p1_y,p2_x,p2_y,np.abs(p1_x-p2_x)/m,True) \n",
    "        elif p1_y==y and p2_y==y:\n",
    "            TL.fn_plot2(p1_x,p1_y,p2_x,p2_y,np.abs(p1_x-p2_x)/m,False)\n",
    "        else:\n",
    "            TL.fn_plot2(p1_x,p1_y,p2_x,p2_y,np.abs(p1_x-p2_x)/m,True)     \n",
    "    # plt.show()\n",
    "    \n",
    "\n",
    "# ====================================================================================    \n",
    "    \n",
    "    \n",
    "    \n",
    "class TL:   \n",
    "    # Initialization of the Temperley-Lieb Algebra\n",
    "    def __init__(self,N):\n",
    "        self.map = [0] + [N+1+i for i in range(N)] + [i+1 for i in range(N)]\n",
    "        self.cn = 0\n",
    "        self.M = N\n",
    "        self.leg = []\n",
    "        self.pipe = [[] for _ in range(N)]\n",
    "        self.configuration = [[] for _ in range(N)]\n",
    "        self.distribution = []\n",
    "        self.distribution2 = []\n",
    "        \n",
    "    def fn_print(self):\n",
    "        print(self.map[1:self.M+1])\n",
    "        print(self.map[self.M+1:2*self.M+1])\n",
    "        print('circle number = %d' %self.cn)\n",
    "    \n",
    "    @staticmethod\n",
    "    def fn_map_product(map1, map2):\n",
    "        m = (len(map1) - 1)//2\n",
    "        new_map = [map1[0]+map2[0]] + map1[1:m+1] + map2[m+1:]\n",
    "        \n",
    "        fn_up = lambda x: map1[x+m] - m\n",
    "        fn_down = lambda x: map2[x]\n",
    "        v_finished = [0 for _ in range(m)]\n",
    "        for k in range(1,m+1):      \n",
    "            if v_finished[k-1]==0:     \n",
    "                p = k\n",
    "                v_finished[p-1] = 1\n",
    "                while True:\n",
    "                    p = fn_down(p)\n",
    "                    if p>=m+1:\n",
    "                        point1 = p\n",
    "                        break\n",
    "                    v_finished[p-1] = 1\n",
    "                    \n",
    "                    p = fn_up(p)\n",
    "                    if p<=0:\n",
    "                        point1 = p + m\n",
    "                        break\n",
    "                    if p==k:\n",
    "                        new_map[0] = new_map[0] + 1\n",
    "                        break\n",
    "                    v_finished[p-1] = 1\n",
    "                                  \n",
    "                if p!=k:\n",
    "                    p = k\n",
    "                    while True:\n",
    "                        p = fn_up(p)\n",
    "                        if p<=0:\n",
    "                            point2 = p + m\n",
    "                            break\n",
    "                        v_finished[p-1] = 1\n",
    "                        \n",
    "                        p = fn_down(p)\n",
    "                        if p>=m+1:\n",
    "                            point2 = p\n",
    "                            break\n",
    "                        v_finished[p-1] = 1\n",
    "                        \n",
    "                    new_map[point2] = point1\n",
    "                    new_map[point1] = point2\n",
    "                \n",
    "        return new_map  \n",
    "    \n",
    "    \n",
    "    def fn_add(self,p1,p2):\n",
    "        point1 = p1 + self.M\n",
    "        point2 = p2 + self.M\n",
    "        if self.map[point1] == point2:\n",
    "            self.map[0] = self.map[0] + 1\n",
    "            self.cn = self.cn + 1\n",
    "        else:\n",
    "            modify_point_1 = self.map[point1]\n",
    "            modify_point_2 = self.map[point2]\n",
    "            self.map[modify_point_1] = modify_point_2\n",
    "            self.map[modify_point_2] = modify_point_1\n",
    "            self.map[point1] = point2\n",
    "            self.map[point2] = point1\n",
    "            \n",
    "            \n",
    "    def fn_generate_by_distribution(self):\n",
    "        if not self.distribution:\n",
    "            self.map = [0] + [N+1+i for i in range(N)] + [i+1 for i in range(N)]\n",
    "            return\n",
    "        \n",
    "        for k in self.distribution:\n",
    "            pipe = k[0]\n",
    "            p1 = pipe + 1\n",
    "            p2 =(pipe+1)%self.M + 1\n",
    "            self.fn_add(p1,p2)\n",
    "            \n",
    "    def fn_generate_by_any(self,dis):\n",
    "        if not dis:\n",
    "            self.map = [0] + [N+1+i for i in range(N)] + [i+1 for i in range(N)]\n",
    "            return\n",
    "        \n",
    "        self.distribution = dis\n",
    "        take2 = lambda x: x[1]\n",
    "        self.distribution.sort(key=take2)\n",
    "        \n",
    "        leg_ind = 1\n",
    "        for x in self.distribution:\n",
    "            pipe = x[0]\n",
    "            y = x[1]\n",
    "            if leg_ind>=len(self.leg):\n",
    "                self.leg.append([x[0],x[1]])\n",
    "            else:\n",
    "                self.leg[leg_ind] = [x[0],x[1]]\n",
    "            leg_ind = leg_ind + 1\n",
    "            p1 = pipe + 1\n",
    "            p2 =(pipe+1)%self.M + 1\n",
    "            self.fn_add(p1,p2) \n",
    "    \n",
    "    def fn_generate_by_distribution2(self):\n",
    "        if not self.distribution2:\n",
    "            self.map = [0] + [N+1+i for i in range(N)] + [i+1 for i in range(N)]\n",
    "            return\n",
    "        \n",
    "        self.distribution = self.distribution2\n",
    "        take2 = lambda x: x[1]\n",
    "        self.distribution.sort(key=take2)\n",
    "        \n",
    "        for k in self.distribution:\n",
    "            pipe = k[0]\n",
    "            p1 = pipe + 1\n",
    "            p2 =(pipe+1)%self.M + 1\n",
    "            self.fn_add(p1,p2)\n",
    "        \n",
    "    \n",
    "    def fn_update_pipe(self,pipe,beta):\n",
    "        num_leg = np.random.poisson(beta)\n",
    "        v_rand = [np.random.rand() for _ in range(num_leg)]\n",
    "        \n",
    "        dis = [[pipe,x] for x in v_rand]\n",
    "        remain = [x for x in self.distribution2 if x[0]!=pipe]\n",
    "        dis = dis + remain\n",
    "        self.fn_generate_by_any(dis)\n",
    "        \n",
    "    \n",
    "    def fn_generate_poisson(self,beta):\n",
    "        num_leg = np.random.poisson(beta*self.M)\n",
    "        v_rand = [np.random.rand()*self.M for _ in range(num_leg)]\n",
    "        v_pipe = [int(v_rand[i]) for i in range(num_leg)]\n",
    "        v_y = [v_rand[i] - int(v_rand[i]) for i in range(num_leg)]\n",
    "        c_leg = []\n",
    "        for k in range(num_leg):\n",
    "            c_leg.append([v_pipe[k],v_y[k]])\n",
    "        \n",
    "        take1 = lambda x: x[0]\n",
    "        take2 = lambda x: x[1]\n",
    "        tv = sorted(c_leg,key=take2)\n",
    "        \n",
    "        self.distribution = [[v_pipe[k],v_y[k]] for k in range(num_leg)]\n",
    "        self.distribution.sort(key=take2)\n",
    "        \n",
    "        self.distribution2 = [[v_pipe[k],v_y[k]] for k in range(num_leg)]\n",
    "        self.distribution2.sort(key=take1)\n",
    "        \n",
    "        # =================================================\n",
    "        v_delete = []\n",
    "        for k in range(len(tv)-1):\n",
    "            if tv[k]==tv[k+1]:\n",
    "                v_delete.append(k+1)\n",
    "                \n",
    "        if not v_delete:\n",
    "            v_delete.reverse()\n",
    "            for k in v_delete:\n",
    "                tv.pop(k)\n",
    "        # ==================================================\n",
    "                \n",
    "        for k in range(len(tv)):\n",
    "            \n",
    "            pipe = tv[k][0]\n",
    "            y = tv[k][1]\n",
    "            self.pipe[pipe].append([k+1,y,-1,-1])\n",
    "            self.configuration[pipe].append(y)\n",
    "            \n",
    "        for k in tv:\n",
    "            pipe = k[0]\n",
    "            p1 = pipe + 1\n",
    "            p2 =(pipe+1)%self.M + 1\n",
    "            self.fn_add(p1,p2)\n",
    "            \n",
    "        for k in range(len(tv)):\n",
    "            if k>=len(self.leg):\n",
    "                self.leg.append([tv[k][0],tv[k][1]])\n",
    "            else:\n",
    "                self.leg[k] = [tv[k][0],tv[k][1]]\n",
    "                     \n",
    "        \n",
    "        return tv\n",
    "        \n",
    "        \n",
    "            \n",
    "    # ============  virsualization functions:  =====================\n",
    "    def fn_virsualization(self):\n",
    "        map = self.map\n",
    "        m = (len(map) - 1)//2     \n",
    "        for k in range(1,m+1):\n",
    "            plt.plot((k,k),(-0.5,1.5),'y--')     \n",
    "        v_finished = [0 for _ in range(2*m)]\n",
    "        for k in range(1,2*m+1):\n",
    "            if v_finished[k-1]==0:\n",
    "                ind1 = k\n",
    "                ind2 = map[k]\n",
    "                if ind1<=m:\n",
    "                    p1_x = ind1\n",
    "                    p1_y = 1\n",
    "                else:\n",
    "                    p1_x = ind1 - m\n",
    "                    p1_y = 0                \n",
    "                if ind2<=m:\n",
    "                    p2_x = ind2\n",
    "                    p2_y = 1\n",
    "                else:\n",
    "                    p2_x = ind2 - m\n",
    "                    p2_y = 0           \n",
    "                v_finished[ind1-1] = 1\n",
    "                v_finished[ind2-1] = 1\n",
    "            if p1_y==0 and p2_y==0:\n",
    "                self.fn_plot2(p1_x,p1_y,p2_x,p2_y,np.abs(p1_x-p2_x)/m,True) \n",
    "            elif p1_y==1 and p2_y==1:\n",
    "                self.fn_plot2(p1_x,p1_y,p2_x,p2_y,np.abs(p1_x-p2_x)/m,False)\n",
    "            else:\n",
    "                self.fn_plot2(p1_x,p1_y,p2_x,p2_y,np.abs(p1_x-p2_x)/m,True)\n",
    "        plt.show()\n",
    "        \n",
    "    def fn_virsualization_leg(self):\n",
    "        map = self.map\n",
    "        m = (len(map) - 1)//2     \n",
    "        for k in range(1,m+1):\n",
    "            plt.plot((k,k),(-0.5,1.5),'y--')  \n",
    "        for k in range(len(self.leg)):\n",
    "            pipe = self.leg[k][0]\n",
    "            y = 1 - self.leg[k][1]\n",
    "            if pipe<=self.M-2:\n",
    "                plt.plot([pipe+1,pipe+2],[y,y],color='r',linewidth=0.2)\n",
    "            else:\n",
    "                plt.plot([pipe+1,pipe+1.5],[y,y],color='r',linewidth=0.2)\n",
    "                plt.plot([0.5,1],[y,y],color='r',linewidth=0.2)\n",
    "        \n",
    "        plt.show()\n",
    "        \n",
    "    \n",
    "                \n",
    "    @staticmethod\n",
    "    def fn_plot2(x1,y1,x2,y2,A,is_up):\n",
    "        \n",
    "        if y1!=y2:\n",
    "            plt.plot((x1,x2),(y1,y2),color='r')     \n",
    "        elif (is_up):\n",
    "            vx = np.linspace(x1,x2,500)\n",
    "            vy = y1 + 0.5*A*np.sin((vx-np.min([x1,x2]))/np.abs(x2-x1)*np.pi)\n",
    "            plt.plot(vx,vy,color='r')\n",
    "        else: \n",
    "            vx = np.linspace(x1,x2,500)\n",
    "            vy = y1 - 0.5*A*np.sin((vx-np.min([x1,x2]))/np.abs(x2-x1)*np.pi)\n",
    "            plt.plot(vx,vy,color='r')\n",
    "            \n",
    "        # plt.show()\n",
    "               "
   ]
  },
  {
   "cell_type": "code",
   "execution_count": 242,
   "metadata": {},
   "outputs": [
    {
     "name": "stdout",
     "output_type": "stream",
     "text": [
      "[[1, 0.03729697329277393], [2, 0.09617252194775716], [7, 0.16726554211490008], [3, 0.21232305952165742], [1, 0.6052443356325217], [3, 0.6122298674253592], [5, 0.6993193706860312], [7, 0.7717220921054322], [7, 0.8305129365839914], [0, 0.8970188918814239]]\n"
     ]
    },
    {
     "data": {
      "image/png": "[encoded data removed]",
      "text/plain": [
       "<Figure size 432x288 with 1 Axes>"
      ]
     },
     "metadata": {},
     "output_type": "display_data"
    },
    {
     "name": "stdout",
     "output_type": "stream",
     "text": [
      "[[1, 0.03729697329277393], [2, 0.09617252194775716], [7, 0.16726554211490008], [3, 0.21232305952165742], [1, 0.6052443356325217], [3, 0.6122298674253592], [5, 0.6993193706860312], [7, 0.7717220921054322], [7, 0.8305129365839914], [0, 0.8970188918814239]]\n"
     ]
    },
    {
     "data": {
      "image/png": "[encoded data removed]",
      "text/plain": [
       "<Figure size 432x288 with 1 Axes>"
      ]
     },
     "metadata": {},
     "output_type": "display_data"
    },
    {
     "data": {
      "image/png": "[encoded data removed]",
      "text/plain": [
       "<Figure size 432x288 with 1 Axes>"
      ]
     },
     "metadata": {},
     "output_type": "display_data"
    },
    {
     "data": {
      "image/png": "[encoded data removed]",
      "text/plain": [
       "<Figure size 432x288 with 1 Axes>"
      ]
     },
     "metadata": {},
     "output_type": "display_data"
    }
   ],
   "source": [
    "t1 = TL(8)\n",
    "print(t1.fn_generate_poisson(2))\n",
    "fn_virsual(t1.map,1)\n",
    "plt.show()\n",
    "print(t1.leg)\n",
    "t1.fn_virsualization_leg()\n",
    "t1.fn_update_pipe(0,2)\n",
    "fn_virsual(t1.map,1)\n",
    "plt.show()\n",
    "t1.fn_virsualization_leg()\n"
   ]
  },
  {
   "cell_type": "code",
   "execution_count": 230,
   "metadata": {},
   "outputs": [
    {
     "data": {
      "text/plain": [
       "[[0.1808943740327793, 0.8481511447891963],\n",
       " [0.6340985674559052, 0.7728498491532951, 0.8018586562102374],\n",
       " [0.20713132170909, 0.9137343945881398],\n",
       " [0.1540972810696708,\n",
       "  0.16640399403702055,\n",
       "  0.19646177851686364,\n",
       "  0.9688528886086321],\n",
       " [0.715973535139355, 0.7793748483601428],\n",
       " [],\n",
       " [],\n",
       " [0.12527966183816996,\n",
       "  0.2965100313676654,\n",
       "  0.47519836971708607,\n",
       "  0.9463160302450149]]"
      ]
     },
     "execution_count": 230,
     "metadata": {},
     "output_type": "execute_result"
    }
   ],
   "source": [
    "t1.configuration"
   ]
  },
  {
   "cell_type": "code",
   "execution_count": 231,
   "metadata": {},
   "outputs": [
    {
     "data": {
      "text/plain": [
       "[[7, 0.12527966183816996],\n",
       " [3, 0.1540972810696708],\n",
       " [3, 0.16640399403702055],\n",
       " [0, 0.1808943740327793],\n",
       " [3, 0.19646177851686364],\n",
       " [2, 0.20713132170909],\n",
       " [7, 0.2965100313676654],\n",
       " [7, 0.47519836971708607],\n",
       " [1, 0.6340985674559052],\n",
       " [4, 0.715973535139355],\n",
       " [1, 0.7728498491532951],\n",
       " [4, 0.7793748483601428],\n",
       " [1, 0.8018586562102374],\n",
       " [0, 0.8481511447891963],\n",
       " [2, 0.9137343945881398],\n",
       " [7, 0.9463160302450149],\n",
       " [3, 0.9688528886086321]]"
      ]
     },
     "execution_count": 231,
     "metadata": {},
     "output_type": "execute_result"
    }
   ],
   "source": [
    "t1.distribution"
   ]
  },
  {
   "cell_type": "code",
   "execution_count": 232,
   "metadata": {},
   "outputs": [
    {
     "data": {
      "text/plain": [
       "[[0, 0.1808943740327793],\n",
       " [0, 0.8481511447891963],\n",
       " [1, 0.7728498491532951],\n",
       " [1, 0.8018586562102374],\n",
       " [1, 0.6340985674559052],\n",
       " [2, 0.20713132170909],\n",
       " [2, 0.9137343945881398],\n",
       " [3, 0.19646177851686364],\n",
       " [3, 0.9688528886086321],\n",
       " [3, 0.1540972810696708],\n",
       " [3, 0.16640399403702055],\n",
       " [4, 0.7793748483601428],\n",
       " [4, 0.715973535139355],\n",
       " [7, 0.12527966183816996],\n",
       " [7, 0.2965100313676654],\n",
       " [7, 0.47519836971708607],\n",
       " [7, 0.9463160302450149]]"
      ]
     },
     "execution_count": 232,
     "metadata": {},
     "output_type": "execute_result"
    }
   ],
   "source": [
    "t1.distribution2"
   ]
  },
  {
   "cell_type": "code",
   "execution_count": 153,
   "metadata": {},
   "outputs": [
    {
     "data": {
      "text/plain": [
       "[[3, 1], [1, 2]]"
      ]
     },
     "execution_count": 153,
     "metadata": {},
     "output_type": "execute_result"
    }
   ],
   "source": [
    "tv = [[1,2],[3,1]]\n",
    "take2 = lambda x: x[1]\n",
    "sorted(tv,key=take2)"
   ]
  },
  {
   "cell_type": "code",
   "execution_count": 150,
   "metadata": {},
   "outputs": [
    {
     "data": {
      "text/plain": [
       "[[1, 2], [3, 1]]"
      ]
     },
     "execution_count": 150,
     "metadata": {},
     "output_type": "execute_result"
    }
   ],
   "source": [
    "tv"
   ]
  },
  {
   "cell_type": "code",
   "execution_count": null,
   "metadata": {
    "collapsed": true
   },
   "outputs": [],
   "source": []
  }
 ],
 "metadata": {
  "kernelspec": {
   "display_name": "Python 3",
   "language": "python",
   "name": "python3"
  },
  "language_info": {
   "codemirror_mode": {
    "name": "ipython",
    "version": 3
   },
   "file_extension": ".py",
   "mimetype": "text/x-python",
   "name": "python",
   "nbconvert_exporter": "python",
   "pygments_lexer": "ipython3",
   "version": "3.6.2"
  }
 },
 "nbformat": 4,
 "nbformat_minor": 2
}
