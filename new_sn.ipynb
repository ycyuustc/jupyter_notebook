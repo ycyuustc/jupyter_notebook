{
 "cells": [
  {
   "cell_type": "code",
   "execution_count": 105,
   "metadata": {},
   "outputs": [],
   "source": [
    "import numpy as np\n",
    "import matplotlib.pyplot as plt\n",
    "import bisect\n",
    "import time\n",
    "import array\n",
    "\n",
    "\n",
    "class cLineInfo:\n",
    "    def __init__(self,y,index,isright):\n",
    "        self.y = y\n",
    "        self.index = index\n",
    "        self.isright = isright\n",
    "        \n",
    "class SN:\n",
    "    def __init__(self,N,M):\n",
    "        self.N = N\n",
    "        self.M = M\n",
    "        self.line_info = [[[cLineInfo(0,i,True),cLineInfo(1,i+N,True)] for _ in range(M)] for i in range(N)]\n",
    "        self.stack_leg = [[], N]\n",
    "        self.stack_circle = [[], N]\n",
    "        self.leg = [0 for i in range(2*N*8)]\n",
    "        self.cn = N\n",
    "        self.map = [[i+N for i in range(N)] + [i for i in range(N)] for _ in range(M+1)]\n",
    "        \n",
    "        \n",
    "    # ============  virsualization functions:  =====================\n",
    "    def fn_virsualization(self):\n",
    "         \n",
    "        m = self.N\n",
    "        for k in range(0,m):\n",
    "            plt.plot((k,k),(-0.5,self.M+1.5),'y--')     \n",
    "              \n",
    "        for my in range(self.M + 1):\n",
    "            tmap = self.map[my]\n",
    "            v_finished = [0 for _ in range(2*m)]\n",
    "            for k in range(0,2*m):\n",
    "                if v_finished[k]==0:\n",
    "                    ind1 = k\n",
    "                    ind2 = tmap[k]\n",
    "                    if ind1<=m-1:\n",
    "                        p1_x = ind1\n",
    "                        p1_y = self.M - my + 1\n",
    "                    else:\n",
    "                        p1_x = ind1 - m\n",
    "                        p1_y = self.M - my              \n",
    "                    if ind2<=m-1:\n",
    "                        p2_x = ind2\n",
    "                        p2_y = self.M - my + 1\n",
    "                    else:\n",
    "                        p2_x = ind2 - m\n",
    "                        p2_y = self.M - my           \n",
    "                    v_finished[ind1] = 1\n",
    "                    v_finished[ind2] = 1\n",
    "                if p1_y==self.M - my and p2_y==self.M - my:\n",
    "                    self.fn_plot2(p1_x,p1_y,p2_x,p2_y,np.abs(p1_x-p2_x)/m,True) \n",
    "                elif p1_y==self.M - my + 1 and p2_y==self.M - my + 1:\n",
    "                    self.fn_plot2(p1_x,p1_y,p2_x,p2_y,np.abs(p1_x-p2_x)/m,False)\n",
    "                else:\n",
    "                    self.fn_plot2(p1_x,p1_y,p2_x,p2_y,np.abs(p1_x-p2_x)/m,True)\n",
    "        plt.show()\n",
    "        \n",
    "    \n",
    "    def fn_virsualization_leg(self):\n",
    "        map = self.map\n",
    "        m = (len(map) - 1)//2     \n",
    "        for k in range(1,m+1):\n",
    "            plt.plot((k,k),(-0.5,1.5),'y--')  \n",
    "        for k in range(len(self.dis1)):\n",
    "            pipe = self.dis1[k][0]\n",
    "            y = 1 - self.dis1[k][1]\n",
    "            if pipe<=self.M-2:\n",
    "                plt.plot([pipe+1,pipe+2],[y,y],color='r',linewidth=0.2)\n",
    "            else:\n",
    "                plt.plot([pipe+1,pipe+1.5],[y,y],color='r',linewidth=0.2)\n",
    "                plt.plot([0.5,1],[y,y],color='r',linewidth=0.2)\n",
    "        \n",
    "        plt.show()\n",
    "    \n",
    "    def fn_virsualization_leg2(self):\n",
    "        \n",
    "        for k in range(1,self.M+1):\n",
    "            plt.plot((k,k),(-0.5,1.5),'y--')  \n",
    "        for x in self.leg:\n",
    "            # print(x[0])\n",
    "            if x:\n",
    "                pipe = x[0]\n",
    "                y = 1 - x[1]\n",
    "                if pipe<=self.M-2:\n",
    "                    plt.plot([pipe+1,pipe+2],[y,y],color='r',linewidth=0.2)\n",
    "                else:\n",
    "                    plt.plot([pipe+1,pipe+1.5],[y,y],color='r',linewidth=0.2)\n",
    "                    plt.plot([0.5,1],[y,y],color='r',linewidth=0.2)\n",
    "        \n",
    "        plt.show()\n",
    "        \n",
    "        \n",
    "    def fn_virsualization_leg(self):\n",
    "        for k in range(0,self.N):\n",
    "            plt.plot((k,k),(-0.5,self.M + 0.5),'y--')   \n",
    "        for my in range(self.M):\n",
    "            for pipe in range(self.N):\n",
    "                for info in self.line_info[pipe][my]:\n",
    "                    isright = info.isright        \n",
    "                    x1 = pipe\n",
    "                    y1 = - info.y + self.M - my\n",
    "                    if isright:\n",
    "                        x2 = x1 + 1\n",
    "                        y2 = y1\n",
    "                    else:\n",
    "                        x2 = x2 - 1\n",
    "                        y2 = y1\n",
    "                    if info.index<=2*self.N - 1:\n",
    "                        plt.plot(x1,y1,'r*')\n",
    "                    else:\n",
    "                        plt.plot((x1,x2),(y1,y2),'r*-')\n",
    "                        print([x1,x2,y1,y2])\n",
    "                        \n",
    "        plt.show()\n",
    "            \n",
    "                    \n",
    "                    \n",
    "                \n",
    "    \n",
    "                \n",
    "    @staticmethod\n",
    "    def fn_plot2(x1,y1,x2,y2,A,is_up):\n",
    "        \n",
    "        if y1!=y2:\n",
    "            plt.plot((x1,x2),(y1,y2),color='r')     \n",
    "        elif (is_up):\n",
    "            vx = np.linspace(x1,x2,500)\n",
    "            vy = y1 + 0.5*A*np.sin((vx-np.min([x1,x2]))/np.abs(x2-x1)*np.pi)\n",
    "            plt.plot(vx,vy,color='r')\n",
    "        else: \n",
    "            vx = np.linspace(x1,x2,500)\n",
    "            vy = y1 - 0.5*A*np.sin((vx-np.min([x1,x2]))/np.abs(x2-x1)*np.pi)\n",
    "            plt.plot(vx,vy,color='r')\n",
    "        \n",
    "        \n",
    "    def fn_stack_leg_pull(self):\n",
    "        if not self.stack_leg[0]:\n",
    "            num_leg = self.stack_leg[1]\n",
    "            self.stack_leg[1] = num_leg + 1\n",
    "            # self.leg.append([])\n",
    "            self.leg.append([[0,0],[0,0],[0,0],[0,0],[0,0]])\n",
    "        else:\n",
    "            num_leg = self.stack_leg[0][-1]\n",
    "            self.stack_leg[0].pop()\n",
    "        return num_leg\n",
    "\n",
    "    \n",
    "    def fn_stack_leg_push(self, index):\n",
    "        self.stack_leg[0].append(index)\n",
    "        \n",
    "        \n",
    "    def fn_stack_circle_pull(self):\n",
    "        if not self.stack_circle[0]:\n",
    "            num_circle = self.stack_circle[1]\n",
    "            self.stack_circle[1] = num_circle + 1\n",
    "            self.circle.append([])\n",
    "        else:\n",
    "            num_circle = self.stack_circle[0][-1]\n",
    "            self.stack_circle[0].pop()\n",
    "        return num_circle\n",
    "    \n",
    "    \n",
    "    def fn_stack_circle_push(self,index):\n",
    "        self.stack_circle[0].append(index)\n",
    "        \n",
    "        \n",
    "    def fn_find_nearest(self,line,m,y):\n",
    "        index = 1\n",
    "        while self.line_info[line][m][index].y < y:\n",
    "            index = index + 1    \n",
    "        up_ind = self.line_info[line][m][index-1].index\n",
    "        down_ind = self.line_info[line][m][index].index\n",
    "        return up_ind, down_ind, index\n",
    "    \n",
    "    \n",
    "    def fn_insert_line_info(self,line,m,index,y,index_leg,isright):\n",
    "        self.line_info[line][m].insert(index,cLineInfo(y,index_leg,isright))\n",
    "        return True\n",
    "    \n",
    "    def fn_lieb_add(self, index, p1, p2):\n",
    "        t1 = self.map[index][p1]\n",
    "        t2 = self.map[index][p2]\n",
    "        if not t1 == p2:\n",
    "            self.map[index][t1] = t2\n",
    "            self.map[index][t2] = t1\n",
    "            self.map[index][p1] = p2\n",
    "            self.map[index][p2] = p1\n",
    "            \n",
    "            \n",
    "        "
   ]
  },
  {
   "cell_type": "code",
   "execution_count": 106,
   "metadata": {},
   "outputs": [
    {
     "name": "stdout",
     "output_type": "stream",
     "text": [
      "3\n",
      "7\n",
      "1\n",
      "[4, 5, 6, 7, 0, 1, 2, 3]\n",
      "[4, 5, 3, 2, 0, 1, 7, 6]\n",
      "[4, 6, 3, 2, 0, 7, 1, 5]\n"
     ]
    },
    {
     "data": {
      "image/png": "[encoded data removed]",
      "text/plain": [
       "<Figure size 432x288 with 1 Axes>"
      ]
     },
     "metadata": {},
     "output_type": "display_data"
    },
    {
     "name": "stdout",
     "output_type": "stream",
     "text": [
      "[3, 4, 0.5999999999999996, 0.5999999999999996]\n"
     ]
    },
    {
     "data": {
      "image/png": "[encoded data removed]",
      "text/plain": [
       "<Figure size 432x288 with 1 Axes>"
      ]
     },
     "metadata": {},
     "output_type": "display_data"
    }
   ],
   "source": [
    "sn = SN(4,6)\n",
    "sn.line_info[2][5][1].y\n",
    "[up, down, ind] = sn.fn_find_nearest(3,5,0.6)\n",
    "print(up)\n",
    "print(down)\n",
    "print(ind)\n",
    "sn.fn_insert_line_info(3,5,ind,0.4,888,True)\n",
    "sn.line_info[3][5][2].index\n",
    "print(sn.map[0])\n",
    "sn.fn_lieb_add(0,2,3)\n",
    "print(sn.map[0])\n",
    "sn.fn_lieb_add(0,7,5)\n",
    "print(sn.map[0])\n",
    "sn.fn_virsualization()\n",
    "sn.fn_virsualization_leg()"
   ]
  },
  {
   "cell_type": "code",
   "execution_count": 102,
   "metadata": {},
   "outputs": [
    {
     "data": {
      "text/plain": [
       "3"
      ]
     },
     "execution_count": 102,
     "metadata": {},
     "output_type": "execute_result"
    }
   ],
   "source": [
    "len(sn.line_info[3][5])"
   ]
  },
  {
   "cell_type": "code",
   "execution_count": 11,
   "metadata": {},
   "outputs": [
    {
     "data": {
      "text/plain": [
       "[8, 1, 2, 3]"
      ]
     },
     "execution_count": 11,
     "metadata": {},
     "output_type": "execute_result"
    }
   ],
   "source": [
    "tv = [1,2,3]\n",
    "tv.insert(-8,8)\n",
    "tv"
   ]
  },
  {
   "cell_type": "code",
   "execution_count": 79,
   "metadata": {},
   "outputs": [
    {
     "data": {
      "text/plain": [
       "[4, 5, 3, 2, 0, 1, 7, 6]"
      ]
     },
     "execution_count": 79,
     "metadata": {},
     "output_type": "execute_result"
    }
   ],
   "source": [
    "sn.map[0]"
   ]
  },
  {
   "cell_type": "code",
   "execution_count": 80,
   "metadata": {},
   "outputs": [
    {
     "data": {
      "text/plain": [
       "[4, 5, 6, 7, 0, 1, 2, 3]"
      ]
     },
     "execution_count": 80,
     "metadata": {},
     "output_type": "execute_result"
    }
   ],
   "source": [
    "sn.map[1]"
   ]
  },
  {
   "cell_type": "code",
   "execution_count": null,
   "metadata": {
    "collapsed": true
   },
   "outputs": [],
   "source": []
  }
 ],
 "metadata": {
  "kernelspec": {
   "display_name": "Python 3",
   "language": "python",
   "name": "python3"
  },
  "language_info": {
   "codemirror_mode": {
    "name": "ipython",
    "version": 3
   },
   "file_extension": ".py",
   "mimetype": "text/x-python",
   "name": "python",
   "nbconvert_exporter": "python",
   "pygments_lexer": "ipython3",
   "version": "3.6.2"
  }
 },
 "nbformat": 4,
 "nbformat_minor": 2
}
