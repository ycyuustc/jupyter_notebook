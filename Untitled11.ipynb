{
 "cells": [
  {
   "cell_type": "code",
   "execution_count": 54,
   "metadata": {
    "collapsed": true
   },
   "outputs": [],
   "source": [
    "import numpy as np"
   ]
  },
  {
   "cell_type": "code",
   "execution_count": 16,
   "metadata": {
    "collapsed": true
   },
   "outputs": [],
   "source": [
    "class Calculator:\n",
    "    name = 'Good calculator'\n",
    "    price = 18\n",
    "    def add(self,x,y):\n",
    "        print(self.name)\n",
    "    def minus(self,x,y):\n",
    "        result = x - y\n",
    "        print(result)\n",
    "    def times(self,x,y):\n",
    "        print(x*y)\n",
    "    def divide(self,x,y):\n",
    "        result = self.add(x,y)  "
   ]
  },
  {
   "cell_type": "code",
   "execution_count": 463,
   "metadata": {
    "collapsed": true
   },
   "outputs": [],
   "source": [
    "class StringNet:\n",
    "    \n",
    "    \n",
    "    # Initialization of the StringNet Object\n",
    "    def __init__(self,N):\n",
    "        self.circle = [0 for i in range(N)]\n",
    "        self.leg = [[]]\n",
    "        self.pipe = [[] for i in range(N)]\n",
    "        self.line = [[] for i in range(N)]\n",
    "        self.vbegin = [i for i in range(N)]\n",
    "        self.circle_number = N\n",
    "        self.stack_circle = [[],N]\n",
    "        self.stack_leg = [[],1]  \n",
    "        self.N = N\n",
    "        \n",
    "    def fn_print(self):\n",
    "        print('============================================')\n",
    "        print('circle:')\n",
    "        print(self.circle)\n",
    "        print('leg:')\n",
    "        print(self.leg)\n",
    "        print('pipe:')\n",
    "        print(self.pipe)\n",
    "        print('line:')\n",
    "        print(self.line)\n",
    "        print('vbegin:')\n",
    "        print(self.vbegin)\n",
    "        print('stack_circle:')\n",
    "        print(self.stack_circle)\n",
    "        print('stack_leg')\n",
    "        print(self.stack_leg)\n",
    "        print('============================================')\n",
    "    \n",
    "    # find the circle index at position (line,y)\n",
    "    def fn_find_circle(self,line,y):\n",
    "        \n",
    "        if not self.line[line]:\n",
    "            ind_leg_up = -1\n",
    "            ind_leg_down = -1\n",
    "            circle_label = self.vbegin[line]\n",
    "        else:\n",
    "            # tm = self.line[line]\n",
    "            tv = [self.line[line][i][1] for i in range(len(self.line[line]))]\n",
    "            (ind_up,ind_down) = self.fn_find_nearest(y,tv)\n",
    "            if ind_up!=-1:\n",
    "                ind_leg_up = self.line[line][ind_up][0]\n",
    "                ind_leg_down = self.line[line][ind_down][0]\n",
    "                circle_label = self.leg[ind_leg_up][3]\n",
    "            else:\n",
    "                ind_leg_up = -1\n",
    "                ind_leg_down = -1\n",
    "                circle_label = -1\n",
    "        return ind_leg_up,ind_leg_down,circle_label\n",
    "    \n",
    "    # find the nearest index to the value y, in the vector vy\n",
    "    def fn_find_nearest(self,y,vy):\n",
    "        smod = lambda x: x + 1 - int(1+x)\n",
    "        tv = [smod(vy[i] - y) for i in range(0,len(vy))]\n",
    "        ind_up = tv.index(max(tv))\n",
    "        ind_down = tv.index(min(tv))\n",
    "        if min(tv)==0:\n",
    "            ind_up = -1\n",
    "            ind_down = -1\n",
    "        return ind_up,ind_down   \n",
    "     \n",
    "    # The functions \n",
    "    #    fn_stack_leg_pull()\n",
    "    #    fn_stack_leg_push()\n",
    "    #    fn_stack_circle_pull()\n",
    "    #    fn_stack_circle_push()\n",
    "    # maintain the stack for generation of the index of the legs and circles\n",
    "    # respectively. \n",
    "    def fn_stack_leg_pull(self):\n",
    "        if not self.stack_leg[0]:\n",
    "            num_leg = self.stack_leg[1]\n",
    "            self.stack_leg[1] = num_leg + 1\n",
    "        else:\n",
    "            num_leg = self.stack_leg[0][-1]\n",
    "            self.stack_leg[0].pop()\n",
    "        return num_leg\n",
    "            \n",
    "    def fn_stack_leg_push(self,index):\n",
    "        self.stack_leg[0].append(index)\n",
    "        \n",
    "    def fn_stack_circle_pull(self):\n",
    "        if not self.stack_circle[0]:\n",
    "            num_circle = self.stack_circle[1]\n",
    "            self.stack_circle[1] = num_leg + 1\n",
    "        else:\n",
    "            num_circle = self.stack_circle[0][-1]\n",
    "            self.stack_circle[0].pop()\n",
    "        return num_circle\n",
    "            \n",
    "    def fn_stack_circle_push(self,index):\n",
    "        self.stack_circle[0].append(index)\n",
    "        \n",
    "    # def fn_update_leg(self):\n",
    "        \n",
    "    def fn_update_line(self,line,num_leg,y):\n",
    "        if not self.line[line]:\n",
    "            self.line[line] = [[num_leg,y]]\n",
    "            return\n",
    "        \n",
    "        tv = [self.line[line][i][1] for i in range(len(self.line[line]))]\n",
    "        ind_large = None\n",
    "        for ind_large in (x for x in range(len(tv)) if tv[x]>y): break\n",
    "        if ind_large==None:\n",
    "            self.line[line].append([num_leg,y])\n",
    "        else:\n",
    "            self.line[line] = self.line[line][:ind_large] + [[num_leg,y]] \\\n",
    "            + self.line[line][ind_large:]\n",
    "            \n",
    "    def fn_update_line2(self,line,num_leg):\n",
    "        tv = [self.line[line][i][0] for i in range(len(self.line[line]))]\n",
    "        index = tv.index(num_leg)\n",
    "        self.line[line].pop(index)\n",
    "        \n",
    "            \n",
    "    def fn_update_pipe(self,pipe,num_leg,y):\n",
    "        if not self.pipe[pipe]:\n",
    "            self.pipe[pipe] = [[num_leg,y]]\n",
    "            return\n",
    "        \n",
    "        tv = [self.pipe[pipe][i][1] for i in range(len(self.pipe[pipe]))]\n",
    "        ind_large = None\n",
    "        for ind_large in (x for x in range(len(tv)) if tv[x]>y): break\n",
    "        if ind_large==None:\n",
    "            self.pipe[pipe].append([num_leg,y])\n",
    "        else:\n",
    "            self.pipe[pipe] = self.pipe[pipe][:ind_large] + [[num_leg,y]] \\\n",
    "            + self.pipe[pipe][ind_large:]\n",
    "    \n",
    "    def fn_update_pipe2(self,pipe,num_leg):\n",
    "        tv = [self.pipe[pipe][i][0] for i in range(len(self.pipe[pipe]))]\n",
    "        index = tv.index(num_leg)\n",
    "        self.pipe[pipe].pop(index)\n",
    "    \n",
    "    def fn_update_leg(self,circle_number):\n",
    "        if self.circle[circle_number]!=0:\n",
    "            for x in range(len(self.circle[circle_number])):\n",
    "                if x%2==0:\n",
    "                    leg_number = self.circle[circle_number][x]\n",
    "                    self.leg[leg_number][2] = circle_number\n",
    "                else:\n",
    "                    leg_number = -self.circle[circle_number][x]\n",
    "                    self.leg[leg_number][3] = circle_number\n",
    "                \n",
    "                \n",
    "    def fn_find_leg(self,ind_leg):\n",
    "        pipe = self.leg[ind_leg][0]\n",
    "        line1 = pipe\n",
    "        line2 = (pipe+1)%self.N\n",
    "        n1 = len(self.line[line1])\n",
    "        n2 = len(self.line[line2])\n",
    "        p1 = [self.line[line1][i][0] for i in range(n1)].index(ind_leg)\n",
    "        p2 = [self.line[line2][i][0] for i in range(n2)].index(ind_leg)\n",
    "        left_up = self.line[line1][(p1-1)%n1][0]\n",
    "        left_down = self.line[line1][(p1+1)%n1][0]\n",
    "        right_up = self.line[line2][(p2-1)%n2][0]\n",
    "        right_down = self.line[line2][(p2+1)%n2][0]\n",
    "        return left_up,right_up,left_down,right_down\n",
    "    \n",
    "    # Insert the leg\n",
    "    def fn_insert_leg(self,pipe,y):\n",
    "        # line1 and line2 are lines of the left-side and right-side of the pipe\n",
    "        # respectively\n",
    "        line1 = pipe\n",
    "        line2 = (pipe+1)%self.N\n",
    "        (leg_up_left,leg_down_left,circle_left) = self.fn_find_circle(line1,y)\n",
    "        (leg_up_right,leg_down_right,circle_right) = self.fn_find_circle(line2,y)\n",
    "        \n",
    "        # res = -1 means the failure of the insertion\n",
    "        if circle_left==-1 or circle_right==-1:\n",
    "            res = -1\n",
    "            print('return')\n",
    "            return -1\n",
    "        else:\n",
    "            res = 1\n",
    "        \n",
    "        # pull a index \"num_leg\" for the new generated leg\n",
    "        num_leg = self.fn_stack_leg_pull()\n",
    "        if num_leg==len(self.leg):\n",
    "            self.leg.append([pipe,y,-1,-1])\n",
    "        else:\n",
    "            self.leg[num_leg] = [pipe,y,-1,-1]\n",
    "        \n",
    "        # left circle and right circle are all empty circle\n",
    "        if (self.circle[circle_left]==0) and (self.circle[circle_right]==0):\n",
    "            num1 = min([circle_left,circle_right])\n",
    "            num2 = max([circle_left,circle_right])\n",
    "            self.circle[num1] = [num_leg,-num_leg]\n",
    "            self.circle[num2] = []\n",
    "            self.fn_stack_circle_push(num2) # the circle[num2] is deleted\n",
    "            self.fn_update_leg(num1)\n",
    "        # left empty but right not\n",
    "        elif (self.circle[circle_left]==0) and (not self.circle[circle_right]==0):\n",
    "            num1 = min([circle_left,circle_right])\n",
    "            num2 = max([circle_left,circle_right])\n",
    "            tv = self.circle[circle_right][:]\n",
    "            point_plus = tv.index(leg_down_right)\n",
    "            point_minus = tv.index(-leg_up_right)\n",
    "            if point_plus+1==point_minus:\n",
    "                self.circle[num1] = tv[0:point_plus+1] + [-num_leg,num_leg] \\\n",
    "                + tv[point_minus:]\n",
    "            elif point_plus-1==point_minus:\n",
    "                self.circle[num1] = tv[0:point_minus+1] + [num_leg,-num_leg] \\\n",
    "                + tv[point_plus:]\n",
    "            else:\n",
    "                self.circle[num1] = tv + [num_leg,-num_leg]\n",
    "            self.circle[num2] = []\n",
    "            self.fn_stack_circle_push(num2)\n",
    "            self.fn_update_leg(num1)\n",
    "        # right empty but left not\n",
    "        elif (not self.circle[circle_left]==0) and (self.circle[circle_right]==0):       \n",
    "            num1 = min([circle_left,circle_right])\n",
    "            num2 = max([circle_left,circle_right])\n",
    "            tv = self.circle[circle_left][:]\n",
    "            point_plus = tv.index(leg_down_left)\n",
    "            point_minus = tv.index(-leg_up_left)\n",
    "            if point_plus+1==point_minus:\n",
    "                self.circle[num1] = tv[0:point_plus+1] + [-num_leg,num_leg] \\\n",
    "                + tv[point_minus:]\n",
    "            elif point_plus-1==point_minus:\n",
    "                self.circle[num1] = tv[0:point_minus+1] + [num_leg,-num_leg] \\\n",
    "                + tv[point_plus:]\n",
    "            else:\n",
    "                self.circle[num1] = tv + [num_leg,-num_leg]\n",
    "            self.circle[num2] = []\n",
    "            self.fn_stack_circle_push(num2)  \n",
    "            self.fn_update_leg(num1)\n",
    "        else:  # if the left and the right circles are not empty\n",
    "            \n",
    "            # if the left and right circles are different\n",
    "            if circle_left!=circle_right:\n",
    "                num1 = min([circle_left,circle_right])\n",
    "                num2 = max([circle_left,circle_right])\n",
    "                tv1 = self.circle[circle_left][:]\n",
    "                tv2 = self.circle[circle_right][:]\n",
    "                p1_plus = tv1.index(leg_down_left)\n",
    "                p1_minus = tv1.index(-leg_up_left)\n",
    "                p2_plus = tv2.index(leg_down_right)\n",
    "                p2_minus = tv2.index(-leg_up_right)\n",
    "                \n",
    "                if p1_plus+1==p1_minus:\n",
    "                    if p2_plus+1==p2_minus:\n",
    "                        tv_ins = tv2[p2_minus:] + tv2[:p2_plus+1]\n",
    "                        tv_ins.reverse()\n",
    "                        self.circle[num1] = tv1[:p1_plus+1] + [-num_leg] \\\n",
    "                        + tv_ins + [num_leg] + tv1[p1_minus:]\n",
    "                    elif p2_plus-1==p2_minus:\n",
    "                        tv_ins = tv2[p2_plus:] + tv2[:p2_minus+1]\n",
    "                        self.circle[num1] = tv1[:p1_plus+1] + [-num_leg] \\\n",
    "                        + tv_ins + [num_leg] + tv1[p1_minus:]\n",
    "                    else:\n",
    "                        self.circle[num1] = tv1[:plus+1] + [-num_leg] + tv2 \\\n",
    "                        + [num_leg] + tv1[p1_minus:]\n",
    "                elif p1_plus-1==p1_minus:\n",
    "                    if p2_plus+1==p2_minus:\n",
    "                        tv_ins = tv2[p2_minus:] + tv2[:p2_plus+1]\n",
    "                        self.circle[num1] = tv1[:p1_minus+1] + [num_leg] \\\n",
    "                        + tv_ins + [-num_leg] + tv1[p1_plus:]\n",
    "                    elif p2_plus-1==p2_minus:\n",
    "                        tv_ins = tv2[p2_plus:] + tv2[:p2_minus+1]\n",
    "                        tv_ins.reverse()\n",
    "                        self.circle[num1] = tv1[:p1_minus+1] + [num_leg] \\\n",
    "                        + tv_ins + [-num_leg] + tv1[p1_plus:]\n",
    "                    else:\n",
    "                        tv_ins = tv2[:]\n",
    "                        tv_ins.reverse()\n",
    "                        self.circle[num1] = tv1[:p1_minus+1] + [num_leg] \\\n",
    "                        + tv_ins + [-num_leg] + tv1[p1_plus:]\n",
    "                else:\n",
    "                    if p2_plus+1==p2_minus:\n",
    "                        tv_ins = tv2[p2_minus:] + tv2[:p2_plus+1]\n",
    "                        self.circle[num1] = tv1 + [num_leg] + tv_ins + [-num_leg]\n",
    "                    elif p2_plus-1==p2_minus:\n",
    "                        tv_ins = tv2[p2_plus:] + tv2[:p2_minus+1]\n",
    "                        tv_ins.reverse()\n",
    "                        self.circle[num1] = tv1 + [num_leg] + tv_ins + [-num_leg]\n",
    "                    else:\n",
    "                        tv_ins = tv2[:];\n",
    "                        tv_ins.reverse()\n",
    "                        self.circle[num1] = tv1 + [num_leg] + tv_ins + [-num_leg]\n",
    "                        \n",
    "                self.circle[num2] = []\n",
    "                self.fn_stack_circle_push(num2)\n",
    "                self.fn_update_leg(num1)\n",
    "                \n",
    "            else: # if the left circle and the right circle are the same \n",
    "                \n",
    "                # need to seperate one circle, so we need a new circle index\n",
    "                num_circle = self.fn_stack_circle_pull()\n",
    "                if leg_up_left==leg_up_right and leg_down_left==leg_down_right:\n",
    "                    self.circle[circle_left] = [num_leg,-leg_up_left]\n",
    "                    self.circle[num_circle] = [leg_down_left,-num_leg] \n",
    "                elif leg_up_left==leg_up_right and leg_down_left!=leg_down_right:\n",
    "                    tv = self.circle[circle_left][:]\n",
    "                    tv[tv.index(-leg_up_left)] = -num_leg\n",
    "                    self.circle[circle_left] = tv\n",
    "                    self.circle[num_circle] = [num_leg,-leg_up_left]\n",
    "                elif leg_up_left!=leg_up_right and leg_down_left==leg_down_right:\n",
    "                    tv = self.circle[circle_left][:]\n",
    "                    tv[tv.index(leg_down_left)] = num_leg\n",
    "                    self.circle[circle_left] = tv\n",
    "                    self.circle[num_circle] = [leg_down_left,-num_leg]\n",
    "                else:\n",
    "                    tv = self.circle[circle_left][:]  # the big circle\n",
    "                    p1_plus = tv.index(leg_down_left)\n",
    "                    p1_minus = tv.index(-leg_up_left)\n",
    "                    p2_plus = tv.index(leg_down_right)\n",
    "                    p2_minus = tv.index(-leg_up_right)\n",
    "                    if p1_plus+1==p1_minus:\n",
    "                        if p1_minus<p2_minus and p2_minus<p2_plus:\n",
    "                            self.circle[circle_left] = tv[p2_plus:] + tv[:p1_plus+1] + [-num_leg]\n",
    "                            self.circle[num_circle] = [num_leg] + tv[p1_minus:p2_minus+1]\n",
    "                        elif p1_minus>p2_minus:\n",
    "                            self.circle[circle_left] = [num_leg] + tv[p1_minus:] + tv[:p2_minus+1]\n",
    "                            self.circle[num_circle] = tv[p2_plus:p1_plus+1] + [-num_leg] \n",
    "                        else:\n",
    "                            self.circle[circle_left] = tv[p2_plus:p1_plus+1] + [-num_leg]\n",
    "                            self.circle[num_circle] = [num_leg] + tv[p1_minus:p2_minus+1]\n",
    "                    elif p1_plus-1==p1_minus:\n",
    "                        if p1_plus<p2_plus:\n",
    "                            self.circle[circle_left] = tv[p1_plus:p2_plus+1] + [-num_leg]\n",
    "                            self.circle[num_circle] = [num_leg] + tv[p2_minus:] + tv[:p1_minus+1]\n",
    "                        else:\n",
    "                            self.circle[circle_left] = tv[p1_plus:] + tv[:p2_plus+1] + [-num_leg]\n",
    "                            self.circle[num_circle] = [num_leg] + tv[p2_minus:p1_minus+1]\n",
    "                    else:\n",
    "                        self.circle[circle_left] = tv[p1_plus:p2_plus+1] + [-num_leg]\n",
    "                        self.circle[num_circle] = [num_leg] + tv[p2_minus:p1_minus+1]\n",
    "                self.fn_update_leg(circle_left)\n",
    "                self.fn_update_leg(num_circle)\n",
    "                \n",
    "        self.fn_update_line(line1,num_leg,y)\n",
    "        self.fn_update_line(line2,num_leg,y)\n",
    "        self.fn_update_pipe(pipe,num_leg,y)\n",
    "    \n",
    "    \n",
    "    #     \n",
    "    def fn_delete_leg(self,ind_leg):\n",
    "        circle_up = self.leg[ind_leg][2]\n",
    "        circle_down = self.leg[ind_leg][3]\n",
    "        pipe = self.leg[ind_leg][0]\n",
    "        line1 = pipe\n",
    "        line2 = (pipe+1)%self.N\n",
    "        \n",
    "        if circle_up==circle_down:\n",
    "            new_circle = self.fn_stack_circle_pull()\n",
    "            tv = self.circle[circle_up][:]\n",
    "            length_circle = len(tv)\n",
    "            if length_circle==2:\n",
    "                self.circle[circle_up] = 0\n",
    "                self.circle[new_circle] = 0\n",
    "                self.vbegin[line1] = circle_up\n",
    "                self.vbegin[line2] = new_circle\n",
    "            else:\n",
    "                p_plus = tv.index(ind_leg)\n",
    "                p_minus = tv.index(-ind_leg)\n",
    "                if p_minus+1==p_plus:\n",
    "                    p_add = p_plus + 1\n",
    "                    leg_next = -tv[p_add]\n",
    "                    line1_next = self.leg[leg_next][0]\n",
    "                    self.circle[circle_up] = 0\n",
    "                    tv2 = tv[p_add:] + tv[:p_minus]\n",
    "                    tv2.reverse()\n",
    "                    self.circle[new_circle] = tv2\n",
    "                    if (line1_next-line1)%self.N==1:\n",
    "                        self.vbegin[line1] = circle_up\n",
    "                    elif (line1_next-line1)%self.N==self.N-1:\n",
    "                        self.vbegin[line2] = circle_up\n",
    "                    else:\n",
    "                        print('error')\n",
    "                        return\n",
    "                elif p_plus+1==p_minus:\n",
    "                    p_add = p_minus%length_circle + 1\n",
    "                    leg_next = tv[p_add]\n",
    "                    line1_next = self.leg[leg_next][0]\n",
    "                    self.circle[circle_up] = 0\n",
    "                    tv2 = tv[p_minus+1:] + tv[:p_plus]\n",
    "                    self.circle[new_circle] = tv2\n",
    "                    if (line1_next-line1)%self.N==1:\n",
    "                        self.vbegin[line1] = circle_up\n",
    "                    elif (line1_next-line1)%self.N==self.N-1:\n",
    "                        self.vbegin[line2] = circle_up\n",
    "                    else:\n",
    "                        print('error')\n",
    "                        return\n",
    "                elif p_plus==0 and p_minus==length_circle-1:\n",
    "                    p_add = 1\n",
    "                    leg_next = -tv[p_add]\n",
    "                    line1_next = self.leg[leg_next][0]\n",
    "                    self.circle[circle_up] = 0\n",
    "                    tv2 = tv[1:-1]\n",
    "                    tv2.reverse()\n",
    "                    self.circle[new_circle] = tv2\n",
    "                    if (line1_next-line1)%self.N==1:\n",
    "                        self.vbegin[line1] = circle_up\n",
    "                    elif (line1_next-line1)%self.N==self.N-1:\n",
    "                        self.vbegin[line2] = circle_up\n",
    "                    else:\n",
    "                        print('error')\n",
    "                        return\n",
    "                else:\n",
    "                    p_plus = tv.index(ind_leg)\n",
    "                    p_minus = tv.index(-ind_leg)\n",
    "                    if p_minus<p_plus:\n",
    "                        self.circle[circle_up] = tv[p_minus+1:p_plus]\n",
    "                        tv2 = tv[p_plus+1:] + tv[:p_minus]\n",
    "                        tv2.reverse()\n",
    "                        self.circle[new_circle] = tv2\n",
    "                    else:\n",
    "                        self.circle[circle_up] = tv[p_minus+1:] + tv[:p_plus]\n",
    "                        tv2 = tv[p_plus+1:p_minus]\n",
    "                        tv2.reverse()\n",
    "                        self.circle[new_circle] = tv2\n",
    "            self.leg[ind_leg] = []\n",
    "            self.fn_update_leg(circle_up)\n",
    "            self.fn_update_leg(new_circle)\n",
    "        else:\n",
    "            (left_up,right_up,left_down,right_down) = self.fn_find_leg(ind_leg)\n",
    "            v_upc = self.circle[self.leg[ind_leg][2]]\n",
    "            v_dnc = self.circle[self.leg[ind_leg][3]]\n",
    "            p1_plus = v_upc.index(ind_leg)\n",
    "            p1_minus =v_upc.index(-left_up)\n",
    "            p2_minus = v_dnc.index(-ind_leg)\n",
    "            p2_plus = v_dnc.index(left_down)\n",
    "            \n",
    "            if p1_minus<p1_plus or (p1_minus==len(v_upc)-1 and p1_plus==0):\n",
    "                order1 = True\n",
    "            else:\n",
    "                order1 = False\n",
    "            if p2_minus<p2_plus or (p2_minus==len(v_dnc)-1 and p2_plus==0):\n",
    "                order2 = False\n",
    "            else:\n",
    "                order2 = True\n",
    "                \n",
    "            tv1 = v_upc[p1_plus+1:] + v_upc[:p1_plus]\n",
    "            tv2 = v_dnc[p2_minus+1:] + v_dnc[:p2_minus]\n",
    "            \n",
    "            if (order1 and (not order2)) or ((not order2) and order1):\n",
    "                self.circle[circle_up] = tv2 + tv1\n",
    "            else:\n",
    "                tv1.reverse()\n",
    "                self.circle[circle_up] = tv2 + tv1\n",
    "                \n",
    "            self.circle[circle_down] = []\n",
    "            self.fn_stack_circle_push(circle_down)\n",
    "            self.leg[ind_leg] = []\n",
    "            self.fn_update_leg(circle_up)\n",
    "        \n",
    "        self.fn_update_line2(line1,ind_leg)\n",
    "        self.fn_update_line2(line2,ind_leg)\n",
    "        self.fn_update_pipe2(pipe,ind_leg)\n",
    "        \n",
    "        self.fn_stack_leg_push(ind_leg)\n",
    "        \n",
    "            \n",
    "            "
   ]
  },
  {
   "cell_type": "code",
   "execution_count": 464,
   "metadata": {},
   "outputs": [
    {
     "name": "stdout",
     "output_type": "stream",
     "text": [
      "============================================\n",
      "circle:\n",
      "[[1, -1], [], 0, 0]\n",
      "leg:\n",
      "[[], [0, 0.5, 0, 0]]\n",
      "pipe:\n",
      "[[[1, 0.5]], [], [], []]\n",
      "line:\n",
      "[[[1, 0.5]], [[1, 0.5]], [], []]\n",
      "vbegin:\n",
      "[0, 1, 2, 3]\n",
      "stack_circle:\n",
      "[[1], 4]\n",
      "stack_leg\n",
      "[[], 2]\n",
      "============================================\n",
      "============================================\n",
      "circle:\n",
      "[[1, -2, 2, -1], [], [], 0]\n",
      "leg:\n",
      "[[], [0, 0.5, 0, 0], [1, 0.6, 0, 0]]\n",
      "pipe:\n",
      "[[[1, 0.5]], [[2, 0.6]], [], []]\n",
      "line:\n",
      "[[[1, 0.5]], [[1, 0.5], [2, 0.6]], [[2, 0.6]], []]\n",
      "vbegin:\n",
      "[0, 1, 2, 3]\n",
      "stack_circle:\n",
      "[[1, 2], 4]\n",
      "stack_leg\n",
      "[[], 3]\n",
      "============================================\n",
      "============================================\n",
      "circle:\n",
      "[0, [], [2, -2], 0]\n",
      "leg:\n",
      "[[], [], [1, 0.6, 2, 2]]\n",
      "pipe:\n",
      "[[], [[2, 0.6]], [], []]\n",
      "line:\n",
      "[[], [[2, 0.6]], [[2, 0.6]], []]\n",
      "vbegin:\n",
      "[0, 1, 2, 3]\n",
      "stack_circle:\n",
      "[[1], 4]\n",
      "stack_leg\n",
      "[[1], 3]\n",
      "============================================\n"
     ]
    }
   ],
   "source": [
    "sn = StringNet(4)\n",
    "sn.fn_insert_leg(0,0.5)\n",
    "sn.fn_print()\n",
    "sn.fn_insert_leg(1,0.6)\n",
    "sn.fn_print()\n",
    "sn.fn_delete_leg(1)\n",
    "sn.fn_print()"
   ]
  },
  {
   "cell_type": "code",
   "execution_count": 473,
   "metadata": {},
   "outputs": [
    {
     "name": "stdout",
     "output_type": "stream",
     "text": [
      "============================================\n",
      "circle:\n",
      "[0, 0, 0, 0]\n",
      "leg:\n",
      "[[], [], [], [], [], [], [], [], []]\n",
      "pipe:\n",
      "[[], [], [], []]\n",
      "line:\n",
      "[[], [], [], []]\n",
      "vbegin:\n",
      "[3, 1, 0, 2]\n",
      "stack_circle:\n",
      "[[], 4]\n",
      "stack_leg\n",
      "[[2, 3, 8, 1, 4, 5, 7, 6], 9]\n",
      "============================================\n"
     ]
    }
   ],
   "source": [
    "sn = StringNet(4)\n",
    "sn.fn_insert_leg(0,0.5)\n",
    "sn.fn_insert_leg(1,0.1)\n",
    "sn.fn_insert_leg(1,0.2)\n",
    "sn.fn_insert_leg(1,0.3)\n",
    "sn.fn_insert_leg(2,0.25)\n",
    "sn.fn_insert_leg(2,0.4)\n",
    "sn.fn_insert_leg(3,0.1)\n",
    "sn.fn_insert_leg(3,0.2)\n",
    "sn.fn_delete_leg(2)\n",
    "sn.fn_delete_leg(3)\n",
    "sn.fn_delete_leg(8)\n",
    "sn.fn_delete_leg(1)\n",
    "sn.fn_delete_leg(4)\n",
    "sn.fn_delete_leg(5)\n",
    "sn.fn_delete_leg(7)\n",
    "sn.fn_delete_leg(6)\n",
    "sn.fn_print()"
   ]
  },
  {
   "cell_type": "code",
   "execution_count": 413,
   "metadata": {},
   "outputs": [
    {
     "data": {
      "text/plain": [
       "0"
      ]
     },
     "execution_count": 413,
     "metadata": {},
     "output_type": "execute_result"
    }
   ],
   "source": [
    "len([])"
   ]
  },
  {
   "cell_type": "code",
   "execution_count": 356,
   "metadata": {},
   "outputs": [
    {
     "name": "stdout",
     "output_type": "stream",
     "text": [
      "[[], 3]\n",
      "2\n",
      "[0, 1, 2, 3]\n"
     ]
    }
   ],
   "source": [
    "res = sn.fn_stack_leg_pull()\n",
    "print(sn.stack_leg)\n",
    "print(res)\n",
    "print([i for i in range(4)])"
   ]
  },
  {
   "cell_type": "code",
   "execution_count": 300,
   "metadata": {},
   "outputs": [
    {
     "name": "stdout",
     "output_type": "stream",
     "text": [
      "[0, 1, 2, 3, 4, 5, 6, 7]\n",
      "[0, 1]\n",
      "[0, 1, 2, 3, 4, 5, 6, 7]\n",
      "[0, 1, 2, 3, 4, 5, 6, 7, 0, 1, 2, 3, 4, 5, 6, 7]\n"
     ]
    }
   ],
   "source": [
    "tv = [i for i in range(8)]\n",
    "print(tv)\n",
    "print( \\\n",
    "      tv[0:1+1])\n",
    "print(tv[:8])\n",
    "print(tv+tv)"
   ]
  },
  {
   "cell_type": "code",
   "execution_count": 352,
   "metadata": {},
   "outputs": [
    {
     "name": "stdout",
     "output_type": "stream",
     "text": [
      "[0.1, 0.2, 0.3]\n",
      "[2, 3, 5, 7, 11, 13, 17, 19]\n",
      "2\n",
      "False\n"
     ]
    }
   ],
   "source": [
    "tm = [[1,0.1],[2,0.2],[3,0.3]]\n",
    "ts = [tm[i][1] for i in range(len(tm))]\n",
    "print(ts)\n",
    "ts = [i for i in range(8)]\n",
    "ts = [2,3,5,7,11,13,17,19]\n",
    "print(ts)\n",
    "foo = None\n",
    "for foo in (x for x in range(len(ts)) if ts[x]>3): break\n",
    "print(foo)\n",
    "print(foo==None)"
   ]
  },
  {
   "cell_type": "code",
   "execution_count": 159,
   "metadata": {
    "collapsed": true
   },
   "outputs": [],
   "source": [
    "sn = StringNet(4)"
   ]
  },
  {
   "cell_type": "code",
   "execution_count": 382,
   "metadata": {},
   "outputs": [
    {
     "name": "stdout",
     "output_type": "stream",
     "text": [
      "[[1, 2, 3], [3, 4, 5]]\n",
      "[3, 4]\n",
      "[4, 3, 4]\n"
     ]
    }
   ],
   "source": [
    "tv = [[1,2,3],[3,4,5]]\n",
    "tv2 = tv[1][:2]\n",
    "#tv2[1] = 888\n",
    "print(tv)\n",
    "print(tv2)\n",
    "tv2 = tv2 + tv2\n",
    "tv2.pop(0)\n",
    "print(tv2)"
   ]
  },
  {
   "cell_type": "code",
   "execution_count": 176,
   "metadata": {
    "collapsed": true
   },
   "outputs": [],
   "source": [
    "c = []\n",
    "if 1!=1:\n",
    "    print(111)"
   ]
  },
  {
   "cell_type": "code",
   "execution_count": 179,
   "metadata": {},
   "outputs": [
    {
     "data": {
      "text/plain": [
       "4"
      ]
     },
     "execution_count": 179,
     "metadata": {},
     "output_type": "execute_result"
    }
   ],
   "source": [
    "tm = [[1,2],[3,4]]\n",
    "tm[1][1]"
   ]
  },
  {
   "cell_type": "code",
   "execution_count": 152,
   "metadata": {},
   "outputs": [
    {
     "name": "stdout",
     "output_type": "stream",
     "text": [
      "[0.3873138695512761, 0.3976256362962993, 0.6279174457609953, 0.13815648061924612, 0.2499451737893228, 0.5548969388804081, 0.8039756967331935, 0.5025766985430373, 0.310270810229496, 0.42625380737407914]\n"
     ]
    }
   ],
   "source": [
    "c = [s(c[i]) for i in range(0,len(c))]\n",
    "print(c)"
   ]
  },
  {
   "cell_type": "code",
   "execution_count": 99,
   "metadata": {
    "collapsed": true
   },
   "outputs": [],
   "source": [
    "import random"
   ]
  },
  {
   "cell_type": "code",
   "execution_count": 100,
   "metadata": {},
   "outputs": [
    {
     "data": {
      "text/plain": [
       "0.6635886963027193"
      ]
     },
     "execution_count": 100,
     "metadata": {},
     "output_type": "execute_result"
    }
   ],
   "source": [
    "random.random()"
   ]
  },
  {
   "cell_type": "code",
   "execution_count": 115,
   "metadata": {
    "collapsed": true
   },
   "outputs": [],
   "source": [
    "c = [random.random()-0.5 for i in range(0,10)]"
   ]
  },
  {
   "cell_type": "code",
   "execution_count": 73,
   "metadata": {
    "collapsed": true
   },
   "outputs": [],
   "source": [
    "c = [a[i]+1 for i in range(0,2)]"
   ]
  },
  {
   "cell_type": "code",
   "execution_count": 116,
   "metadata": {},
   "outputs": [
    {
     "data": {
      "text/plain": [
       "[0.3873138695512761,\n",
       " 0.39762563629629943,\n",
       " -0.3720825542390046,\n",
       " 0.138156480619246,\n",
       " 0.2499451737893229,\n",
       " -0.44510306111959186,\n",
       " -0.19602430326680653,\n",
       " -0.4974233014569627,\n",
       " 0.3102708102294959,\n",
       " 0.42625380737407925]"
      ]
     },
     "execution_count": 116,
     "metadata": {},
     "output_type": "execute_result"
    }
   ],
   "source": [
    "c"
   ]
  },
  {
   "cell_type": "code",
   "execution_count": 130,
   "metadata": {},
   "outputs": [
    {
     "data": {
      "text/plain": [
       "6"
      ]
     },
     "execution_count": 130,
     "metadata": {},
     "output_type": "execute_result"
    }
   ],
   "source": [
    "c.index(max(c))"
   ]
  },
  {
   "cell_type": "code",
   "execution_count": 131,
   "metadata": {},
   "outputs": [
    {
     "data": {
      "text/plain": [
       "[0.3873138695512761,\n",
       " 0.3976256362962993,\n",
       " 0.6279174457609954,\n",
       " 0.13815648061924612,\n",
       " 0.2499451737893228,\n",
       " 0.5548969388804081,\n",
       " 0.8039756967331935,\n",
       " 0.5025766985430373,\n",
       " 0.310270810229496,\n",
       " 0.42625380737407914]"
      ]
     },
     "execution_count": 131,
     "metadata": {},
     "output_type": "execute_result"
    }
   ],
   "source": [
    "c"
   ]
  },
  {
   "cell_type": "code",
   "execution_count": 90,
   "metadata": {
    "collapsed": true
   },
   "outputs": [],
   "source": [
    "s = lambda x: x+1-int(1+x)"
   ]
  },
  {
   "cell_type": "code",
   "execution_count": 125,
   "metadata": {},
   "outputs": [
    {
     "ename": "TypeError",
     "evalue": "'module' object is not callable",
     "output_type": "error",
     "traceback": [
      "\u001b[1;31m---------------------------------------------------------------------------\u001b[0m",
      "\u001b[1;31mTypeError\u001b[0m                                 Traceback (most recent call last)",
      "\u001b[1;32m<ipython-input-125-71b001e511c8>\u001b[0m in \u001b[0;36m<module>\u001b[1;34m()\u001b[0m\n\u001b[1;32m----> 1\u001b[1;33m \u001b[0mnp\u001b[0m\u001b[1;33m.\u001b[0m\u001b[0mrandom\u001b[0m\u001b[1;33m(\u001b[0m\u001b[1;33m[\u001b[0m\u001b[1;36m1\u001b[0m\u001b[1;33m,\u001b[0m\u001b[1;36m4\u001b[0m\u001b[1;33m]\u001b[0m\u001b[1;33m)\u001b[0m\u001b[1;33m\u001b[0m\u001b[0m\n\u001b[0m",
      "\u001b[1;31mTypeError\u001b[0m: 'module' object is not callable"
     ]
    }
   ],
   "source": [
    "np.random([1,4])"
   ]
  },
  {
   "cell_type": "markdown",
   "metadata": {},
   "source": [
    "math.modf(1.2)"
   ]
  },
  {
   "cell_type": "code",
   "execution_count": 91,
   "metadata": {},
   "outputs": [
    {
     "data": {
      "text/plain": [
       "0"
      ]
     },
     "execution_count": 91,
     "metadata": {},
     "output_type": "execute_result"
    }
   ],
   "source": [
    "s(0)"
   ]
  },
  {
   "cell_type": "code",
   "execution_count": 92,
   "metadata": {},
   "outputs": [
    {
     "data": {
      "text/plain": [
       "0.10000000000000009"
      ]
     },
     "execution_count": 92,
     "metadata": {},
     "output_type": "execute_result"
    }
   ],
   "source": [
    "s(0.1)"
   ]
  },
  {
   "cell_type": "code",
   "execution_count": 95,
   "metadata": {},
   "outputs": [
    {
     "data": {
      "text/plain": [
       "0.9999"
      ]
     },
     "execution_count": 95,
     "metadata": {},
     "output_type": "execute_result"
    }
   ],
   "source": [
    "s(-0.0001)"
   ]
  },
  {
   "cell_type": "code",
   "execution_count": 20,
   "metadata": {},
   "outputs": [
    {
     "data": {
      "text/plain": [
       "[1, 2, [1, 2]]"
      ]
     },
     "execution_count": 20,
     "metadata": {},
     "output_type": "execute_result"
    }
   ],
   "source": [
    "[1,2,[1,2]]"
   ]
  },
  {
   "cell_type": "code",
   "execution_count": 21,
   "metadata": {},
   "outputs": [
    {
     "name": "stderr",
     "output_type": "stream",
     "text": [
      "ERROR:root:Line magic function `%` not found.\n"
     ]
    }
   ],
   "source": [
    "t = %"
   ]
  },
  {
   "cell_type": "code",
   "execution_count": 22,
   "metadata": {
    "collapsed": true
   },
   "outputs": [],
   "source": [
    "t = [1,2,[1,2]]"
   ]
  },
  {
   "cell_type": "code",
   "execution_count": 23,
   "metadata": {},
   "outputs": [
    {
     "ename": "TypeError",
     "evalue": "'list' object is not callable",
     "output_type": "error",
     "traceback": [
      "\u001b[1;31m---------------------------------------------------------------------------\u001b[0m",
      "\u001b[1;31mTypeError\u001b[0m                                 Traceback (most recent call last)",
      "\u001b[1;32m<ipython-input-23-ef9695810c7a>\u001b[0m in \u001b[0;36m<module>\u001b[1;34m()\u001b[0m\n\u001b[1;32m----> 1\u001b[1;33m \u001b[0mt\u001b[0m\u001b[1;33m(\u001b[0m\u001b[1;36m1\u001b[0m\u001b[1;33m)\u001b[0m\u001b[1;33m\u001b[0m\u001b[0m\n\u001b[0m",
      "\u001b[1;31mTypeError\u001b[0m: 'list' object is not callable"
     ]
    }
   ],
   "source": [
    "t(1)"
   ]
  },
  {
   "cell_type": "code",
   "execution_count": 24,
   "metadata": {},
   "outputs": [
    {
     "data": {
      "text/plain": [
       "2"
      ]
     },
     "execution_count": 24,
     "metadata": {},
     "output_type": "execute_result"
    }
   ],
   "source": [
    "t[1]"
   ]
  },
  {
   "cell_type": "code",
   "execution_count": 25,
   "metadata": {},
   "outputs": [
    {
     "data": {
      "text/plain": [
       "1"
      ]
     },
     "execution_count": 25,
     "metadata": {},
     "output_type": "execute_result"
    }
   ],
   "source": [
    "t[0]"
   ]
  },
  {
   "cell_type": "code",
   "execution_count": 26,
   "metadata": {},
   "outputs": [
    {
     "data": {
      "text/plain": [
       "1"
      ]
     },
     "execution_count": 26,
     "metadata": {},
     "output_type": "execute_result"
    }
   ],
   "source": [
    "t[2][0]"
   ]
  },
  {
   "cell_type": "code",
   "execution_count": 27,
   "metadata": {},
   "outputs": [
    {
     "ename": "IndexError",
     "evalue": "list index out of range",
     "output_type": "error",
     "traceback": [
      "\u001b[1;31m---------------------------------------------------------------------------\u001b[0m",
      "\u001b[1;31mIndexError\u001b[0m                                Traceback (most recent call last)",
      "\u001b[1;32m<ipython-input-27-1c9846052373>\u001b[0m in \u001b[0;36m<module>\u001b[1;34m()\u001b[0m\n\u001b[1;32m----> 1\u001b[1;33m \u001b[0mt\u001b[0m\u001b[1;33m[\u001b[0m\u001b[1;36m2\u001b[0m\u001b[1;33m]\u001b[0m\u001b[1;33m[\u001b[0m\u001b[1;36m2\u001b[0m\u001b[1;33m]\u001b[0m\u001b[1;33m\u001b[0m\u001b[0m\n\u001b[0m",
      "\u001b[1;31mIndexError\u001b[0m: list index out of range"
     ]
    }
   ],
   "source": [
    "t[2][2]"
   ]
  },
  {
   "cell_type": "code",
   "execution_count": 28,
   "metadata": {},
   "outputs": [
    {
     "ename": "TypeError",
     "evalue": "'int' object is not subscriptable",
     "output_type": "error",
     "traceback": [
      "\u001b[1;31m---------------------------------------------------------------------------\u001b[0m",
      "\u001b[1;31mTypeError\u001b[0m                                 Traceback (most recent call last)",
      "\u001b[1;32m<ipython-input-28-13e172c23e3a>\u001b[0m in \u001b[0;36m<module>\u001b[1;34m()\u001b[0m\n\u001b[1;32m----> 1\u001b[1;33m \u001b[0mt\u001b[0m\u001b[1;33m[\u001b[0m\u001b[1;36m1\u001b[0m\u001b[1;33m]\u001b[0m\u001b[1;33m[\u001b[0m\u001b[1;36m1\u001b[0m\u001b[1;33m]\u001b[0m\u001b[1;33m\u001b[0m\u001b[0m\n\u001b[0m",
      "\u001b[1;31mTypeError\u001b[0m: 'int' object is not subscriptable"
     ]
    }
   ],
   "source": [
    "t[1][1]"
   ]
  },
  {
   "cell_type": "code",
   "execution_count": 29,
   "metadata": {},
   "outputs": [
    {
     "data": {
      "text/plain": [
       "2"
      ]
     },
     "execution_count": 29,
     "metadata": {},
     "output_type": "execute_result"
    }
   ],
   "source": [
    "t[1]"
   ]
  },
  {
   "cell_type": "code",
   "execution_count": 30,
   "metadata": {},
   "outputs": [
    {
     "ename": "TypeError",
     "evalue": "'int' object is not subscriptable",
     "output_type": "error",
     "traceback": [
      "\u001b[1;31m---------------------------------------------------------------------------\u001b[0m",
      "\u001b[1;31mTypeError\u001b[0m                                 Traceback (most recent call last)",
      "\u001b[1;32m<ipython-input-30-7c281a239397>\u001b[0m in \u001b[0;36m<module>\u001b[1;34m()\u001b[0m\n\u001b[1;32m----> 1\u001b[1;33m \u001b[0mt\u001b[0m\u001b[1;33m[\u001b[0m\u001b[1;36m1\u001b[0m\u001b[1;33m]\u001b[0m\u001b[1;33m[\u001b[0m\u001b[1;36m0\u001b[0m\u001b[1;33m]\u001b[0m\u001b[1;33m\u001b[0m\u001b[0m\n\u001b[0m",
      "\u001b[1;31mTypeError\u001b[0m: 'int' object is not subscriptable"
     ]
    }
   ],
   "source": [
    "t[1][0]"
   ]
  },
  {
   "cell_type": "code",
   "execution_count": 31,
   "metadata": {
    "collapsed": true
   },
   "outputs": [],
   "source": [
    "tt = [1,[],2]"
   ]
  },
  {
   "cell_type": "code",
   "execution_count": 32,
   "metadata": {},
   "outputs": [
    {
     "data": {
      "text/plain": [
       "[]"
      ]
     },
     "execution_count": 32,
     "metadata": {},
     "output_type": "execute_result"
    }
   ],
   "source": [
    "tt[1]"
   ]
  },
  {
   "cell_type": "code",
   "execution_count": 33,
   "metadata": {},
   "outputs": [
    {
     "ename": "AttributeError",
     "evalue": "'list' object has no attribute 'size'",
     "output_type": "error",
     "traceback": [
      "\u001b[1;31m---------------------------------------------------------------------------\u001b[0m",
      "\u001b[1;31mAttributeError\u001b[0m                            Traceback (most recent call last)",
      "\u001b[1;32m<ipython-input-33-599d6a726eaf>\u001b[0m in \u001b[0;36m<module>\u001b[1;34m()\u001b[0m\n\u001b[1;32m----> 1\u001b[1;33m \u001b[0mtt\u001b[0m\u001b[1;33m[\u001b[0m\u001b[1;36m1\u001b[0m\u001b[1;33m]\u001b[0m\u001b[1;33m.\u001b[0m\u001b[0msize\u001b[0m\u001b[1;33m\u001b[0m\u001b[0m\n\u001b[0m",
      "\u001b[1;31mAttributeError\u001b[0m: 'list' object has no attribute 'size'"
     ]
    }
   ],
   "source": [
    "tt[1].size"
   ]
  },
  {
   "cell_type": "code",
   "execution_count": 34,
   "metadata": {
    "scrolled": true
   },
   "outputs": [
    {
     "ename": "AttributeError",
     "evalue": "'int' object has no attribute 'length'",
     "output_type": "error",
     "traceback": [
      "\u001b[1;31m---------------------------------------------------------------------------\u001b[0m",
      "\u001b[1;31mAttributeError\u001b[0m                            Traceback (most recent call last)",
      "\u001b[1;32m<ipython-input-34-250f54d16b80>\u001b[0m in \u001b[0;36m<module>\u001b[1;34m()\u001b[0m\n\u001b[1;32m----> 1\u001b[1;33m \u001b[0mtt\u001b[0m\u001b[1;33m[\u001b[0m\u001b[1;36m0\u001b[0m\u001b[1;33m]\u001b[0m\u001b[1;33m.\u001b[0m\u001b[0mlength\u001b[0m\u001b[1;33m\u001b[0m\u001b[0m\n\u001b[0m",
      "\u001b[1;31mAttributeError\u001b[0m: 'int' object has no attribute 'length'"
     ]
    }
   ],
   "source": [
    "tt[0].length"
   ]
  },
  {
   "cell_type": "code",
   "execution_count": 35,
   "metadata": {},
   "outputs": [
    {
     "data": {
      "text/plain": [
       "[]"
      ]
     },
     "execution_count": 35,
     "metadata": {},
     "output_type": "execute_result"
    }
   ],
   "source": [
    "tt[1]"
   ]
  },
  {
   "cell_type": "code",
   "execution_count": 37,
   "metadata": {},
   "outputs": [
    {
     "name": "stdout",
     "output_type": "stream",
     "text": [
      "1\n"
     ]
    }
   ],
   "source": [
    "if tt[0]:\n",
    "    print('1')\n",
    "else:\n",
    "    print('2')"
   ]
  },
  {
   "cell_type": "code",
   "execution_count": 3,
   "metadata": {
    "collapsed": true
   },
   "outputs": [],
   "source": [
    "import scipy.stats as stats"
   ]
  },
  {
   "cell_type": "code",
   "execution_count": 5,
   "metadata": {
    "collapsed": true
   },
   "outputs": [],
   "source": [
    "from scipy.stats import binom"
   ]
  },
  {
   "cell_type": "code",
   "execution_count": 6,
   "metadata": {
    "collapsed": true
   },
   "outputs": [],
   "source": [
    "import scipy.stats as st"
   ]
  },
  {
   "cell_type": "code",
   "execution_count": 7,
   "metadata": {
    "collapsed": true
   },
   "outputs": [],
   "source": [
    "rv = st.poisson(2)"
   ]
  },
  {
   "cell_type": "code",
   "execution_count": 8,
   "metadata": {},
   "outputs": [
    {
     "data": {
      "text/plain": [
       "<scipy.stats._distn_infrastructure.rv_frozen at 0x28bf9f95588>"
      ]
     },
     "execution_count": 8,
     "metadata": {},
     "output_type": "execute_result"
    }
   ],
   "source": [
    "rv"
   ]
  },
  {
   "cell_type": "code",
   "execution_count": 9,
   "metadata": {
    "collapsed": true
   },
   "outputs": [],
   "source": [
    "import numpy as np"
   ]
  },
  {
   "cell_type": "code",
   "execution_count": 13,
   "metadata": {},
   "outputs": [
    {
     "data": {
      "text/plain": [
       "9"
      ]
     },
     "execution_count": 13,
     "metadata": {},
     "output_type": "execute_result"
    }
   ],
   "source": [
    "np.random.poisson(lam=5)"
   ]
  },
  {
   "cell_type": "code",
   "execution_count": null,
   "metadata": {
    "collapsed": true
   },
   "outputs": [],
   "source": []
  }
 ],
 "metadata": {
  "kernelspec": {
   "display_name": "Python 3",
   "language": "python",
   "name": "python3"
  },
  "language_info": {
   "codemirror_mode": {
    "name": "ipython",
    "version": 3
   },
   "file_extension": ".py",
   "mimetype": "text/x-python",
   "name": "python",
   "nbconvert_exporter": "python",
   "pygments_lexer": "ipython3",
   "version": "3.5.4"
  }
 },
 "nbformat": 4,
 "nbformat_minor": 2
}
