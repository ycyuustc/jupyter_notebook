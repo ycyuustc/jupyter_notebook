{
 "cells": [
  {
   "cell_type": "code",
   "execution_count": 22,
   "metadata": {
    "collapsed": true
   },
   "outputs": [],
   "source": [
    "import numpy as np\n",
    "import matplotlib.pyplot as plt\n",
    "\n",
    "class StringNet:\n",
    "    \n",
    "    \n",
    "    # Initialization of the StringNet Object\n",
    "    def __init__(self,N):\n",
    "        self.circle = [0 for i in range(N)]\n",
    "        self.leg = [[]]\n",
    "        self.pipe = [[] for i in range(N)]\n",
    "        self.line = [[] for i in range(N)]\n",
    "        self.vbegin = [i for i in range(N)]\n",
    "        self.circle_number = N\n",
    "        self.stack_circle = [[],N]\n",
    "        self.stack_leg = [[],1]  \n",
    "        self.N = N\n",
    "        \n",
    "    def fn_print(self):\n",
    "        print('============================================')\n",
    "        print('circle:')\n",
    "        print(self.circle)\n",
    "        print('leg:')\n",
    "        print(self.leg)\n",
    "        print('pipe:')\n",
    "        print(self.pipe)\n",
    "        print('line:')\n",
    "        print(self.line)\n",
    "        print('vbegin:')\n",
    "        print(self.vbegin)\n",
    "        print('stack_circle:')\n",
    "        print(self.stack_circle)\n",
    "        print('stack_leg')\n",
    "        print(self.stack_leg)\n",
    "        print('============================================')\n",
    "    \n",
    "    # find the circle index at position (line,y)\n",
    "    def fn_find_circle(self,line,y):\n",
    "        \n",
    "        # if the line is empty, fetch the circle number in \"vbegin\"\n",
    "        if not self.line[line]:\n",
    "            ind_leg_up = -1\n",
    "            ind_leg_down = -1\n",
    "            circle_label = self.vbegin[line]\n",
    "        else:\n",
    "            # fetch the y coordinate in the line-th \"line\"\n",
    "            tv = [self.line[line][i][1] for i in range(len(self.line[line]))]\n",
    "            (ind_up,ind_down) = self.fn_find_nearest(y,tv)\n",
    "            if ind_up!=-1:\n",
    "                # fetch the index for the nearest leg \n",
    "                ind_leg_up = self.line[line][ind_up][0]\n",
    "                ind_leg_down = self.line[line][ind_down][0]\n",
    "                circle_label = self.leg[ind_leg_up][3]\n",
    "            else:\n",
    "                # if failuren in the call fn_find_nearest()\n",
    "                ind_leg_up = -1\n",
    "                ind_leg_down = -1\n",
    "                circle_label = -1\n",
    "        return ind_leg_up,ind_leg_down,circle_label\n",
    "    \n",
    "    # find the nearest index to the value y, in the vector vy\n",
    "    def fn_find_nearest(self,y,vy):\n",
    "        # In fact the input \"vy\" is sorted by accsend order\n",
    "        # the function smod() is the same to the mod(x,1) in the matlab\n",
    "        ind_large = None\n",
    "        for ind_large in (x for x in range(len(vy)) if vy[x]>=y): break\n",
    "        if ind_large==None:\n",
    "            ind_up = len(vy) - 1\n",
    "            ind_down = 0\n",
    "        elif vy[ind_large]==y:\n",
    "            ind_up = -1\n",
    "            ind_down = -1\n",
    "        elif ind_large==0:\n",
    "            ind_up = len(vy) - 1\n",
    "            ind_down = 0\n",
    "        else:\n",
    "            ind_up = ind_large - 1\n",
    "            ind_down = ind_large   \n",
    "        # smod = lambda x: x + 1 - int(1+x)\n",
    "        # tv = [smod(vy[i] - y) for i in range(0,len(vy))]\n",
    "        # the method could be improved in the furture\n",
    "        # ind_up = tv.index(max(tv))\n",
    "        # ind_down = tv.index(min(tv))\n",
    "        # if min(tv)==0:\n",
    "        #     ind_up = -1\n",
    "        #     ind_down = -1\n",
    "        return ind_up,ind_down   \n",
    "     \n",
    "    # The functions \n",
    "    #    fn_stack_leg_pull()\n",
    "    #    fn_stack_leg_push()\n",
    "    #    fn_stack_circle_pull()\n",
    "    #    fn_stack_circle_push()\n",
    "    # maintain the stack for generation of the index of the legs and circles\n",
    "    # respectively. \n",
    "    def fn_stack_leg_pull(self):\n",
    "        if not self.stack_leg[0]:\n",
    "            num_leg = self.stack_leg[1]\n",
    "            self.stack_leg[1] = num_leg + 1\n",
    "            self.leg.append([])\n",
    "        else:\n",
    "            num_leg = self.stack_leg[0][-1]\n",
    "            self.stack_leg[0].pop()\n",
    "        return num_leg\n",
    "            \n",
    "    def fn_stack_leg_push(self,index):\n",
    "        self.stack_leg[0].append(index)\n",
    "        \n",
    "    def fn_stack_circle_pull(self):\n",
    "        if not self.stack_circle[0]:\n",
    "            num_circle = self.stack_circle[1]\n",
    "            self.stack_circle[1] = num_circle + 1\n",
    "            self.circle.append([])\n",
    "        else:\n",
    "            num_circle = self.stack_circle[0][-1]\n",
    "            self.stack_circle[0].pop()\n",
    "        return num_circle\n",
    "            \n",
    "    def fn_stack_circle_push(self,index):\n",
    "        self.stack_circle[0].append(index)\n",
    "        \n",
    "    def fn_update_line(self,line,num_leg,y):\n",
    "        if not self.line[line]:\n",
    "            self.line[line] = [[num_leg,y]]\n",
    "            return\n",
    "        \n",
    "        tv = [self.line[line][i][1] for i in range(len(self.line[line]))]\n",
    "        ind_large = None\n",
    "        for ind_large in (x for x in range(len(tv)) if tv[x]>y): break\n",
    "        if ind_large==None:\n",
    "            self.line[line].append([num_leg,y])\n",
    "        else:\n",
    "            self.line[line] = self.line[line][:ind_large] + [[num_leg,y]] \\\n",
    "            + self.line[line][ind_large:]\n",
    "            \n",
    "    def fn_update_line2(self,line,num_leg):\n",
    "        tv = [self.line[line][i][0] for i in range(len(self.line[line]))]\n",
    "        index = tv.index(num_leg)\n",
    "        self.line[line].pop(index)\n",
    "        \n",
    "            \n",
    "    def fn_update_pipe(self,pipe,num_leg,y):\n",
    "        if not self.pipe[pipe]:\n",
    "            self.pipe[pipe] = [[num_leg,y]]\n",
    "            return\n",
    "        \n",
    "        tv = [self.pipe[pipe][i][1] for i in range(len(self.pipe[pipe]))]\n",
    "        ind_large = None\n",
    "        for ind_large in (x for x in range(len(tv)) if tv[x]>y): break\n",
    "        if ind_large==None:\n",
    "            self.pipe[pipe].append([num_leg,y])\n",
    "        else:\n",
    "            self.pipe[pipe] = self.pipe[pipe][:ind_large] + [[num_leg,y]] \\\n",
    "            + self.pipe[pipe][ind_large:]\n",
    "    \n",
    "    def fn_update_pipe2(self,pipe,num_leg):\n",
    "        tv = [self.pipe[pipe][i][0] for i in range(len(self.pipe[pipe]))]\n",
    "        index = tv.index(num_leg)\n",
    "        self.pipe[pipe].pop(index)\n",
    "    \n",
    "    def fn_update_leg(self,circle_number):\n",
    "        if self.circle[circle_number]!=0:\n",
    "            for x in range(len(self.circle[circle_number])):\n",
    "                if x%2==0:\n",
    "                    leg_number = self.circle[circle_number][x]\n",
    "                    self.leg[leg_number][2] = circle_number\n",
    "                else:\n",
    "                    leg_number = -self.circle[circle_number][x]\n",
    "                    self.leg[leg_number][3] = circle_number\n",
    "                \n",
    "                \n",
    "    def fn_find_leg(self,ind_leg):\n",
    "        pipe = self.leg[ind_leg][0]\n",
    "        line1 = pipe\n",
    "        line2 = (pipe+1)%self.N\n",
    "        n1 = len(self.line[line1])\n",
    "        n2 = len(self.line[line2])\n",
    "        p1 = [self.line[line1][i][0] for i in range(n1)].index(ind_leg)\n",
    "        p2 = [self.line[line2][i][0] for i in range(n2)].index(ind_leg)\n",
    "        left_up = self.line[line1][(p1-1)%n1][0]\n",
    "        left_down = self.line[line1][(p1+1)%n1][0]\n",
    "        right_up = self.line[line2][(p2-1)%n2][0]\n",
    "        right_down = self.line[line2][(p2+1)%n2][0]\n",
    "        return left_up,right_up,left_down,right_down\n",
    "    \n",
    "    def fn_crmap2(self,dis):\n",
    "        vx = [self.vbegin[k] if (not self.line[k]) else self.leg[self.line[k][0][0]][2] for k in range(self.N)]\n",
    "        tv = [1 if vx[k]==vx[(k+dis)%self.N] else 0 for k in range(self.N)] \n",
    "        return tv\n",
    "    \n",
    "    def fn_crmap(self,dis):\n",
    "        vx = np.zeros(self.N)\n",
    "        for k in range(self.N):\n",
    "            if not self.line[k]:\n",
    "                vx[k] = self.vbegin[k]\n",
    "            else:\n",
    "                vx[k] = self.leg[self.line[k][0][0]][2]\n",
    "            \n",
    "            vx2 = np.append(vx[dis:],vx[:dis])\n",
    "            \n",
    "        return (vx==vx2).astype('int')\n",
    "    \n",
    "    def fn_which_circle(self):\n",
    "        vx = np.zeros(self.N)\n",
    "        for k in range(self.N):\n",
    "            if not self.line[k]:\n",
    "                vx[k] = self.vbegin[k]\n",
    "            else:\n",
    "                vx[k] = self.leg[self.line[k][0][0]][2]\n",
    "        return vx\n",
    "    \n",
    "    # Insert the leg\n",
    "    def fn_insert_leg(self,pipe,y):\n",
    "        # line1 and line2 are lines of the left-side and right-side of the pipe\n",
    "        # respectively\n",
    "        line1 = pipe\n",
    "        line2 = (pipe+1)%self.N\n",
    "        (leg_up_left,leg_down_left,circle_left) = self.fn_find_circle(line1,y)\n",
    "        (leg_up_right,leg_down_right,circle_right) = self.fn_find_circle(line2,y)\n",
    "        \n",
    "        # res = -1 means the failure of the insertion\n",
    "        if circle_left==-1 or circle_right==-1:\n",
    "            res = -1\n",
    "            print('return')\n",
    "            return -1\n",
    "        else:\n",
    "            res = 1\n",
    "        \n",
    "        # pull a index \"num_leg\" for the new generated leg\n",
    "        num_leg = self.fn_stack_leg_pull()\n",
    "        if num_leg==len(self.leg):\n",
    "            self.leg.append([pipe,y,-1,-1])\n",
    "        else:\n",
    "            self.leg[num_leg] = [pipe,y,-1,-1]\n",
    "        \n",
    "        # left circle and right circle are all empty circle\n",
    "        if (self.circle[circle_left]==0) and (self.circle[circle_right]==0):\n",
    "            num1 = min([circle_left,circle_right])\n",
    "            num2 = max([circle_left,circle_right])\n",
    "            self.circle[num1] = [num_leg,-num_leg]\n",
    "            self.circle[num2] = []\n",
    "            self.fn_stack_circle_push(num2) # the circle[num2] is deleted\n",
    "            self.fn_update_leg(num1)\n",
    "            self.circle_number = self.circle_number - 1\n",
    "        # left empty but right not\n",
    "        elif (self.circle[circle_left]==0) and (not self.circle[circle_right]==0):\n",
    "            num1 = min([circle_left,circle_right])\n",
    "            num2 = max([circle_left,circle_right])\n",
    "            tv = self.circle[circle_right][:]\n",
    "            point_plus = tv.index(leg_down_right)\n",
    "            point_minus = tv.index(-leg_up_right)\n",
    "            if point_plus+1==point_minus:\n",
    "                self.circle[num1] = tv[0:point_plus+1] + [-num_leg,num_leg] \\\n",
    "                + tv[point_minus:]\n",
    "            elif point_plus-1==point_minus:\n",
    "                self.circle[num1] = tv[0:point_minus+1] + [num_leg,-num_leg] \\\n",
    "                + tv[point_plus:]\n",
    "            else:\n",
    "                self.circle[num1] = tv + [num_leg,-num_leg]\n",
    "            self.circle[num2] = []\n",
    "            self.fn_stack_circle_push(num2)\n",
    "            self.fn_update_leg(num1)\n",
    "            self.circle_number = self.circle_number - 1\n",
    "        # right empty but left not\n",
    "        elif (not self.circle[circle_left]==0) and (self.circle[circle_right]==0):       \n",
    "            num1 = min([circle_left,circle_right])\n",
    "            num2 = max([circle_left,circle_right])\n",
    "            tv = self.circle[circle_left][:]\n",
    "            point_plus = tv.index(leg_down_left)\n",
    "            point_minus = tv.index(-leg_up_left)\n",
    "            if point_plus+1==point_minus:\n",
    "                self.circle[num1] = tv[0:point_plus+1] + [-num_leg,num_leg] \\\n",
    "                + tv[point_minus:]\n",
    "            elif point_plus-1==point_minus:\n",
    "                self.circle[num1] = tv[0:point_minus+1] + [num_leg,-num_leg] \\\n",
    "                + tv[point_plus:]\n",
    "            else:\n",
    "                self.circle[num1] = tv + [num_leg,-num_leg]\n",
    "            self.circle[num2] = []\n",
    "            self.fn_stack_circle_push(num2)  \n",
    "            self.fn_update_leg(num1)\n",
    "            self.circle_number = self.circle_number - 1\n",
    "        else:  # if the left and the right circles are not empty\n",
    "            \n",
    "            # if the left and right circles are different\n",
    "            if circle_left!=circle_right:\n",
    "                num1 = min([circle_left,circle_right])\n",
    "                num2 = max([circle_left,circle_right])\n",
    "                tv1 = self.circle[circle_left][:]\n",
    "                tv2 = self.circle[circle_right][:]\n",
    "                p1_plus = tv1.index(leg_down_left)\n",
    "                p1_minus = tv1.index(-leg_up_left)\n",
    "                p2_plus = tv2.index(leg_down_right)\n",
    "                p2_minus = tv2.index(-leg_up_right)\n",
    "                \n",
    "                if p1_plus+1==p1_minus:\n",
    "                    if p2_plus+1==p2_minus:\n",
    "                        tv_ins = tv2[p2_minus:] + tv2[:p2_plus+1]\n",
    "                        tv_ins.reverse()\n",
    "                        self.circle[num1] = tv1[:p1_plus+1] + [-num_leg] \\\n",
    "                        + tv_ins + [num_leg] + tv1[p1_minus:]\n",
    "                    elif p2_plus-1==p2_minus:\n",
    "                        tv_ins = tv2[p2_plus:] + tv2[:p2_minus+1]\n",
    "                        self.circle[num1] = tv1[:p1_plus+1] + [-num_leg] \\\n",
    "                        + tv_ins + [num_leg] + tv1[p1_minus:]\n",
    "                    else:\n",
    "                        self.circle[num1] = tv1[:p1_plus+1] + [-num_leg] + tv2 \\\n",
    "                        + [num_leg] + tv1[p1_minus:]\n",
    "                elif p1_plus-1==p1_minus:\n",
    "                    if p2_plus+1==p2_minus:\n",
    "                        tv_ins = tv2[p2_minus:] + tv2[:p2_plus+1]\n",
    "                        self.circle[num1] = tv1[:p1_minus+1] + [num_leg] \\\n",
    "                        + tv_ins + [-num_leg] + tv1[p1_plus:]\n",
    "                    elif p2_plus-1==p2_minus:\n",
    "                        tv_ins = tv2[p2_plus:] + tv2[:p2_minus+1]\n",
    "                        tv_ins.reverse()\n",
    "                        self.circle[num1] = tv1[:p1_minus+1] + [num_leg] \\\n",
    "                        + tv_ins + [-num_leg] + tv1[p1_plus:]\n",
    "                    else:\n",
    "                        tv_ins = tv2[:]\n",
    "                        tv_ins.reverse()\n",
    "                        self.circle[num1] = tv1[:p1_minus+1] + [num_leg] \\\n",
    "                        + tv_ins + [-num_leg] + tv1[p1_plus:]\n",
    "                else:\n",
    "                    if p2_plus+1==p2_minus:\n",
    "                        tv_ins = tv2[p2_minus:] + tv2[:p2_plus+1]\n",
    "                        self.circle[num1] = tv1 + [num_leg] + tv_ins + [-num_leg]\n",
    "                    elif p2_plus-1==p2_minus:\n",
    "                        tv_ins = tv2[p2_plus:] + tv2[:p2_minus+1]\n",
    "                        tv_ins.reverse()\n",
    "                        self.circle[num1] = tv1 + [num_leg] + tv_ins + [-num_leg]\n",
    "                    else:\n",
    "                        tv_ins = tv2[:];\n",
    "                        tv_ins.reverse()\n",
    "                        self.circle[num1] = tv1 + [num_leg] + tv_ins + [-num_leg]\n",
    "                        \n",
    "                self.circle[num2] = []\n",
    "                self.circle_number = self.circle_number - 1\n",
    "                self.fn_stack_circle_push(num2)\n",
    "                self.fn_update_leg(num1)\n",
    "                \n",
    "            else: # if the left circle and the right circle are the same \n",
    "                \n",
    "                # need to seperate one circle, so we need a new circle index\n",
    "                num_circle = self.fn_stack_circle_pull()\n",
    "                self.circle_number = self.circle_number + 1\n",
    "                if leg_up_left==leg_up_right and leg_down_left==leg_down_right:\n",
    "                    self.circle[circle_left] = [num_leg,-leg_up_left]\n",
    "                    self.circle[num_circle] = [leg_down_left,-num_leg] \n",
    "                elif leg_up_left==leg_up_right and leg_down_left!=leg_down_right:\n",
    "                    tv = self.circle[circle_left][:]\n",
    "                    tv[tv.index(-leg_up_left)] = -num_leg\n",
    "                    self.circle[circle_left] = tv\n",
    "                    self.circle[num_circle] = [num_leg,-leg_up_left]\n",
    "                elif leg_up_left!=leg_up_right and leg_down_left==leg_down_right:\n",
    "                    tv = self.circle[circle_left][:]\n",
    "                    tv[tv.index(leg_down_left)] = num_leg\n",
    "                    self.circle[circle_left] = tv\n",
    "                    self.circle[num_circle] = [leg_down_left,-num_leg]\n",
    "                else:\n",
    "                    tv = self.circle[circle_left][:]  # the big circle\n",
    "                    p1_plus = tv.index(leg_down_left)\n",
    "                    p1_minus = tv.index(-leg_up_left)\n",
    "                    p2_plus = tv.index(leg_down_right)\n",
    "                    p2_minus = tv.index(-leg_up_right)\n",
    "                    if p1_plus+1==p1_minus:\n",
    "                        if p1_minus<p2_minus and p2_minus<p2_plus:\n",
    "                            self.circle[circle_left] = tv[p2_plus:] + tv[:p1_plus+1] + [-num_leg]\n",
    "                            self.circle[num_circle] = [num_leg] + tv[p1_minus:p2_minus+1]\n",
    "                        elif p1_minus>p2_minus:\n",
    "                            self.circle[circle_left] = [num_leg] + tv[p1_minus:] + tv[:p2_minus+1]\n",
    "                            self.circle[num_circle] = tv[p2_plus:p1_plus+1] + [-num_leg] \n",
    "                        else:\n",
    "                            self.circle[circle_left] = tv[p2_plus:p1_plus+1] + [-num_leg]\n",
    "                            self.circle[num_circle] = [num_leg] + tv[p1_minus:p2_minus+1]\n",
    "                    elif p1_plus-1==p1_minus:\n",
    "                        if p1_plus<p2_plus:\n",
    "                            self.circle[circle_left] = tv[p1_plus:p2_plus+1] + [-num_leg]\n",
    "                            self.circle[num_circle] = [num_leg] + tv[p2_minus:] + tv[:p1_minus+1]\n",
    "                        else:\n",
    "                            self.circle[circle_left] = tv[p1_plus:] + tv[:p2_plus+1] + [-num_leg]\n",
    "                            self.circle[num_circle] = [num_leg] + tv[p2_minus:p1_minus+1]\n",
    "                    else:\n",
    "                        self.circle[circle_left] = tv[p1_plus:p2_plus+1] + [-num_leg]\n",
    "                        self.circle[num_circle] = [num_leg] + tv[p2_minus:p1_minus+1]\n",
    "                self.fn_update_leg(circle_left)\n",
    "                self.fn_update_leg(num_circle)\n",
    "                \n",
    "        self.fn_update_line(line1,num_leg,y)\n",
    "        self.fn_update_line(line2,num_leg,y)\n",
    "        self.fn_update_pipe(pipe,num_leg,y)\n",
    "        \n",
    "        return num_leg\n",
    "    \n",
    "    \n",
    "    #     \n",
    "    def fn_delete_leg(self,ind_leg):\n",
    "        circle_up = self.leg[ind_leg][2]\n",
    "        circle_down = self.leg[ind_leg][3]\n",
    "        pipe = self.leg[ind_leg][0]\n",
    "        y = self.leg[ind_leg][1]\n",
    "        line1 = pipe\n",
    "        line2 = (pipe+1)%self.N\n",
    "        \n",
    "        if circle_up==circle_down:\n",
    "            new_circle = self.fn_stack_circle_pull()\n",
    "            self.circle_number = self.circle_number + 1\n",
    "            tv = self.circle[circle_up][:]\n",
    "            length_circle = len(tv)\n",
    "            if length_circle==2:\n",
    "                self.circle[circle_up] = 0\n",
    "                self.circle[new_circle] = 0\n",
    "                self.vbegin[line1] = circle_up\n",
    "                self.vbegin[line2] = new_circle\n",
    "            else:\n",
    "                p_plus = tv.index(ind_leg)\n",
    "                p_minus = tv.index(-ind_leg)\n",
    "                if p_minus+1==p_plus:\n",
    "                    p_add = p_plus + 1\n",
    "                    leg_next = -tv[p_add]\n",
    "                    line1_next = self.leg[leg_next][0]\n",
    "                    self.circle[circle_up] = 0\n",
    "                    tv2 = tv[p_add:] + tv[:p_minus]\n",
    "                    tv2.reverse()\n",
    "                    self.circle[new_circle] = tv2\n",
    "                    if (line1_next-line1)%self.N==1:\n",
    "                        self.vbegin[line1] = circle_up\n",
    "                    elif (line1_next-line1)%self.N==self.N-1:\n",
    "                        self.vbegin[line2] = circle_up\n",
    "                    else:\n",
    "                        print('error')\n",
    "                        return\n",
    "                elif p_plus+1==p_minus:\n",
    "                    p_add = (p_minus+1)%length_circle\n",
    "                    leg_next = tv[p_add]\n",
    "                    line1_next = self.leg[leg_next][0]\n",
    "                    self.circle[circle_up] = 0\n",
    "                    tv2 = tv[p_minus+1:] + tv[:p_plus]\n",
    "                    self.circle[new_circle] = tv2\n",
    "                    if (line1_next-line1)%self.N==1:\n",
    "                        self.vbegin[line1] = circle_up\n",
    "                    elif (line1_next-line1)%self.N==self.N-1:\n",
    "                        self.vbegin[line2] = circle_up\n",
    "                    else:\n",
    "                        print('error')\n",
    "                        return\n",
    "                elif p_plus==0 and p_minus==length_circle-1:\n",
    "                    p_add = 1\n",
    "                    leg_next = -tv[p_add]\n",
    "                    line1_next = self.leg[leg_next][0]\n",
    "                    self.circle[circle_up] = 0\n",
    "                    tv2 = tv[1:-1]\n",
    "                    tv2.reverse()\n",
    "                    self.circle[new_circle] = tv2\n",
    "                    if (line1_next-line1)%self.N==1:\n",
    "                        self.vbegin[line1] = circle_up\n",
    "                    elif (line1_next-line1)%self.N==self.N-1:\n",
    "                        self.vbegin[line2] = circle_up\n",
    "                    else:\n",
    "                        print('error')\n",
    "                        return\n",
    "                else:\n",
    "                    p_plus = tv.index(ind_leg)\n",
    "                    p_minus = tv.index(-ind_leg)\n",
    "                    if p_minus<p_plus:\n",
    "                        self.circle[circle_up] = tv[p_minus+1:p_plus]\n",
    "                        tv2 = tv[p_plus+1:] + tv[:p_minus]\n",
    "                        tv2.reverse()\n",
    "                        self.circle[new_circle] = tv2\n",
    "                    else:\n",
    "                        self.circle[circle_up] = tv[p_minus+1:] + tv[:p_plus]\n",
    "                        tv2 = tv[p_plus+1:p_minus]\n",
    "                        tv2.reverse()\n",
    "                        self.circle[new_circle] = tv2\n",
    "            self.leg[ind_leg] = []\n",
    "            self.fn_update_leg(circle_up)\n",
    "            self.fn_update_leg(new_circle)\n",
    "        else:\n",
    "            (left_up,right_up,left_down,right_down) = self.fn_find_leg(ind_leg)\n",
    "            # print([left_up,right_up,left_down,right_down])\n",
    "            v_upc = self.circle[self.leg[ind_leg][2]]\n",
    "            v_dnc = self.circle[self.leg[ind_leg][3]]\n",
    "            p1_plus = v_upc.index(ind_leg)\n",
    "            p1_minus = v_upc.index(-left_up)\n",
    "            p2_minus = v_dnc.index(-ind_leg)\n",
    "            p2_plus = v_dnc.index(left_down)\n",
    "            \n",
    "            # print([p1_plus,p1_minus,p2_plus,p2_minus])\n",
    "            \n",
    "            if p1_minus<p1_plus or (p1_minus==len(v_upc)-1 and p1_plus==0):\n",
    "                order1 = True\n",
    "            else:\n",
    "                order1 = False\n",
    "            if p2_minus<p2_plus or (p2_minus==len(v_dnc)-1 and p2_plus==0):\n",
    "                order2 = False\n",
    "            else:\n",
    "                order2 = True\n",
    "                \n",
    "            # print([order1,order2])\n",
    "                \n",
    "            tv1 = v_upc[p1_plus+1:] + v_upc[:p1_plus]\n",
    "            tv2 = v_dnc[p2_minus+1:] + v_dnc[:p2_minus]\n",
    "            \n",
    "            if (order1 and (not order2)) or ((not order1) and order2):\n",
    "                self.circle[circle_up] = tv2 + tv1\n",
    "            else:\n",
    "                tv1.reverse()\n",
    "                self.circle[circle_up] = tv2 + tv1\n",
    "                \n",
    "            self.circle[circle_down] = []\n",
    "            self.circle_number = self.circle_number - 1\n",
    "            self.fn_stack_circle_push(circle_down)\n",
    "            self.leg[ind_leg] = []\n",
    "            self.fn_update_leg(circle_up)\n",
    "        \n",
    "        self.fn_update_line2(line1,ind_leg)\n",
    "        self.fn_update_line2(line2,ind_leg)\n",
    "        self.fn_update_pipe2(pipe,ind_leg)\n",
    "        \n",
    "        self.fn_stack_leg_push(ind_leg)\n",
    "        return pipe,y\n",
    "            \n",
    "            "
   ]
  },
  {
   "cell_type": "code",
   "execution_count": 33,
   "metadata": {},
   "outputs": [
    {
     "name": "stdout",
     "output_type": "stream",
     "text": [
      "377\n",
      "6\n",
      "===========================\n",
      "0\n",
      "0.000997781753540039\n",
      "===========================\n",
      "100\n",
      "23.577295064926147\n",
      "===========================\n",
      "200\n",
      "51.09477734565735\n",
      "===========================\n",
      "300\n",
      "74.23394680023193\n",
      "===========================\n",
      "400\n",
      "96.89540004730225\n",
      "===========================\n",
      "500\n",
      "118.07283163070679\n",
      "===========================\n",
      "600\n",
      "139.74261593818665\n",
      "===========================\n",
      "700\n",
      "160.42669081687927\n",
      "===========================\n",
      "800\n",
      "181.26366901397705\n",
      "===========================\n",
      "900\n",
      "202.30935645103455\n",
      "time_store=0.000000\n",
      "time_plot=0.000000\n",
      "time_delete=79.604622\n",
      "time_add=113.474933\n",
      "time_energy=6.594968\n",
      "time_all=223.198829\n"
     ]
    },
    {
     "data": {
      "image/png": "[encoded data removed]",
      "text/plain": [
       "<Figure size 432x288 with 1 Axes>"
      ]
     },
     "metadata": {},
     "output_type": "display_data"
    }
   ],
   "source": [
    "import numpy as np\n",
    "import copy\n",
    "import matplotlib.pyplot as plt\n",
    "import time\n",
    "\n",
    "time_start = time.time()\n",
    "\n",
    "N = 10\n",
    "beta = 40\n",
    "sn = StringNet(N)\n",
    "num_leg = np.random.poisson(beta*N)\n",
    "print(num_leg)\n",
    "v_rand = [np.random.rand()*N for i in range(N)]\n",
    "v_pipe = [int(v_rand[i]) for i in range(N)]\n",
    "v_y = [v_rand[i]-int(v_rand[i]) for i in range(N)]\n",
    "# print(v_rand)\n",
    "# print(v_pipe)\n",
    "# print(v_y)\n",
    "\n",
    "for k in range(len(v_y)):\n",
    "    res = sn.fn_insert_leg(v_pipe[k],v_y[k])\n",
    "    if res==-1:\n",
    "        print('dangerous')\n",
    "\n",
    "print(sn.circle_number)\n",
    "\n",
    "num_ite = 1000\n",
    "num_tot_step = num_ite*N\n",
    "v_energy = np.zeros(num_ite)\n",
    "# v_store = []\n",
    "point = 1\n",
    "time_store = 0\n",
    "time_delete = 0\n",
    "time_add = 0\n",
    "time_energy = 0\n",
    "time_plot = 0\n",
    "v_plot_circle = []\n",
    "for i_ite in range(num_ite):\n",
    "    if i_ite%100 == 0:\n",
    "        print('===========================')\n",
    "        print(i_ite)\n",
    "        time_here = time.time()\n",
    "        print(time_here-time_start)\n",
    "        \n",
    "    v_energy_local = np.zeros(N)\n",
    "    for k in range(N):\n",
    "        \n",
    "        k_random = k\n",
    "        \n",
    "        leg_num = len(sn.pipe[k_random])\n",
    "        leg_num = np.max([leg_num,2])\n",
    "        \n",
    "        v_energy_local_local = np.zeros(leg_num)\n",
    "        for tind in range(leg_num):\n",
    "            \n",
    "            circle0 = sn.circle_number\n",
    "            region1 = tind/leg_num\n",
    "            region2 = (tind+1)/leg_num\n",
    "            m_delete = sn.pipe[k_random]\n",
    "            v_delete = [m_delete[i][0] for i in range(len(m_delete)) if m_delete[i][1]>region1 and m_delete[i][1]<=region2]\n",
    "            v_delete_store = []\n",
    "            # sn00 = copy.deepcopy(sn)\n",
    "            for a in v_delete:\n",
    "                # v_store.append(copy.deepcopy(sn))\n",
    "                time1 = time.time()\n",
    "                v_delete_store.append(sn.fn_delete_leg(a))\n",
    "                time2 = time.time()\n",
    "                time_delete = time_delete + time2 - time1\n",
    "               \n",
    "            num_add = np.random.poisson(beta/leg_num)\n",
    "            v_add = np.random.rand(num_add)/leg_num + region1\n",
    "            v_add_store = []\n",
    "            for k2 in range(len(v_add)):\n",
    "                y = v_add[k2]\n",
    "                # v_store.append(copy.deepcopy(sn))\n",
    "                time1 = time.time()\n",
    "                while True:\n",
    "                    res = sn.fn_insert_leg(k_random,y)\n",
    "                    if res!=-1:\n",
    "                        v_add_store.append(res)\n",
    "                        break\n",
    "                    else:\n",
    "                        print('dangerous')\n",
    "                time2 = time.time()\n",
    "                time_add = time_add + time2 - time1\n",
    "                \n",
    "            circle1 = sn.circle_number\n",
    "            \n",
    "            if np.random.rand()<1.0/(2.0**(circle0-circle1)+1.0):\n",
    "                # print('Jump')\n",
    "                #print('Jump ============')\n",
    "                #print(circle1)\n",
    "                #print(sn.circle_number)\n",
    "                time1 = time.time()\n",
    "                res_crmap = sn.fn_crmap2(1)\n",
    "                v_energy_local_local[tind] = -3/2*sum(res_crmap) + 1/2*N\n",
    "                #v_energy_local_local[tind] = np.sum(-3/2*res_crmap+1/2)\n",
    "                time2 = time.time()\n",
    "                time_energy = time_energy + time2 - time1\n",
    "                point = point + 1\n",
    "            else:\n",
    "                # print('not jump')\n",
    "                time1 = time.time()\n",
    "                for leg_ind in v_add_store:\n",
    "                    sn.fn_delete_leg(leg_ind)\n",
    "                time2 = time.time()\n",
    "                time_delete = time_delete + time2 - time1\n",
    "                \n",
    "                time1 = time.time()\n",
    "                for pipe_y in v_delete_store:\n",
    "                    sn.fn_insert_leg(pipe_y[0],pipe_y[1])\n",
    "                time2 = time.time()\n",
    "                time_add = time_add + time2 - time1\n",
    "                \n",
    "                time1 = time.time()\n",
    "                res_crmap = sn.fn_crmap2(1)\n",
    "                v_energy_local_local[tind] = -3/2*sum(res_crmap) + 1/2*N\n",
    "                #v_energy_local_local[tind] = np.sum(-3/2*res_crmap+1/2)\n",
    "                time2 = time.time()\n",
    "                time_energy = time_energy + time2 - time1\n",
    "                \n",
    "                #print('No Jump============')\n",
    "                #print(circle0)\n",
    "                #print(sn.circle_number)\n",
    "                #if circle0!=sn.circle_number:\n",
    "                #    sn0 = copy.deepcopy(sn00)\n",
    "                #    sn1 = copy.deepcopy(sn)\n",
    "                #    v_a = v_add_store\n",
    "                #    v_d = v_delete_store\n",
    "                #    v_a2 = v_add\n",
    "                #    v_d2 = v_delete\n",
    "                #    print('CAOCAOCAOCAOCAOCAOCAOCAOCACOA')\n",
    "                     \n",
    "            point = point + 1\n",
    "        v_energy_local[k] = np.mean(v_energy_local_local)\n",
    "            \n",
    "    v_plot_circle.append(sn.circle_number)\n",
    "    v_energy[i_ite] = np.mean(v_energy_local)/N-1     \n",
    "\n",
    "time_end = time.time()           \n",
    "print('time_store=%f' %(time_store)) \n",
    "print('time_plot=%f' %(time_plot)) \n",
    "print('time_delete=%f' %(time_delete))\n",
    "print('time_add=%f' %(time_add))\n",
    "print('time_energy=%f' %(time_energy))\n",
    "print('time_all=%f' %(time_end - time_start))\n",
    "# plt.scatter([x for x in range(len(v_plot_circle))],v_plot_circle,c='b',s=1)\n",
    "plt.scatter(np.arange(len(v_energy)),v_energy,c='b',s=1)\n",
    "plt.show()\n"
   ]
  },
  {
   "cell_type": "code",
   "execution_count": 12,
   "metadata": {},
   "outputs": [
    {
     "data": {
      "text/plain": [
       "4.640789985656738"
      ]
     },
     "execution_count": 12,
     "metadata": {},
     "output_type": "execute_result"
    }
   ],
   "source": [
    "time_energy"
   ]
  },
  {
   "cell_type": "code",
   "execution_count": 30,
   "metadata": {},
   "outputs": [
    {
     "name": "stdout",
     "output_type": "stream",
     "text": [
      "[0. 1. 2. 3.]\n",
      "0\n",
      "<class 'numpy.ndarray'>\n",
      "<class 'list'>\n"
     ]
    },
    {
     "data": {
      "text/plain": [
       "0"
      ]
     },
     "execution_count": 30,
     "metadata": {},
     "output_type": "execute_result"
    }
   ],
   "source": [
    "sn = StringNet(4)\n",
    "tv = sn.fn_crmap(1)\n",
    "\n",
    "print(sn.fn_which_circle())\n",
    "# print(sn.vbegin)\n",
    "# print(sn.leg[sn.line[30][0][0]][2])\n",
    "# print(sn.leg[sn.line[30][0][0]])\n",
    "print(len(sn.pipe[1]))\n",
    "print(type(tv))\n",
    "tv2 = sn.fn_crmap2(1)\n",
    "print(type(tv2))\n",
    "sum(tv2)"
   ]
  },
  {
   "cell_type": "code",
   "execution_count": 175,
   "metadata": {},
   "outputs": [
    {
     "name": "stdout",
     "output_type": "stream",
     "text": [
      "[1 1 0 0]\n",
      "[0. 0. 0. 3.]\n"
     ]
    }
   ],
   "source": [
    "sn = StringNet(4)\n",
    "sn.fn_insert_leg(0,0.1)\n",
    "sn.fn_insert_leg(1,0.8)\n",
    "print(sn.fn_crmap(1))\n",
    "print(sn.fn_which_circle())"
   ]
  },
  {
   "cell_type": "code",
   "execution_count": 118,
   "metadata": {},
   "outputs": [
    {
     "name": "stdout",
     "output_type": "stream",
     "text": [
      "8\n",
      "8\n",
      "============================================\n",
      "circle:\n",
      "[[4, -6, 15, -13], [9, -10, 5, -3], [1, -4], [13, -9], [], [8, -12, 14, -2, 3, -8, 2, -15, 11, -1], [6, -5], [10, -14], [12, -11]]\n",
      "leg:\n",
      "[[], [3, 0.6240708436530861, 2, 5], [2, 0.209296055492204, 5, 5], [3, 0.25002136133047487, 5, 1], [3, 0.6110817744455806, 0, 2], [0, 0.4700736643232532, 1, 6], [0, 0.5702064042056116, 6, 0], [], [3, 0.0891843211753252, 5, 5], [2, 0.5215119122272769, 1, 3], [1, 0.42929473239178184, 7, 1], [0, 0.7438409508612327, 5, 8], [0, 0.9267306166310003, 8, 5], [2, 0.5313812803789955, 3, 0], [1, 0.2679006297315026, 5, 7], [1, 0.6241786837228469, 0, 5]]\n",
      "pipe:\n",
      "[[[5, 0.4700736643232532], [6, 0.5702064042056116], [11, 0.7438409508612327], [12, 0.9267306166310003]], [[14, 0.2679006297315026], [10, 0.42929473239178184], [15, 0.6241786837228469]], [[2, 0.209296055492204], [9, 0.5215119122272769], [13, 0.5313812803789955]], [[8, 0.0891843211753252], [3, 0.25002136133047487], [4, 0.6110817744455806], [1, 0.6240708436530861]]]\n",
      "line:\n",
      "[[[8, 0.0891843211753252], [3, 0.25002136133047487], [5, 0.4700736643232532], [6, 0.5702064042056116], [4, 0.6110817744455806], [1, 0.6240708436530861], [11, 0.7438409508612327], [12, 0.9267306166310003]], [[14, 0.2679006297315026], [10, 0.42929473239178184], [5, 0.4700736643232532], [6, 0.5702064042056116], [15, 0.6241786837228469], [11, 0.7438409508612327], [12, 0.9267306166310003]], [[2, 0.209296055492204], [14, 0.2679006297315026], [10, 0.42929473239178184], [9, 0.5215119122272769], [13, 0.5313812803789955], [15, 0.6241786837228469]], [[8, 0.0891843211753252], [2, 0.209296055492204], [3, 0.25002136133047487], [9, 0.5215119122272769], [13, 0.5313812803789955], [4, 0.6110817744455806], [1, 0.6240708436530861]]]\n",
      "vbegin:\n",
      "[1, 1, 2, 1]\n",
      "stack_circle:\n",
      "[[4], 9]\n",
      "stack_leg\n",
      "[[7], 16]\n",
      "============================================\n",
      "============================================\n",
      "circle:\n",
      "[[4, -6, 15, -13], [9, -10, 5, -3], [1, -4], [13, -9], [], [8, -12, 14, -2, 3, -8, 2, -15, 11, -1], [6, -5], [10, -14], [12, -11]]\n",
      "leg:\n",
      "[[], [3, 0.6240708436530861, 2, 5], [2, 0.209296055492204, 5, 5], [3, 0.25002136133047487, 5, 1], [3, 0.6110817744455806, 0, 2], [0, 0.4700736643232532, 1, 6], [0, 0.5702064042056116, 6, 0], [], [3, 0.0891843211753252, 5, 5], [2, 0.5215119122272769, 1, 3], [1, 0.42929473239178184, 7, 1], [0, 0.7438409508612327, 5, 8], [0, 0.9267306166310003, 8, 5], [2, 0.5313812803789955, 3, 0], [1, 0.2679006297315026, 5, 7], [1, 0.6241786837228469, 0, 5]]\n",
      "pipe:\n",
      "[[[5, 0.4700736643232532], [6, 0.5702064042056116], [11, 0.7438409508612327], [12, 0.9267306166310003]], [[14, 0.2679006297315026], [10, 0.42929473239178184], [15, 0.6241786837228469]], [[2, 0.209296055492204], [9, 0.5215119122272769], [13, 0.5313812803789955]], [[8, 0.0891843211753252], [3, 0.25002136133047487], [4, 0.6110817744455806], [1, 0.6240708436530861]]]\n",
      "line:\n",
      "[[[8, 0.0891843211753252], [3, 0.25002136133047487], [5, 0.4700736643232532], [6, 0.5702064042056116], [4, 0.6110817744455806], [1, 0.6240708436530861], [11, 0.7438409508612327], [12, 0.9267306166310003]], [[14, 0.2679006297315026], [10, 0.42929473239178184], [5, 0.4700736643232532], [6, 0.5702064042056116], [15, 0.6241786837228469], [11, 0.7438409508612327], [12, 0.9267306166310003]], [[2, 0.209296055492204], [14, 0.2679006297315026], [10, 0.42929473239178184], [9, 0.5215119122272769], [13, 0.5313812803789955], [15, 0.6241786837228469]], [[8, 0.0891843211753252], [2, 0.209296055492204], [3, 0.25002136133047487], [9, 0.5215119122272769], [13, 0.5313812803789955], [4, 0.6110817744455806], [1, 0.6240708436530861]]]\n",
      "vbegin:\n",
      "[1, 1, 2, 1]\n",
      "stack_circle:\n",
      "[[4], 9]\n",
      "stack_leg\n",
      "[[7], 16]\n",
      "============================================\n",
      "8\n",
      "8\n"
     ]
    }
   ],
   "source": [
    "sne0 = copy.deepcopy(sn0)\n",
    "sne1 = copy.deepcopy(sn1)\n",
    "\n",
    "print(sne0.circle_number)\n",
    "print(sne1.circle_number)\n",
    "\n",
    "sne0.fn_delete_leg(1)\n",
    "sne0.fn_delete_leg(4)\n",
    "sne0.fn_insert_leg(3,v_a2[0])\n",
    "sne0.fn_delete_leg(4)\n",
    "sne0.fn_insert_leg(v_d[0][0],v_d[0][1])\n",
    "sne0.fn_insert_leg(v_d[1][0],v_d[1][1])\n",
    "sne0.fn_print()\n",
    "sne1.fn_print()\n",
    "print(sne0.circle_number)\n",
    "print(sne1.circle_number)"
   ]
  },
  {
   "cell_type": "code",
   "execution_count": 115,
   "metadata": {},
   "outputs": [
    {
     "data": {
      "text/plain": [
       "[(3, 0.6110817744455806), (3, 0.6240708436530861)]"
      ]
     },
     "execution_count": 115,
     "metadata": {},
     "output_type": "execute_result"
    }
   ],
   "source": [
    "v_d"
   ]
  },
  {
   "cell_type": "code",
   "execution_count": 13,
   "metadata": {},
   "outputs": [
    {
     "name": "stdout",
     "output_type": "stream",
     "text": [
      "96\n",
      "===========================\n",
      "0\n",
      "0.00302886962890625\n",
      "===========================\n",
      "1\n",
      "1.191641092300415\n",
      "===========================\n",
      "2\n",
      "2.8041231632232666\n",
      "===========================\n",
      "3\n",
      "4.6006975173950195\n",
      "===========================\n",
      "4\n",
      "6.67220401763916\n",
      "===========================\n",
      "5\n",
      "8.896788597106934\n",
      "===========================\n",
      "6\n",
      "11.374146461486816\n",
      "===========================\n",
      "7\n",
      "13.35290241241455\n",
      "===========================\n",
      "8\n",
      "15.28069257736206\n",
      "===========================\n",
      "9\n",
      "17.247689723968506\n",
      "===========================\n",
      "10\n",
      "19.48243284225464\n",
      "===========================\n",
      "11\n",
      "21.513530731201172\n",
      "===========================\n",
      "12\n",
      "23.595611572265625\n",
      "===========================\n",
      "13\n",
      "25.813148021697998\n",
      "===========================\n",
      "14\n",
      "28.073616981506348\n",
      "===========================\n",
      "15\n",
      "30.575726747512817\n",
      "===========================\n",
      "16\n",
      "33.821863651275635\n",
      "===========================\n",
      "17\n",
      "36.39618802070618\n",
      "===========================\n",
      "18\n",
      "39.48435997962952\n",
      "===========================\n",
      "19\n",
      "42.50789284706116\n",
      "time_store=22.233445\n",
      "time_plot=22.813885\n",
      "time_delete=0.096748\n",
      "time_add=0.107316\n",
      "time_all=45.632650\n"
     ]
    },
    {
     "data": {
      "image/png": "[encoded data removed]",
      "text/plain": [
       "<Figure size 432x288 with 1 Axes>"
      ]
     },
     "metadata": {},
     "output_type": "display_data"
    },
    {
     "name": "stdout",
     "output_type": "stream",
     "text": [
      "Wall time: 51.9 s\n"
     ]
    }
   ],
   "source": [
    "%%time\n",
    "import numpy as np\n",
    "import copy\n",
    "import matplotlib.pyplot as plt\n",
    "import time\n",
    "\n",
    "time_start = time.time()\n",
    "\n",
    "N = 100\n",
    "beta = 1\n",
    "sn = StringNet(N)\n",
    "num_leg = np.random.poisson(beta*N)\n",
    "print(num_leg)\n",
    "v_rand = [np.random.rand()*N for i in range(N)]\n",
    "v_pipe = [int(v_rand[i]) for i in range(N)]\n",
    "v_y = [v_rand[i]-int(v_rand[i]) for i in range(N)]\n",
    "# print(v_rand)\n",
    "# print(v_pipe)\n",
    "# print(v_y)\n",
    "\n",
    "for k in range(len(v_y)):\n",
    "    res = sn.fn_insert_leg(v_pipe[k],v_y[k])\n",
    "    if res==-1:\n",
    "        print('dangerous')\n",
    "\n",
    "# sn.fn_print()\n",
    "\n",
    "num_ite = 20\n",
    "num_tot_step = num_ite*N\n",
    "v_energy = np.zeros(num_ite)\n",
    "# v_store = []\n",
    "point = 1\n",
    "time_store = 0\n",
    "time_delete = 0\n",
    "time_add = 0\n",
    "time_plot = 0\n",
    "for i_ite in range(num_ite):\n",
    "    print('===========================')\n",
    "    print(i_ite)\n",
    "    time_here = time.time()\n",
    "    print(time_here-time_start)\n",
    "    v_energy_local = np.zeros(N)\n",
    "    for k in range(N):\n",
    "        time1 = time.time()\n",
    "        leg_pre = copy.deepcopy(sn.leg)\n",
    "        circle_pre = copy.deepcopy(sn.circle)\n",
    "        pipe_pre = copy.deepcopy(sn.pipe)\n",
    "        line_pre = copy.deepcopy(sn.line)\n",
    "        vbegin_pre = copy.deepcopy(sn.vbegin)\n",
    "        stack_circle_pre = copy.deepcopy(sn.stack_circle)\n",
    "        stack_leg_pre = copy.deepcopy(sn.stack_leg)\n",
    "        circle_number_pre = copy.deepcopy(sn.circle_number)\n",
    "        time2 = time.time()    \n",
    "        # print('store time 1 %f' % (time2-time1))\n",
    "        time_store = time_store + time2 - time1\n",
    "        \n",
    "        circle0 = circle_number_pre\n",
    "        k_random = k\n",
    "        \n",
    "        leg_num = len(sn.pipe[k_random])\n",
    "        leg_num = np.max([leg_num,2])\n",
    "        \n",
    "        for tind in range(leg_num):\n",
    "            v_energy_local_local = np.zeros(leg_num)\n",
    "            region1 = tind/leg_num\n",
    "            region2 = (tind+1)/leg_num\n",
    "            m_delete = sn.pipe[k_random]\n",
    "            v_delete = [m_delete[i][0] for i in range(len(m_delete)) if m_delete[i][1]>region1 and m_delete[i][1]<=region2]\n",
    "            for a in v_delete:\n",
    "                # v_store.append(copy.deepcopy(sn))\n",
    "                time1 = time.time()\n",
    "                sn.fn_delete_leg(a)\n",
    "                time2 = time.time()\n",
    "                time_delete = time_delete + time2 - time1\n",
    "               \n",
    "            num_add = np.random.poisson(beta/leg_num)\n",
    "            v_add = np.random.rand(num_add)/leg_num + region1\n",
    "            for k2 in range(len(v_add)):\n",
    "                y = v_add[k2]\n",
    "                # v_store.append(copy.deepcopy(sn))\n",
    "                time1 = time.time()\n",
    "                while (sn.fn_insert_leg(k_random,y)==-1):\n",
    "                    print('dangerous')\n",
    "                time2 = time.time()\n",
    "                time_add = time_add + time2 - time1\n",
    "                \n",
    "            circle1 = sn.circle_number\n",
    "            \n",
    "            if np.random.rand()<1/(2**(circle0-circle1)+1):\n",
    "                # print('Jump')\n",
    "                time1 = time.time()\n",
    "                plt.scatter(point,circle1,c='b',s=1)\n",
    "                time2 = time.time()\n",
    "                time_plot = time_plot + time2 - time1\n",
    "            else:\n",
    "                # print('not jump')\n",
    "                time1 = time.time()\n",
    "                sn.leg = copy.deepcopy(leg_pre)\n",
    "                sn.circle = copy.deepcopy(circle_pre)\n",
    "                sn.pipe = copy.deepcopy(pipe_pre)\n",
    "                sn.line = copy.deepcopy(line_pre)\n",
    "                sn.vbegin = copy.deepcopy(vbegin_pre)\n",
    "                sn.stack_circle = copy.deepcopy(stack_circle_pre)\n",
    "                sn.stack_leg = copy.deepcopy(stack_leg_pre)\n",
    "                sn.circle_number = copy.deepcopy(circle_number_pre)\n",
    "                time2 = time.time()\n",
    "                time_store = time_store + time2 - time1\n",
    "                \n",
    "                time1 = time.time()\n",
    "                plt.scatter(point,circle0,c='r',s=1)\n",
    "                time2 = time.time()\n",
    "                time_plot = time_plot + time2 - time1\n",
    "                              \n",
    "                \n",
    "            point = point + 1\n",
    "            \n",
    "time_end = time.time()           \n",
    "print('time_store=%f' %(time_store)) \n",
    "print('time_plot=%f' %(time_plot)) \n",
    "print('time_delete=%f' %(time_delete))\n",
    "print('time_add=%f' %(time_add))\n",
    "print('time_all=%f' %(time_end - time_start))\n",
    "\n",
    "plt.show()\n",
    "            \n",
    "        "
   ]
  },
  {
   "cell_type": "code",
   "execution_count": 20,
   "metadata": {},
   "outputs": [
    {
     "data": {
      "image/png": "[encoded data removed]",
      "text/plain": [
       "<Figure size 432x288 with 1 Axes>"
      ]
     },
     "metadata": {},
     "output_type": "display_data"
    }
   ],
   "source": [
    "plt.scatter([x for x in range(4)],[1,2,3,4],c='b',s=1)\n",
    "plt.show()"
   ]
  },
  {
   "cell_type": "code",
   "execution_count": 138,
   "metadata": {},
   "outputs": [
    {
     "name": "stdout",
     "output_type": "stream",
     "text": [
      "============================================\n",
      "circle:\n",
      "[[2, -6, 5, -8], [8, -7], [9, -5, 6, -1], [3, -2], [4, -3], [1, -4], [7, -9]]\n",
      "leg:\n",
      "[[], [2, 0.47331852217016435, 5, 2], [2, 0.14641519167001338, 0, 3], [2, 0.24720195729870964, 3, 4], [2, 0.4198354111625746, 4, 5], [0, 0.51937830137075158, 0, 2], [3, 0.79102011114961002, 2, 0], [1, 0.73400067389805823, 6, 1], [1, 0.79576342432860492, 1, 0], [1, 0.73116954086655017, 2, 6]]\n",
      "pipe:\n",
      "[[[5, 0.51937830137075158]], [[9, 0.73116954086655017], [7, 0.73400067389805823], [8, 0.79576342432860492]], [[2, 0.14641519167001338], [3, 0.24720195729870964], [4, 0.4198354111625746], [1, 0.47331852217016435]], [[6, 0.79102011114961002]]]\n",
      "line:\n",
      "[[[5, 0.51937830137075158], [6, 0.79102011114961002]], [[5, 0.51937830137075158], [9, 0.73116954086655017], [7, 0.73400067389805823], [8, 0.79576342432860492]], [[2, 0.14641519167001338], [3, 0.24720195729870964], [4, 0.4198354111625746], [1, 0.47331852217016435], [9, 0.73116954086655017], [7, 0.73400067389805823], [8, 0.79576342432860492]], [[2, 0.14641519167001338], [3, 0.24720195729870964], [4, 0.4198354111625746], [1, 0.47331852217016435], [6, 0.79102011114961002]]]\n",
      "vbegin:\n",
      "[0, 1, 2, 3]\n",
      "stack_circle:\n",
      "[[], 7]\n",
      "stack_leg\n",
      "[[], 10]\n",
      "============================================\n",
      "============================================\n",
      "circle:\n",
      "[[], [8, -7], [5, -8, 2, -1, 9, -5], [3, -2], [4, -3], [1, -4], [7, -9]]\n",
      "leg:\n",
      "[[], [2, 0.47331852217016435, 5, 2], [2, 0.14641519167001338, 2, 3], [2, 0.24720195729870964, 3, 4], [2, 0.4198354111625746, 4, 5], [0, 0.51937830137075158, 2, 2], [], [1, 0.73400067389805823, 6, 1], [1, 0.79576342432860492, 1, 2], [1, 0.73116954086655017, 2, 6]]\n",
      "pipe:\n",
      "[[[5, 0.51937830137075158]], [[9, 0.73116954086655017], [7, 0.73400067389805823], [8, 0.79576342432860492]], [[2, 0.14641519167001338], [3, 0.24720195729870964], [4, 0.4198354111625746], [1, 0.47331852217016435]], []]\n",
      "line:\n",
      "[[[5, 0.51937830137075158]], [[5, 0.51937830137075158], [9, 0.73116954086655017], [7, 0.73400067389805823], [8, 0.79576342432860492]], [[2, 0.14641519167001338], [3, 0.24720195729870964], [4, 0.4198354111625746], [1, 0.47331852217016435], [9, 0.73116954086655017], [7, 0.73400067389805823], [8, 0.79576342432860492]], [[2, 0.14641519167001338], [3, 0.24720195729870964], [4, 0.4198354111625746], [1, 0.47331852217016435]]]\n",
      "vbegin:\n",
      "[0, 1, 2, 3]\n",
      "stack_circle:\n",
      "[[0], 7]\n",
      "stack_leg\n",
      "[[6], 10]\n",
      "============================================\n"
     ]
    }
   ],
   "source": [
    "sne = copy.deepcopy(v_store[-3])\n",
    "sn2 = StringNet(4)\n",
    "\n",
    "sn2.leg = copy.deepcopy(sne.leg)\n",
    "sn2.circle = copy.deepcopy(sne.circle)\n",
    "sn2.pipe = copy.deepcopy(sne.pipe)\n",
    "sn2.line = copy.deepcopy(sne.line)\n",
    "sn2.vbegin = copy.deepcopy(sne.vbegin)\n",
    "sn2.stack_circle = copy.deepcopy(sne.stack_circle)\n",
    "sn2.stack_leg = copy.deepcopy(sne.stack_leg)\n",
    "sn2.circle_number = copy.deepcopy(sne.circle_number)\n",
    "\n",
    "sn2.fn_print()\n",
    "sn2.fn_delete_leg(6)\n",
    "sn2.fn_print()\n"
   ]
  },
  {
   "cell_type": "code",
   "execution_count": 16,
   "metadata": {},
   "outputs": [
    {
     "name": "stdout",
     "output_type": "stream",
     "text": [
      "[0, 1]\n",
      "[3, 4, 5, 6, 7, 8, 9, 10, 11, 12]\n",
      "3\n",
      "4\n",
      "5\n",
      "6\n",
      "7\n",
      "8\n",
      "9\n",
      "10\n",
      "11\n",
      "12\n",
      " "
     ]
    }
   ],
   "source": [
    "%%prun\n",
    "va = [i+3 for i in range(10)]\n",
    "print([x for x in range(len(va)) if va[x]>2 and va[x]<5])\n",
    "print([x for x in va if x>2])\n",
    "a = [[2,0.1],[4,0.2],[5,0.7]]\n",
    "a = []\n",
    "[a[i][0] for i in range(len(a)) if a[i][1]>0.2]\n",
    "for i in va:\n",
    "    print(i)\n"
   ]
  },
  {
   "cell_type": "code",
   "execution_count": 53,
   "metadata": {},
   "outputs": [
    {
     "name": "stdout",
     "output_type": "stream",
     "text": [
      "8\n",
      "[0.6789217861068009, 1.3817143532311937, 9.721869035816567, 0.12398494397307336, 5.2266754584326245, 7.024347042763423, 8.95031009242362, 6.864568654756701, 1.07279389332116, 1.4656465635601346]\n",
      "[0, 1, 9, 0, 5, 7, 8, 6, 1, 1]\n",
      "[0.6789217861068009, 0.38171435323119374, 0.7218690358165674, 0.12398494397307336, 0.2266754584326245, 0.0243470427634227, 0.9503100924236207, 0.8645686547567006, 0.07279389332116004, 0.46564656356013456]\n",
      "1\n",
      "1\n",
      "1\n",
      "1\n",
      "1\n",
      "1\n",
      "1\n",
      "1\n",
      "1\n",
      "1\n",
      "============================================\n",
      "circle:\n",
      "[[5, -8, 6, -7, 3, -1, 9, -10, 1, -4, 2, -9, 4, -3, 7, -6, 8, -5], [], [], 0, 0, [10, -2], [], [], [], []]\n",
      "leg:\n",
      "[[], [0, 0.6789217861068009, 0, 0], [1, 0.38171435323119374, 0, 5], [9, 0.7218690358165674, 0, 0], [0, 0.12398494397307336, 0, 0], [5, 0.2266754584326245, 0, 0], [7, 0.0243470427634227, 0, 0], [8, 0.9503100924236207, 0, 0], [6, 0.8645686547567006, 0, 0], [1, 0.07279389332116004, 0, 0], [1, 0.46564656356013456, 5, 0]]\n",
      "pipe:\n",
      "[[[4, 0.12398494397307336], [1, 0.6789217861068009]], [[9, 0.07279389332116004], [2, 0.38171435323119374], [10, 0.46564656356013456]], [], [], [], [[5, 0.2266754584326245]], [[8, 0.8645686547567006]], [[6, 0.0243470427634227]], [[7, 0.9503100924236207]], [[3, 0.7218690358165674]]]\n",
      "line:\n",
      "[[[4, 0.12398494397307336], [1, 0.6789217861068009], [3, 0.7218690358165674]], [[9, 0.07279389332116004], [4, 0.12398494397307336], [2, 0.38171435323119374], [10, 0.46564656356013456], [1, 0.6789217861068009]], [[9, 0.07279389332116004], [2, 0.38171435323119374], [10, 0.46564656356013456]], [], [], [[5, 0.2266754584326245]], [[5, 0.2266754584326245], [8, 0.8645686547567006]], [[6, 0.0243470427634227], [8, 0.8645686547567006]], [[6, 0.0243470427634227], [7, 0.9503100924236207]], [[3, 0.7218690358165674], [7, 0.9503100924236207]]]\n",
      "vbegin:\n",
      "[0, 1, 2, 3, 4, 5, 6, 7, 8, 9]\n",
      "stack_circle:\n",
      "[[1, 2, 6, 8, 9, 7], 10]\n",
      "stack_leg\n",
      "[[], 11]\n",
      "============================================\n",
      "4\n"
     ]
    }
   ],
   "source": [
    "import numpy as np\n",
    "\n",
    "N = 10\n",
    "beta = 1\n",
    "sn = StringNet(N)\n",
    "num_leg = np.random.poisson(beta*N)\n",
    "print(num_leg)\n",
    "v_rand = [np.random.rand()*N for i in range(N)]\n",
    "v_pipe = [int(v_rand[i]) for i in range(N)]\n",
    "v_y = [v_rand[i]-int(v_rand[i]) for i in range(N)]\n",
    "print(v_rand)\n",
    "print(v_pipe)\n",
    "print(v_y)\n",
    "\n",
    "for k in range(len(v_y)):\n",
    "    res = sn.fn_insert_leg(v_pipe[k],v_y[k])\n",
    "    print(res)\n",
    "\n",
    "sn.fn_print()\n",
    "print(sn.circle_number)"
   ]
  },
  {
   "cell_type": "code",
   "execution_count": 85,
   "metadata": {},
   "outputs": [
    {
     "data": {
      "text/plain": [
       "0.1111111111111111"
      ]
     },
     "execution_count": 85,
     "metadata": {},
     "output_type": "execute_result"
    }
   ],
   "source": [
    "3**(-2)"
   ]
  },
  {
   "cell_type": "code",
   "execution_count": 49,
   "metadata": {},
   "outputs": [
    {
     "name": "stdout",
     "output_type": "stream",
     "text": [
      "============================================\n",
      "circle:\n",
      "2\n",
      "leg:\n",
      "[[]]\n",
      "pipe:\n",
      "[[], [], [], []]\n",
      "line:\n",
      "[[], [], [], []]\n",
      "vbegin:\n",
      "[0, 1, 2, 3]\n",
      "stack_circle:\n",
      "[[], 4]\n",
      "stack_leg\n",
      "[[], 1]\n",
      "============================================\n",
      "============================================\n",
      "circle:\n",
      "1\n",
      "leg:\n",
      "[[]]\n",
      "pipe:\n",
      "[[], [], [], []]\n",
      "line:\n",
      "[[], [], [], []]\n",
      "vbegin:\n",
      "[0, 1, 2, 3]\n",
      "stack_circle:\n",
      "[[], 4]\n",
      "stack_leg\n",
      "[[], 1]\n",
      "============================================\n"
     ]
    }
   ],
   "source": [
    "import copy\n",
    "sn = StringNet(4)\n",
    "sn.circle = 1\n",
    "sn2 = copy.deepcopy(sn)\n",
    "sn.circle = 2\n",
    "sn.fn_print()\n",
    "sn2.fn_print()"
   ]
  },
  {
   "cell_type": "code",
   "execution_count": 7,
   "metadata": {},
   "outputs": [
    {
     "name": "stdout",
     "output_type": "stream",
     "text": [
      "============================================\n",
      "circle:\n",
      "[[1, -4, 6, -5, 4, -3, 5, -8], [7, -6, 2, -1], [3, -2], [8, -7]]\n",
      "leg:\n",
      "[[], [0, 0.5, 0, 1], [1, 0.1, 1, 2], [1, 0.2, 2, 0], [1, 0.3, 0, 0], [2, 0.25, 0, 0], [2, 0.4, 0, 1], [3, 0.1, 1, 3], [3, 0.2, 3, 0]]\n",
      "pipe:\n",
      "[[[1, 0.5]], [[2, 0.1], [3, 0.2], [4, 0.3]], [[5, 0.25], [6, 0.4]], [[7, 0.1], [8, 0.2]]]\n",
      "line:\n",
      "[[[7, 0.1], [8, 0.2], [1, 0.5]], [[2, 0.1], [3, 0.2], [4, 0.3], [1, 0.5]], [[2, 0.1], [3, 0.2], [5, 0.25], [4, 0.3], [6, 0.4]], [[7, 0.1], [8, 0.2], [5, 0.25], [6, 0.4]]]\n",
      "vbegin:\n",
      "[0, 1, 2, 3]\n",
      "stack_circle:\n",
      "[[], 4]\n",
      "stack_leg\n",
      "[[], 9]\n",
      "============================================\n",
      "============================================\n",
      "circle:\n",
      "[0, 0, 0, 0]\n",
      "leg:\n",
      "[[], [], [], [], [], [], [], [], []]\n",
      "pipe:\n",
      "[[], [], [], []]\n",
      "line:\n",
      "[[], [], [], []]\n",
      "vbegin:\n",
      "[3, 1, 0, 2]\n",
      "stack_circle:\n",
      "[[], 4]\n",
      "stack_leg\n",
      "[[2, 3, 8, 1, 4, 5, 7, 6], 9]\n",
      "============================================\n"
     ]
    }
   ],
   "source": [
    "sn = StringNet(4)\n",
    "sn.fn_insert_leg(0,0.5)\n",
    "sn.fn_insert_leg(1,0.1)\n",
    "sn.fn_insert_leg(1,0.2)\n",
    "sn.fn_insert_leg(1,0.3)\n",
    "sn.fn_insert_leg(2,0.25)\n",
    "sn.fn_insert_leg(2,0.4)\n",
    "sn.fn_insert_leg(3,0.1)\n",
    "sn.fn_insert_leg(3,0.2)\n",
    "sn.fn_print()\n",
    "sn.fn_delete_leg(2)\n",
    "sn.fn_delete_leg(3)\n",
    "sn.fn_delete_leg(8)\n",
    "sn.fn_delete_leg(1)\n",
    "sn.fn_delete_leg(4)\n",
    "sn.fn_delete_leg(5)\n",
    "sn.fn_delete_leg(7)\n",
    "sn.fn_delete_leg(6)\n",
    "sn.fn_print()"
   ]
  },
  {
   "cell_type": "code",
   "execution_count": 10,
   "metadata": {},
   "outputs": [
    {
     "name": "stdout",
     "output_type": "stream",
     "text": [
      "13\n"
     ]
    }
   ],
   "source": [
    "import scipy.stats as st\n",
    "rv = st.poisson(2)\n",
    "import numpy as np\n",
    "x = np.random.poisson(lam=10)\n",
    "print(x)\n",
    "num_leg = np.random.poisson(lam=beta*)"
   ]
  },
  {
   "cell_type": "code",
   "execution_count": 356,
   "metadata": {},
   "outputs": [
    {
     "name": "stdout",
     "output_type": "stream",
     "text": [
      "[[], 3]\n",
      "2\n",
      "[0, 1, 2, 3]\n"
     ]
    }
   ],
   "source": [
    "res = sn.fn_stack_leg_pull()\n",
    "print(sn.stack_leg)\n",
    "print(res)\n",
    "print([i for i in range(4)])"
   ]
  },
  {
   "cell_type": "code",
   "execution_count": 300,
   "metadata": {},
   "outputs": [
    {
     "name": "stdout",
     "output_type": "stream",
     "text": [
      "[0, 1, 2, 3, 4, 5, 6, 7]\n",
      "[0, 1]\n",
      "[0, 1, 2, 3, 4, 5, 6, 7]\n",
      "[0, 1, 2, 3, 4, 5, 6, 7, 0, 1, 2, 3, 4, 5, 6, 7]\n"
     ]
    }
   ],
   "source": [
    "tv = [i for i in range(8)]\n",
    "print(tv)\n",
    "print( \\\n",
    "      tv[0:1+1])\n",
    "print(tv[:8])\n",
    "print(tv+tv)"
   ]
  },
  {
   "cell_type": "code",
   "execution_count": 352,
   "metadata": {},
   "outputs": [
    {
     "name": "stdout",
     "output_type": "stream",
     "text": [
      "[0.1, 0.2, 0.3]\n",
      "[2, 3, 5, 7, 11, 13, 17, 19]\n",
      "2\n",
      "False\n"
     ]
    }
   ],
   "source": [
    "tm = [[1,0.1],[2,0.2],[3,0.3]]\n",
    "ts = [tm[i][1] for i in range(len(tm))]\n",
    "print(ts)\n",
    "ts = [i for i in range(8)]\n",
    "ts = [2,3,5,7,11,13,17,19]\n",
    "print(ts)\n",
    "foo = None\n",
    "for foo in (x for x in range(len(ts)) if ts[x]>3): break\n",
    "print(foo)\n",
    "print(foo==None)"
   ]
  },
  {
   "cell_type": "code",
   "execution_count": 159,
   "metadata": {
    "collapsed": true
   },
   "outputs": [],
   "source": [
    "sn = StringNet(4)"
   ]
  },
  {
   "cell_type": "code",
   "execution_count": 382,
   "metadata": {},
   "outputs": [
    {
     "name": "stdout",
     "output_type": "stream",
     "text": [
      "[[1, 2, 3], [3, 4, 5]]\n",
      "[3, 4]\n",
      "[4, 3, 4]\n"
     ]
    }
   ],
   "source": [
    "tv = [[1,2,3],[3,4,5]]\n",
    "tv2 = tv[1][:2]\n",
    "#tv2[1] = 888\n",
    "print(tv)\n",
    "print(tv2)\n",
    "tv2 = tv2 + tv2\n",
    "tv2.pop(0)\n",
    "print(tv2)"
   ]
  },
  {
   "cell_type": "code",
   "execution_count": 176,
   "metadata": {
    "collapsed": true
   },
   "outputs": [],
   "source": [
    "c = []\n",
    "if 1!=1:\n",
    "    print(111)"
   ]
  },
  {
   "cell_type": "code",
   "execution_count": 179,
   "metadata": {},
   "outputs": [
    {
     "data": {
      "text/plain": [
       "4"
      ]
     },
     "execution_count": 179,
     "metadata": {},
     "output_type": "execute_result"
    }
   ],
   "source": [
    "tm = [[1,2],[3,4]]\n",
    "tm[1][1]"
   ]
  },
  {
   "cell_type": "code",
   "execution_count": 152,
   "metadata": {},
   "outputs": [
    {
     "name": "stdout",
     "output_type": "stream",
     "text": [
      "[0.3873138695512761, 0.3976256362962993, 0.6279174457609953, 0.13815648061924612, 0.2499451737893228, 0.5548969388804081, 0.8039756967331935, 0.5025766985430373, 0.310270810229496, 0.42625380737407914]\n"
     ]
    }
   ],
   "source": [
    "c = [s(c[i]) for i in range(0,len(c))]\n",
    "print(c)"
   ]
  },
  {
   "cell_type": "code",
   "execution_count": 99,
   "metadata": {
    "collapsed": true
   },
   "outputs": [],
   "source": [
    "import random"
   ]
  },
  {
   "cell_type": "code",
   "execution_count": 100,
   "metadata": {},
   "outputs": [
    {
     "data": {
      "text/plain": [
       "0.6635886963027193"
      ]
     },
     "execution_count": 100,
     "metadata": {},
     "output_type": "execute_result"
    }
   ],
   "source": [
    "random.random()"
   ]
  },
  {
   "cell_type": "code",
   "execution_count": 115,
   "metadata": {
    "collapsed": true
   },
   "outputs": [],
   "source": [
    "c = [random.random()-0.5 for i in range(0,10)]"
   ]
  },
  {
   "cell_type": "code",
   "execution_count": 73,
   "metadata": {
    "collapsed": true
   },
   "outputs": [],
   "source": [
    "c = [a[i]+1 for i in range(0,2)]"
   ]
  },
  {
   "cell_type": "code",
   "execution_count": 116,
   "metadata": {},
   "outputs": [
    {
     "data": {
      "text/plain": [
       "[0.3873138695512761,\n",
       " 0.39762563629629943,\n",
       " -0.3720825542390046,\n",
       " 0.138156480619246,\n",
       " 0.2499451737893229,\n",
       " -0.44510306111959186,\n",
       " -0.19602430326680653,\n",
       " -0.4974233014569627,\n",
       " 0.3102708102294959,\n",
       " 0.42625380737407925]"
      ]
     },
     "execution_count": 116,
     "metadata": {},
     "output_type": "execute_result"
    }
   ],
   "source": [
    "c"
   ]
  },
  {
   "cell_type": "code",
   "execution_count": 130,
   "metadata": {},
   "outputs": [
    {
     "data": {
      "text/plain": [
       "6"
      ]
     },
     "execution_count": 130,
     "metadata": {},
     "output_type": "execute_result"
    }
   ],
   "source": [
    "c.index(max(c))"
   ]
  },
  {
   "cell_type": "code",
   "execution_count": 131,
   "metadata": {},
   "outputs": [
    {
     "data": {
      "text/plain": [
       "[0.3873138695512761,\n",
       " 0.3976256362962993,\n",
       " 0.6279174457609954,\n",
       " 0.13815648061924612,\n",
       " 0.2499451737893228,\n",
       " 0.5548969388804081,\n",
       " 0.8039756967331935,\n",
       " 0.5025766985430373,\n",
       " 0.310270810229496,\n",
       " 0.42625380737407914]"
      ]
     },
     "execution_count": 131,
     "metadata": {},
     "output_type": "execute_result"
    }
   ],
   "source": [
    "c"
   ]
  },
  {
   "cell_type": "code",
   "execution_count": 90,
   "metadata": {
    "collapsed": true
   },
   "outputs": [],
   "source": [
    "s = lambda x: x+1-int(1+x)"
   ]
  },
  {
   "cell_type": "code",
   "execution_count": 125,
   "metadata": {},
   "outputs": [
    {
     "ename": "TypeError",
     "evalue": "'module' object is not callable",
     "output_type": "error",
     "traceback": [
      "\u001b[1;31m---------------------------------------------------------------------------\u001b[0m",
      "\u001b[1;31mTypeError\u001b[0m                                 Traceback (most recent call last)",
      "\u001b[1;32m<ipython-input-125-71b001e511c8>\u001b[0m in \u001b[0;36m<module>\u001b[1;34m()\u001b[0m\n\u001b[1;32m----> 1\u001b[1;33m \u001b[0mnp\u001b[0m\u001b[1;33m.\u001b[0m\u001b[0mrandom\u001b[0m\u001b[1;33m(\u001b[0m\u001b[1;33m[\u001b[0m\u001b[1;36m1\u001b[0m\u001b[1;33m,\u001b[0m\u001b[1;36m4\u001b[0m\u001b[1;33m]\u001b[0m\u001b[1;33m)\u001b[0m\u001b[1;33m\u001b[0m\u001b[0m\n\u001b[0m",
      "\u001b[1;31mTypeError\u001b[0m: 'module' object is not callable"
     ]
    }
   ],
   "source": [
    "np.random([1,4])"
   ]
  },
  {
   "cell_type": "markdown",
   "metadata": {},
   "source": [
    "math.modf(1.2)"
   ]
  },
  {
   "cell_type": "code",
   "execution_count": 91,
   "metadata": {},
   "outputs": [
    {
     "data": {
      "text/plain": [
       "0"
      ]
     },
     "execution_count": 91,
     "metadata": {},
     "output_type": "execute_result"
    }
   ],
   "source": [
    "s(0)"
   ]
  },
  {
   "cell_type": "code",
   "execution_count": 92,
   "metadata": {},
   "outputs": [
    {
     "data": {
      "text/plain": [
       "0.10000000000000009"
      ]
     },
     "execution_count": 92,
     "metadata": {},
     "output_type": "execute_result"
    }
   ],
   "source": [
    "s(0.1)"
   ]
  },
  {
   "cell_type": "code",
   "execution_count": 95,
   "metadata": {},
   "outputs": [
    {
     "data": {
      "text/plain": [
       "0.9999"
      ]
     },
     "execution_count": 95,
     "metadata": {},
     "output_type": "execute_result"
    }
   ],
   "source": [
    "s(-0.0001)"
   ]
  },
  {
   "cell_type": "code",
   "execution_count": 20,
   "metadata": {},
   "outputs": [
    {
     "data": {
      "text/plain": [
       "[1, 2, [1, 2]]"
      ]
     },
     "execution_count": 20,
     "metadata": {},
     "output_type": "execute_result"
    }
   ],
   "source": [
    "[1,2,[1,2]]"
   ]
  },
  {
   "cell_type": "code",
   "execution_count": 21,
   "metadata": {},
   "outputs": [
    {
     "name": "stderr",
     "output_type": "stream",
     "text": [
      "ERROR:root:Line magic function `%` not found.\n"
     ]
    }
   ],
   "source": [
    "t = %"
   ]
  },
  {
   "cell_type": "code",
   "execution_count": 22,
   "metadata": {
    "collapsed": true
   },
   "outputs": [],
   "source": [
    "t = [1,2,[1,2]]"
   ]
  },
  {
   "cell_type": "code",
   "execution_count": 23,
   "metadata": {},
   "outputs": [
    {
     "ename": "TypeError",
     "evalue": "'list' object is not callable",
     "output_type": "error",
     "traceback": [
      "\u001b[1;31m---------------------------------------------------------------------------\u001b[0m",
      "\u001b[1;31mTypeError\u001b[0m                                 Traceback (most recent call last)",
      "\u001b[1;32m<ipython-input-23-ef9695810c7a>\u001b[0m in \u001b[0;36m<module>\u001b[1;34m()\u001b[0m\n\u001b[1;32m----> 1\u001b[1;33m \u001b[0mt\u001b[0m\u001b[1;33m(\u001b[0m\u001b[1;36m1\u001b[0m\u001b[1;33m)\u001b[0m\u001b[1;33m\u001b[0m\u001b[0m\n\u001b[0m",
      "\u001b[1;31mTypeError\u001b[0m: 'list' object is not callable"
     ]
    }
   ],
   "source": [
    "t(1)"
   ]
  },
  {
   "cell_type": "code",
   "execution_count": 24,
   "metadata": {},
   "outputs": [
    {
     "data": {
      "text/plain": [
       "2"
      ]
     },
     "execution_count": 24,
     "metadata": {},
     "output_type": "execute_result"
    }
   ],
   "source": [
    "t[1]"
   ]
  },
  {
   "cell_type": "code",
   "execution_count": 25,
   "metadata": {},
   "outputs": [
    {
     "data": {
      "text/plain": [
       "1"
      ]
     },
     "execution_count": 25,
     "metadata": {},
     "output_type": "execute_result"
    }
   ],
   "source": [
    "t[0]"
   ]
  },
  {
   "cell_type": "code",
   "execution_count": 26,
   "metadata": {},
   "outputs": [
    {
     "data": {
      "text/plain": [
       "1"
      ]
     },
     "execution_count": 26,
     "metadata": {},
     "output_type": "execute_result"
    }
   ],
   "source": [
    "t[2][0]"
   ]
  },
  {
   "cell_type": "code",
   "execution_count": 27,
   "metadata": {},
   "outputs": [
    {
     "ename": "IndexError",
     "evalue": "list index out of range",
     "output_type": "error",
     "traceback": [
      "\u001b[1;31m---------------------------------------------------------------------------\u001b[0m",
      "\u001b[1;31mIndexError\u001b[0m                                Traceback (most recent call last)",
      "\u001b[1;32m<ipython-input-27-1c9846052373>\u001b[0m in \u001b[0;36m<module>\u001b[1;34m()\u001b[0m\n\u001b[1;32m----> 1\u001b[1;33m \u001b[0mt\u001b[0m\u001b[1;33m[\u001b[0m\u001b[1;36m2\u001b[0m\u001b[1;33m]\u001b[0m\u001b[1;33m[\u001b[0m\u001b[1;36m2\u001b[0m\u001b[1;33m]\u001b[0m\u001b[1;33m\u001b[0m\u001b[0m\n\u001b[0m",
      "\u001b[1;31mIndexError\u001b[0m: list index out of range"
     ]
    }
   ],
   "source": [
    "t[2][2]"
   ]
  },
  {
   "cell_type": "code",
   "execution_count": 28,
   "metadata": {},
   "outputs": [
    {
     "ename": "TypeError",
     "evalue": "'int' object is not subscriptable",
     "output_type": "error",
     "traceback": [
      "\u001b[1;31m---------------------------------------------------------------------------\u001b[0m",
      "\u001b[1;31mTypeError\u001b[0m                                 Traceback (most recent call last)",
      "\u001b[1;32m<ipython-input-28-13e172c23e3a>\u001b[0m in \u001b[0;36m<module>\u001b[1;34m()\u001b[0m\n\u001b[1;32m----> 1\u001b[1;33m \u001b[0mt\u001b[0m\u001b[1;33m[\u001b[0m\u001b[1;36m1\u001b[0m\u001b[1;33m]\u001b[0m\u001b[1;33m[\u001b[0m\u001b[1;36m1\u001b[0m\u001b[1;33m]\u001b[0m\u001b[1;33m\u001b[0m\u001b[0m\n\u001b[0m",
      "\u001b[1;31mTypeError\u001b[0m: 'int' object is not subscriptable"
     ]
    }
   ],
   "source": [
    "t[1][1]"
   ]
  },
  {
   "cell_type": "code",
   "execution_count": 29,
   "metadata": {},
   "outputs": [
    {
     "data": {
      "text/plain": [
       "2"
      ]
     },
     "execution_count": 29,
     "metadata": {},
     "output_type": "execute_result"
    }
   ],
   "source": [
    "t[1]"
   ]
  },
  {
   "cell_type": "code",
   "execution_count": 30,
   "metadata": {},
   "outputs": [
    {
     "ename": "TypeError",
     "evalue": "'int' object is not subscriptable",
     "output_type": "error",
     "traceback": [
      "\u001b[1;31m---------------------------------------------------------------------------\u001b[0m",
      "\u001b[1;31mTypeError\u001b[0m                                 Traceback (most recent call last)",
      "\u001b[1;32m<ipython-input-30-7c281a239397>\u001b[0m in \u001b[0;36m<module>\u001b[1;34m()\u001b[0m\n\u001b[1;32m----> 1\u001b[1;33m \u001b[0mt\u001b[0m\u001b[1;33m[\u001b[0m\u001b[1;36m1\u001b[0m\u001b[1;33m]\u001b[0m\u001b[1;33m[\u001b[0m\u001b[1;36m0\u001b[0m\u001b[1;33m]\u001b[0m\u001b[1;33m\u001b[0m\u001b[0m\n\u001b[0m",
      "\u001b[1;31mTypeError\u001b[0m: 'int' object is not subscriptable"
     ]
    }
   ],
   "source": [
    "t[1][0]"
   ]
  },
  {
   "cell_type": "code",
   "execution_count": 31,
   "metadata": {
    "collapsed": true
   },
   "outputs": [],
   "source": [
    "tt = [1,[],2]"
   ]
  },
  {
   "cell_type": "code",
   "execution_count": 32,
   "metadata": {},
   "outputs": [
    {
     "data": {
      "text/plain": [
       "[]"
      ]
     },
     "execution_count": 32,
     "metadata": {},
     "output_type": "execute_result"
    }
   ],
   "source": [
    "tt[1]"
   ]
  },
  {
   "cell_type": "code",
   "execution_count": 33,
   "metadata": {},
   "outputs": [
    {
     "ename": "AttributeError",
     "evalue": "'list' object has no attribute 'size'",
     "output_type": "error",
     "traceback": [
      "\u001b[1;31m---------------------------------------------------------------------------\u001b[0m",
      "\u001b[1;31mAttributeError\u001b[0m                            Traceback (most recent call last)",
      "\u001b[1;32m<ipython-input-33-599d6a726eaf>\u001b[0m in \u001b[0;36m<module>\u001b[1;34m()\u001b[0m\n\u001b[1;32m----> 1\u001b[1;33m \u001b[0mtt\u001b[0m\u001b[1;33m[\u001b[0m\u001b[1;36m1\u001b[0m\u001b[1;33m]\u001b[0m\u001b[1;33m.\u001b[0m\u001b[0msize\u001b[0m\u001b[1;33m\u001b[0m\u001b[0m\n\u001b[0m",
      "\u001b[1;31mAttributeError\u001b[0m: 'list' object has no attribute 'size'"
     ]
    }
   ],
   "source": [
    "tt[1].size"
   ]
  },
  {
   "cell_type": "code",
   "execution_count": 34,
   "metadata": {
    "scrolled": true
   },
   "outputs": [
    {
     "ename": "AttributeError",
     "evalue": "'int' object has no attribute 'length'",
     "output_type": "error",
     "traceback": [
      "\u001b[1;31m---------------------------------------------------------------------------\u001b[0m",
      "\u001b[1;31mAttributeError\u001b[0m                            Traceback (most recent call last)",
      "\u001b[1;32m<ipython-input-34-250f54d16b80>\u001b[0m in \u001b[0;36m<module>\u001b[1;34m()\u001b[0m\n\u001b[1;32m----> 1\u001b[1;33m \u001b[0mtt\u001b[0m\u001b[1;33m[\u001b[0m\u001b[1;36m0\u001b[0m\u001b[1;33m]\u001b[0m\u001b[1;33m.\u001b[0m\u001b[0mlength\u001b[0m\u001b[1;33m\u001b[0m\u001b[0m\n\u001b[0m",
      "\u001b[1;31mAttributeError\u001b[0m: 'int' object has no attribute 'length'"
     ]
    }
   ],
   "source": [
    "tt[0].length"
   ]
  },
  {
   "cell_type": "code",
   "execution_count": 35,
   "metadata": {},
   "outputs": [
    {
     "data": {
      "text/plain": [
       "[]"
      ]
     },
     "execution_count": 35,
     "metadata": {},
     "output_type": "execute_result"
    }
   ],
   "source": [
    "tt[1]"
   ]
  },
  {
   "cell_type": "code",
   "execution_count": 37,
   "metadata": {},
   "outputs": [
    {
     "name": "stdout",
     "output_type": "stream",
     "text": [
      "1\n"
     ]
    }
   ],
   "source": [
    "if tt[0]:\n",
    "    print('1')\n",
    "else:\n",
    "    print('2')"
   ]
  },
  {
   "cell_type": "code",
   "execution_count": 3,
   "metadata": {
    "collapsed": true
   },
   "outputs": [],
   "source": [
    "import scipy.stats as stats"
   ]
  },
  {
   "cell_type": "code",
   "execution_count": 5,
   "metadata": {
    "collapsed": true
   },
   "outputs": [],
   "source": [
    "from scipy.stats import binom"
   ]
  },
  {
   "cell_type": "code",
   "execution_count": 6,
   "metadata": {
    "collapsed": true
   },
   "outputs": [],
   "source": [
    "import scipy.stats as st"
   ]
  },
  {
   "cell_type": "code",
   "execution_count": 7,
   "metadata": {
    "collapsed": true
   },
   "outputs": [],
   "source": [
    "rv = st.poisson(2)"
   ]
  },
  {
   "cell_type": "code",
   "execution_count": 8,
   "metadata": {},
   "outputs": [
    {
     "data": {
      "text/plain": [
       "<scipy.stats._distn_infrastructure.rv_frozen at 0x28bf9f95588>"
      ]
     },
     "execution_count": 8,
     "metadata": {},
     "output_type": "execute_result"
    }
   ],
   "source": [
    "rv"
   ]
  },
  {
   "cell_type": "code",
   "execution_count": 9,
   "metadata": {
    "collapsed": true
   },
   "outputs": [],
   "source": [
    "import numpy as np"
   ]
  },
  {
   "cell_type": "code",
   "execution_count": 13,
   "metadata": {},
   "outputs": [
    {
     "data": {
      "text/plain": [
       "9"
      ]
     },
     "execution_count": 13,
     "metadata": {},
     "output_type": "execute_result"
    }
   ],
   "source": [
    "np.random.poisson(lam=5)"
   ]
  },
  {
   "cell_type": "code",
   "execution_count": 32,
   "metadata": {
    "collapsed": true
   },
   "outputs": [],
   "source": [
    "import random\n",
    "import time"
   ]
  },
  {
   "cell_type": "code",
   "execution_count": 2,
   "metadata": {},
   "outputs": [
    {
     "data": {
      "text/plain": [
       "0.5073136153578386"
      ]
     },
     "execution_count": 2,
     "metadata": {},
     "output_type": "execute_result"
    }
   ],
   "source": [
    "random.random()"
   ]
  },
  {
   "cell_type": "code",
   "execution_count": 35,
   "metadata": {
    "collapsed": true
   },
   "outputs": [],
   "source": [
    "vy = [random.random() for i in range(100000)]\n",
    "y = random.random()\n",
    "vy.sort()"
   ]
  },
  {
   "cell_type": "code",
   "execution_count": 38,
   "metadata": {},
   "outputs": [
    {
     "name": "stdout",
     "output_type": "stream",
     "text": [
      "61702\n",
      "total cost time 0.09474825859069824\n"
     ]
    }
   ],
   "source": [
    "time1 = time.time()\n",
    "smod = lambda x: x+1-int(x+1)\n",
    "tv = [smod(vy[i]-y) for i in range(len(vy))]\n",
    "index = tv.index(min(tv))\n",
    "time2 = time.time()\n",
    "print(index)\n",
    "print('total cost time', time2-time1)"
   ]
  },
  {
   "cell_type": "code",
   "execution_count": 57,
   "metadata": {},
   "outputs": [
    {
     "name": "stdout",
     "output_type": "stream",
     "text": [
      "61702\n",
      "total cost time 1.2222588062286377\n"
     ]
    }
   ],
   "source": [
    "time1 = time.time()\n",
    "\n",
    "for foo in range(len(vy)):\n",
    "    if vy[foo]>y:\n",
    "        break\n",
    "      \n",
    "time2 = time.time()\n",
    "print(foo)\n",
    "print('total cost time', time2-time1)\n",
    "        "
   ]
  },
  {
   "cell_type": "code",
   "execution_count": 58,
   "metadata": {},
   "outputs": [
    {
     "name": "stdout",
     "output_type": "stream",
     "text": [
      "61702\n",
      "total cost time 0.8439192771911621\n"
     ]
    }
   ],
   "source": [
    "time1 = time.time()\n",
    "\n",
    "for ind_large in (x for x in range(len(tv)) if vy[x]>y): break\n",
    "    \n",
    "time2 = time.time()\n",
    "print(ind_large)\n",
    "print('total cost time', time2-time1)"
   ]
  },
  {
   "cell_type": "code",
   "execution_count": 7,
   "metadata": {},
   "outputs": [
    {
     "name": "stdout",
     "output_type": "stream",
     "text": [
      "9\n"
     ]
    }
   ],
   "source": [
    "index = ts.index(max(ts))\n",
    "print(index)"
   ]
  },
  {
   "cell_type": "code",
   "execution_count": 75,
   "metadata": {},
   "outputs": [
    {
     "name": "stdout",
     "output_type": "stream",
     "text": [
      "[0.020845732394961236, 0.05009565458610532, 0.09046934734752776, 0.11678751794130615, 0.3615119690413743, 0.5382425521839436, 0.5404708116906218, 0.7063521553256311, 0.7989536069968259, 0.8114674955285732]\n",
      "0\n",
      "9\n",
      "0\n"
     ]
    }
   ],
   "source": [
    "vy = [random.random() for i in range(10)]\n",
    "vy.sort()\n",
    "y = 0\n",
    "ind_large = None\n",
    "for ind_large in (x for x in range(len(vy)) if vy[x]>y): break\n",
    "    \n",
    "if ind_large==None or ind_large==0:\n",
    "    ind_up = len(vy) - 1\n",
    "    ind_down = 0\n",
    "else:\n",
    "    ind_up = ind_large - 1\n",
    "    ind_down = ind_large\n",
    "\n",
    "print(vy)\n",
    "print(y)\n",
    "print(ind_up)\n",
    "print(ind_down)"
   ]
  },
  {
   "cell_type": "code",
   "execution_count": null,
   "metadata": {
    "collapsed": true
   },
   "outputs": [],
   "source": [
    "\n",
    "\n",
    "\n",
    "\n",
    "\n",
    "\n",
    "\n",
    "\n",
    "\n",
    "\n",
    "\n",
    "\n",
    "\n",
    "\n",
    "\n",
    "\n",
    "\n",
    "\n",
    "\n"
   ]
  }
 ],
 "metadata": {
  "kernelspec": {
   "display_name": "Python 3",
   "language": "python",
   "name": "python3"
  },
  "language_info": {
   "codemirror_mode": {
    "name": "ipython",
    "version": 3
   },
   "file_extension": ".py",
   "mimetype": "text/x-python",
   "name": "python",
   "nbconvert_exporter": "python",
   "pygments_lexer": "ipython3",
   "version": "3.6.2"
  }
 },
 "nbformat": 4,
 "nbformat_minor": 2
}
