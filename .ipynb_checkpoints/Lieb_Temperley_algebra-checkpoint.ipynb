{
 "cells": [
  {
   "cell_type": "code",
   "execution_count": null,
   "metadata": {
    "collapsed": true
   },
   "outputs": [],
   "source": [
    "import numpy as np\n",
    "import matplotlib.pyplot as plt\n",
    "import bisect\n",
    "import time\n",
    "import array\n",
    "\n",
    "\n",
    "def fn_lieb_run(lieb_up, lieb_down, index0, index1, isup0):\n",
    "        N = len(lieb_up)//2  \n",
    "        \n",
    "        isget = False\n",
    "        ci0 = -1\n",
    "        \n",
    "        if isup0:\n",
    "            ind = index0 + N\n",
    "        else:\n",
    "            ind = index0\n",
    "        isup = isup0\n",
    "        while True:\n",
    "            if isup:\n",
    "                ind = lieb_up[ind]\n",
    "                if ind<=N-1:\n",
    "                    if not isget:\n",
    "                        ci0 = ind\n",
    "                        isget = True\n",
    "                    ind = ind + N\n",
    "                else:\n",
    "                    ind = ind - N\n",
    "                    if ind==index0 or ind==index1:\n",
    "                        return ind, isup, ci0\n",
    "                isup = not isup\n",
    "                \n",
    "            else:\n",
    "                ind = lieb_down[ind]\n",
    "                if ind>=N:\n",
    "                    ind = ind - N\n",
    "                    if not isget:\n",
    "                        ci0 = ind\n",
    "                        isget = True\n",
    "                else:\n",
    "                    if ind==index0 or ind==index1:\n",
    "                        return ind, isup, ci0\n",
    "                    ind = ind + N\n",
    "                isup = not isup\n",
    "\n",
    "\n",
    "def fn_lieb_run_modify(lieb_up, lieb_down, ind0, ind1, isup0, ci_md, v_ci, v_md_ind, v_md_value):\n",
    "        N = len(lieb_up)//2  \n",
    "        \n",
    "        md_num = 0\n",
    "        \n",
    "        if isup0:\n",
    "            ind = ind0 + N\n",
    "        else:\n",
    "            ind = ind0\n",
    "        isup = isup0\n",
    "        \n",
    "        while True:\n",
    "            if isup:\n",
    "                ind = lieb_up[ind]\n",
    "                if ind<=N-1:\n",
    "                    v_md_ind[md_num] = ind\n",
    "                    v_md_value[md_num] = v_ci[ind]\n",
    "                    v_ci[ind] = ci_md\n",
    "                    md_num = md_num + 1\n",
    "                    ind = ind + N\n",
    "                else:\n",
    "                    ind = ind - N\n",
    "                    if ind==index0 or ind==index1:\n",
    "                        return md_num\n",
    "                isup = not isup\n",
    "                \n",
    "            else:\n",
    "                ind = lieb_down[ind]\n",
    "                if ind>=N:\n",
    "                    ind = ind - N\n",
    "                    v_md_ind[md_num] = ind\n",
    "                    v_md_value[md_num] = v_ci[ind]\n",
    "                    md_num = md_num + 1\n",
    "                    v_ci[ind] = ci_md\n",
    "                else:\n",
    "                    if ind==index0 or ind==index1:\n",
    "                        return md_num\n",
    "                    ind = ind + N\n",
    "                isup = not isup\n",
    "                \n",
    "                \n",
    "class SN:\n",
    "    def __init__(self,N,M):\n",
    "        self.N = N\n",
    "        self.M = M\n",
    "        self.lmap = [fn_lieb_identity(N) for _ in range(M+1)]\n",
    "        self.cn = N\n",
    "        self.circle_index = [i for i in range(N)]\n",
    "        self.v_stack = [0 for _ in range(N)]\n",
    "        self.stack_top = -1\n",
    "        self.Hamiltonian = [[0 for _ in range(N)] for _ in range(N)]\n",
    "        \n",
    "        self.stack_top_backup = -1\n",
    "        self.cn_backup = N\n",
    "        self.v_for_stack = []\n",
    "        self.v_modified_map_index = []\n",
    "        self.v_modified_map_value = []\n",
    "        self.modified_map_num = 0\n",
    "        self.v_modified_circle_index = []\n",
    "        self.v_modified_circle_value = []\n",
    "        self.modified_circle_num = 0\n",
    "        \n",
    "        self.v_circle1 = []\n",
    "        self.v_circle2 = []\n",
    "        \n",
    "        \n",
    "    def fn_stack_circle_pull(self):\n",
    "        pop_value = self.v_stack[self.stack_top]\n",
    "        self.stack_top = self.stack_top - 1\n",
    "        return pop_value\n",
    "    \n",
    "    \n",
    "    def fn_stack_circle_push(self,index):\n",
    "        self.stack_top = self.stack_top + 1\n",
    "        self.v_stack[self.stack_top]"
   ]
  },
  {
   "cell_type": "code",
   "execution_count": 21,
   "metadata": {},
   "outputs": [],
   "source": [
    "def fn_try(x):\n",
    "    x[0] = 2"
   ]
  },
  {
   "cell_type": "code",
   "execution_count": 27,
   "metadata": {},
   "outputs": [],
   "source": [
    "y = [0]\n",
    "fn_try(y)"
   ]
  },
  {
   "cell_type": "code",
   "execution_count": 25,
   "metadata": {},
   "outputs": [
    {
     "data": {
      "text/plain": [
       "[2]"
      ]
     },
     "execution_count": 25,
     "metadata": {},
     "output_type": "execute_result"
    }
   ],
   "source": [
    "y"
   ]
  },
  {
   "cell_type": "code",
   "execution_count": null,
   "metadata": {
    "collapsed": true
   },
   "outputs": [],
   "source": []
  }
 ],
 "metadata": {
  "kernelspec": {
   "display_name": "Python 3",
   "language": "python",
   "name": "python3"
  },
  "language_info": {
   "codemirror_mode": {
    "name": "ipython",
    "version": 3
   },
   "file_extension": ".py",
   "mimetype": "text/x-python",
   "name": "python",
   "nbconvert_exporter": "python",
   "pygments_lexer": "ipython3",
   "version": "3.6.2"
  }
 },
 "nbformat": 4,
 "nbformat_minor": 2
}
