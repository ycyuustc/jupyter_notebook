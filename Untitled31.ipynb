{
 "cells": [
  {
   "cell_type": "code",
   "execution_count": 67,
   "metadata": {
    "collapsed": true
   },
   "outputs": [],
   "source": [
    "import numpy as np\n",
    "import matplotlib.pyplot as plt\n",
    "import bisect\n",
    "import time\n",
    "import array\n",
    "\n",
    "\n",
    "def fn_forward(map_up0,map_down0,v_index0,v_legs):\n",
    "    map_up = map_up0\n",
    "    \n",
    "\n",
    "\n",
    "def fn_lieb_find_circle(lieb_up,lieb_down,index0,index1):\n",
    "    (ind_out, isup, v_circle1) = fn_lieb_combine(lieb_up,lieb_down,index0,index1,True)\n",
    "    \n",
    "    # case 1\n",
    "    if ind_out==index1 and isup==True:\n",
    "        circle_number_change = 1\n",
    "        if v_circle1:\n",
    "            res = fn_lieb_combine(lieb_up,lieb_down,index0,index1,False)\n",
    "            v_circle2 = res[2]\n",
    "            if v_circle2:\n",
    "                if len(v_circle1)>=len(v_circle2):\n",
    "                    return circle_number_change, v_circle2, v_circle1\n",
    "                else:\n",
    "                    return circle_number_change, v_circle1, v_circle2\n",
    "            else:\n",
    "                return circle_number_change, [], []\n",
    "        else:\n",
    "            return circle_number_change, [], []\n",
    "        \n",
    "    # case 2\n",
    "    elif ind_out==index1 and isup==False:\n",
    "        circle_number_change = 0\n",
    "        return circle_number_change, [], []\n",
    "    \n",
    "    # case 3\n",
    "    elif ind_out==index0 and isup==False:\n",
    "        circle_number_change = -1\n",
    "        if v_circle1:\n",
    "            res = fn_lieb_combine(lieb_up,lieb_down,index1,index0,True)\n",
    "            v_circle2 = res[2]\n",
    "            if v_circle2:\n",
    "                if len(v_circle1)>=len(v_circle2):\n",
    "                    return circle_number_change, v_circle2, v_circle1\n",
    "                else:\n",
    "                    return circle_number_change, v_circle1, v_circle2\n",
    "            else:\n",
    "                return circle_number_change, [], []\n",
    "    else:\n",
    "        print('error')\n",
    "    \n",
    "    \n",
    "def fn_lieb_combine(lieb_up, lieb_down, index0, index1, isup0):\n",
    "        N = len(lieb_up)//2      \n",
    "        v_mid = []\n",
    "        if isup0:\n",
    "            ind = index0 + N\n",
    "        else:\n",
    "            ind = index0\n",
    "        isup = isup0\n",
    "        while True:\n",
    "            if isup:\n",
    "                ind = lieb_up[ind]\n",
    "                if ind<=N-1:       \n",
    "                    v_mid.append(ind)\n",
    "                    ind = ind + N\n",
    "                else:\n",
    "                    ind = ind - N\n",
    "                    if ind==index0 or ind==index1:\n",
    "                        return ind, isup, v_mid\n",
    "                isup = not isup\n",
    "                \n",
    "            else:\n",
    "                ind = lieb_down[ind]\n",
    "                if ind>=N:\n",
    "                    ind = ind - N\n",
    "                    v_mid.append(ind)\n",
    "                else:\n",
    "                    if ind==index0 or ind==index1:\n",
    "                        return ind, isup, v_mid\n",
    "                    ind = ind + N\n",
    "                isup = not isup\n",
    "            # print(ind)\n",
    "      \n",
    "    \n",
    "def fn_lieb_add(lieb, p1, p2):\n",
    "    t1 = lieb[p1]\n",
    "    t2 = lieb[p2]\n",
    "    if not t1 == p2:\n",
    "        lieb[t1] = t2\n",
    "        lieb[t2] = t1\n",
    "        lieb[p1] = p2\n",
    "        lieb[p2] = p1\n",
    "        \n",
    "        \n",
    "def fn_lieb_identity(N):\n",
    "    return [i+N for i in range(N)] + [i for i in range(N)]\n",
    "\n",
    "\n",
    "class SN:\n",
    "    def __init__(self,N,M):\n",
    "        self.N = N\n",
    "        self.M = M\n",
    "        self.lmap = [fn_lieb_identity(N) for _ in range(M+1)]\n",
    "        self.cn = N\n",
    "        self.circle_index = [i for i in range(N)]\n",
    "        self.stack_circle = [[], N]\n",
    "        self.Hamiltonian = [[0 for _ in range(N)] for _ in range(N)]\n",
    "      \n",
    "    \n",
    "    def fn_initialization(self):\n",
    "        for layer in range(self.M-1, -1, -1):\n",
    "            map_up = self.lmap[layer]\n",
    "            map_down = self.lmap[layer + 1]\n",
    "            leg_number = np.random.poisson(1)\n",
    "            vp = [np.random.randint(1,N) for _ in range(leg_number)]\n",
    "            \n",
    "            \n",
    "    \n",
    "        \n",
    "    def fn_stack_circle_pull(self):\n",
    "        if not self.stack_circle[0]:\n",
    "            num_circle = self.stack_circle[1]\n",
    "            self.stack_circle[1] = num_circle + 1\n",
    "            self.circle.append([])\n",
    "        else:\n",
    "            num_circle = self.stack_circle[0][-1]\n",
    "            self.stack_circle[0].pop()\n",
    "        return num_circle\n",
    "    \n",
    "    \n",
    "    def fn_stack_circle_push(self,index):\n",
    "        self.stack_circle[0].append(index)\n",
    "        \n",
    "        \n",
    "    def fn_try_layer(self,layer):\n",
    "        map_up = sn.lmap[layer]\n",
    "        map_down = sn.lmap[layer+1]\n",
    "        circle_number = sn.cn"
   ]
  },
  {
   "cell_type": "code",
   "execution_count": 70,
   "metadata": {},
   "outputs": [
    {
     "name": "stdout",
     "output_type": "stream",
     "text": [
      "[1, 0, 4, 7, 2, 6, 5, 3]\n",
      "[3, 5, 6, 0, 7, 1, 2, 4]\n",
      "(2, False, [2])\n",
      "(0, [], [])\n"
     ]
    }
   ],
   "source": [
    "lieb = fn_lieb_identity(4)\n",
    "lieb1 = fn_lieb_identity(4)\n",
    "lieb2 = fn_lieb_identity(4)\n",
    "fn_lieb_add(lieb1,0,1)\n",
    "fn_lieb_add(lieb1,5,6)\n",
    "fn_lieb_add(lieb2,0,3)\n",
    "print(lieb1)\n",
    "print(lieb2)\n",
    "print(fn_lieb_combine(lieb1,lieb2,0,2,True))\n",
    "print(fn_lieb_find_circle(lieb1,lieb2,2,0))"
   ]
  },
  {
   "cell_type": "code",
   "execution_count": 95,
   "metadata": {},
   "outputs": [
    {
     "name": "stdout",
     "output_type": "stream",
     "text": [
      "[[0, 3], [0, 1], [3, 2], [1, 2], [0, 1]]\n",
      "[3, 2, 1, 0, 5, 4, 7, 6]\n",
      "[4, 5, 6, 7, 0, 1, 2, 3]\n",
      "1\n",
      "[0, 0, 0, 0]\n"
     ]
    }
   ],
   "source": [
    "N = 4\n",
    "M = 6\n",
    "sn = SN(N,M)\n",
    "v_insert = []\n",
    "for layer in range(M):\n",
    "    map_up = sn.lmap[layer]\n",
    "    map_down = sn.lmap[layer+1]\n",
    "    leg_number = np.random.poisson(1)\n",
    "    v_p1 = [-1 for _ in range(leg_number)]\n",
    "    v_p2 = [-1 for _ in range(leg_number)]\n",
    "    for k in range(leg_number):\n",
    "        v_p1[k] = np.random.randint(0,N)\n",
    "        while True:\n",
    "            num = np.random.randint(0,N)\n",
    "            if num!=v_p1[k]:\n",
    "                v_p2[k] = num\n",
    "                v_insert.append([v_p1[k],v_p2[k]])\n",
    "                break\n",
    "\n",
    "    for k in range(leg_number):\n",
    "        p1 = v_p1[k]\n",
    "        p2 = v_p2[k]\n",
    "        (cn_change, v_circle1, v_circle2) = fn_lieb_find_circle(map_up,map_down,p1,p2)\n",
    "        sn.cn = sn.cn + cn_change\n",
    "        if v_circle1:\n",
    "            if cn_change == 1:\n",
    "                circle_index = sn.fn_stack_circle_pull()\n",
    "                for change_index in v_circle1:\n",
    "                    sn.circle_index[change_index] = circle_index\n",
    "            elif cn_change == -1:\n",
    "                sn.fn_stack_circle_push(sn.circle_index[v_circle1[0]])\n",
    "                circle_index = sn.circle_index[v_circle2[0]]\n",
    "                for change_index in v_circle1:\n",
    "                    sn.circle_index[change_index] = circle_index\n",
    "            else:\n",
    "                print('error')\n",
    "        fn_lieb_add(map_up, p1 + N, p2 + N)\n",
    "        \n",
    "    sn.lmap[layer+1] = map_up\n",
    "\n",
    "print(v_insert)\n",
    "print(map_up)\n",
    "print(map_down)\n",
    "\n",
    "print(sn.cn)\n",
    "print(sn.circle_index)"
   ]
  },
  {
   "cell_type": "code",
   "execution_count": 94,
   "metadata": {},
   "outputs": [
    {
     "data": {
      "text/plain": [
       "[4, 5, 6, 7, 0, 1, 2, 3]"
      ]
     },
     "execution_count": 94,
     "metadata": {},
     "output_type": "execute_result"
    }
   ],
   "source": [
    "sn.lmap[6]"
   ]
  },
  {
   "cell_type": "code",
   "execution_count": 48,
   "metadata": {},
   "outputs": [
    {
     "name": "stdout",
     "output_type": "stream",
     "text": [
      "[1, 0, 4, 7, 2, 6, 5, 3]\n",
      "[3, 5, 6, 0, 7, 1, 2, 4]\n",
      "6\n",
      "6\n",
      "(1, True, [2])\n",
      "4\n",
      "0\n",
      "False\n",
      "[0]\n",
      "5\n"
     ]
    }
   ],
   "source": [
    "lieb = fn_lieb_identity(4)\n",
    "lieb1 = fn_lieb_identity(4)\n",
    "lieb2 = fn_lieb_identity(4)\n",
    "fn_lieb_add(lieb1,0,1)\n",
    "fn_lieb_add(lieb1,5,6)\n",
    "fn_lieb_add(lieb2,0,3)\n",
    "print(lieb1)\n",
    "print(lieb2)\n",
    "print(fn_lieb_combine(lieb1,lieb2,0,1,True))\n",
    "sn = SN(4,6)\n",
    "\n",
    "\n",
    "for layer in range(sn.M):\n",
    "    map_up = sn.lmap[layer]\n",
    "    map_down = sn.lmap[layer+1]\n",
    "    circle_number = sn.cn\n",
    "    p1 = 0\n",
    "    p2 = 1\n",
    "    (ind_out,isup,v_circle1) = fn_lieb_combine(map_up,map_down,p1,p2,True)\n",
    "    if ind_out==p2 and isup==True:\n",
    "        circle_number = circle_number + 1\n",
    "        if v_circle1:\n",
    "            res = fn_lieb_combine(map_up,map_down,p1,p2,False)\n",
    "            \n",
    "map_up = sn.lmap[0]\n",
    "map_down = sn.lmap[1]\n",
    "circle_number = sn.cn\n",
    "p1 = 0\n",
    "p2 = 1\n",
    "(ind_out,isup,v_circle1) = fn_lieb_combine(map_up,map_down,p1,p2,True)\n",
    "print(ind_out)\n",
    "print(isup)\n",
    "print(v_circle1)\n",
    "\n",
    "if ind_out==p2 and isup==True:    \n",
    "    circle_number = circle_number + 1\n",
    "    if v_circle1:\n",
    "        res = fn_lieb_combine(map_up,map_down,p1,p2,False)\n",
    "        v_circle2 = res[2]   \n",
    "elif ind_out==p1 and isup==False:\n",
    "    circle_number = circle_number - 1\n",
    "    if v_circle1:\n",
    "        res = fn_lieb_combine(map_up,map_down,p2,p1,True)\n",
    "        v_circle2 = res[2]\n",
    "    "
   ]
  },
  {
   "cell_type": "code",
   "execution_count": 71,
   "metadata": {},
   "outputs": [
    {
     "data": {
      "text/plain": [
       "[2, 0, 6, 1, 1, 1, 6]"
      ]
     },
     "execution_count": 71,
     "metadata": {},
     "output_type": "execute_result"
    }
   ],
   "source": [
    "v_p1"
   ]
  },
  {
   "cell_type": "code",
   "execution_count": 103,
   "metadata": {},
   "outputs": [
    {
     "name": "stdout",
     "output_type": "stream",
     "text": [
      "4\n",
      "3\n",
      "2\n",
      "1\n",
      "0\n"
     ]
    }
   ],
   "source": [
    "for i in range(4,-1,-1):\n",
    "    print(i)"
   ]
  },
  {
   "cell_type": "code",
   "execution_count": null,
   "metadata": {
    "collapsed": true
   },
   "outputs": [],
   "source": []
  }
 ],
 "metadata": {
  "kernelspec": {
   "display_name": "Python 3",
   "language": "python",
   "name": "python3"
  },
  "language_info": {
   "codemirror_mode": {
    "name": "ipython",
    "version": 3
   },
   "file_extension": ".py",
   "mimetype": "text/x-python",
   "name": "python",
   "nbconvert_exporter": "python",
   "pygments_lexer": "ipython3",
   "version": "3.6.2"
  }
 },
 "nbformat": 4,
 "nbformat_minor": 2
}
