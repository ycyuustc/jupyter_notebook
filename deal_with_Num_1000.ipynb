{
 "cells": [
  {
   "cell_type": "code",
   "execution_count": 1,
   "metadata": {},
   "outputs": [
    {
     "name": "stderr",
     "output_type": "stream",
     "text": [
      "C:\\ProgramData\\Anaconda3\\lib\\site-packages\\sklearn\\cross_validation.py:41: DeprecationWarning: This module was deprecated in version 0.18 in favor of the model_selection module into which all the refactored classes and functions are moved. Also note that the interface of the new CV iterators are different from that of this module. This module will be removed in 0.20.\n",
      "  \"This module will be removed in 0.20.\", DeprecationWarning)\n",
      "C:\\ProgramData\\Anaconda3\\lib\\site-packages\\sklearn\\learning_curve.py:22: DeprecationWarning: This module was deprecated in version 0.18 in favor of the model_selection module into which all the functions are moved. This module will be removed in 0.20\n",
      "  DeprecationWarning)\n"
     ]
    }
   ],
   "source": [
    "import numpy as np\n",
    "from sklearn import datasets\n",
    "from sklearn.cross_validation import train_test_split\n",
    "from sklearn.linear_model import LinearRegression\n",
    "import matplotlib.pyplot as plt\n",
    "from sklearn import preprocessing\n",
    "import numpy as np\n",
    "from sklearn.cross_validation import train_test_split\n",
    "from sklearn.datasets.samples_generator import make_classification\n",
    "from sklearn.svm import SVC\n",
    "import matplotlib.pyplot as plt\n",
    "from sklearn.datasets import load_iris\n",
    "from sklearn.cross_validation import train_test_split\n",
    "from sklearn.neighbors import KNeighborsClassifier\n",
    "\n",
    "from sklearn.datasets import load_iris\n",
    "from sklearn.cross_validation import train_test_split\n",
    "from sklearn.learning_curve import validation_curve\n",
    "from sklearn.neighbors import KNeighborsClassifier\n",
    "from sklearn.datasets import load_digits\n",
    "from sklearn.svm import SVC\n",
    "from sklearn.learning_curve import learning_curve\n",
    "from sklearn.svm import SVR"
   ]
  },
  {
   "cell_type": "code",
   "execution_count": 12,
   "metadata": {},
   "outputs": [],
   "source": [
    "import numpy as np\n",
    "import matplotlib.pyplot as plt\n",
    "import random as rnd\n",
    "import multiprocessing as mp\n",
    "import time\n",
    "import pickle\n",
    "import os\n",
    "\n",
    "# global variable path\n",
    "MY_PATH = 'E:/pythondata/'\n",
    "FILE_HEADER = 'Num_1000_n0_ba_Xy'\n",
    "\n",
    "file_name = MY_PATH + FILE_HEADER\n",
    "\n",
    "with open(file_name, 'rb') as myfile:\n",
    "    mylist = pickle.load(myfile)\n"
   ]
  },
  {
   "cell_type": "code",
   "execution_count": 13,
   "metadata": {},
   "outputs": [],
   "source": [
    "m_ind = mylist[0]\n",
    "v_energy = mylist[1]"
   ]
  },
  {
   "cell_type": "code",
   "execution_count": 14,
   "metadata": {},
   "outputs": [],
   "source": [
    "ba_X = m_ind\n",
    "ba_y = v_energy"
   ]
  },
  {
   "cell_type": "code",
   "execution_count": 15,
   "metadata": {},
   "outputs": [],
   "source": [
    "# 因为是蒙卡的原因，需要扔掉一些点。这里扔掉每个seed产生的\n",
    "# 前 Num_drop = 10 个点\n",
    "# 生成的 tba_X 和 tba_y 是去掉这些点后重新排布得到的训练集\n",
    "\n",
    "Num0 = 1000\n",
    "Num = Num0 + 1\n",
    "Num_thread = 20\n",
    "Num_iteration = 200\n",
    "\n",
    "Num_drop = 10\n",
    "\n",
    "tba_X = np.zeros([(Num_iteration - Num_drop)*Num_thread, Num])\n",
    "tba_y = np.zeros([(Num_iteration - Num_drop)*Num_thread])\n",
    "\n",
    "for i1 in range(0, Num_iteration - Num_drop):\n",
    "    for i2 in range(0, Num_thread):\n",
    "        X = ba_X[i2*Num_iteration + i1 + Num_drop, :]\n",
    "        y = ba_y[i2*Num_iteration + i1 + Num_drop]\n",
    "        tba_X[i1*Num_thread + i2, :] = X\n",
    "        tba_y[i1*Num_thread + i2] = y"
   ]
  },
  {
   "cell_type": "code",
   "execution_count": 16,
   "metadata": {},
   "outputs": [],
   "source": [
    "# 主要用于求解BA方程的代码\n",
    "\n",
    "def fn_fj(vx, v_ind, c):\n",
    "    num = vx.size\n",
    "    mj = np.matmul(np.ones([num, 1]), vx.reshape(1, num))\n",
    "    ml = np.matmul(vx.reshape(num, 1), np.ones([1, num]))\n",
    "    v_result = -2 * np.pi * v_ind + vx + 2 * np.sum(np.arctan(1 / c * (mj - ml)), axis=0)\n",
    "    return v_result\n",
    "\n",
    "\n",
    "def fn_m(vx, c):\n",
    "    num = vx.size\n",
    "    mj = np.matmul(np.ones([num, 1]), vx.reshape(1, num))\n",
    "    ml = np.matmul(vx.reshape(num, 1), np.ones([1, num]))\n",
    "    m_r = 2 * c / (c ** 2 + (mj - ml) ** 2)\n",
    "    v_r = np.sum(m_r, axis=0) + np.ones(num)\n",
    "    tm1 = np.diag(v_r)\n",
    "    tm2 = -m_r\n",
    "\n",
    "    m_result = tm1 + tm2\n",
    "    return m_result\n",
    "\n",
    "\n",
    "def fn_steepest(vx, v_ind, lamb):\n",
    "    c = 1.0 / lamb\n",
    "\n",
    "    while 1:\n",
    "\n",
    "        dfj = fn_fj(vx, v_ind, c)\n",
    "        matrix = fn_m(vx, c)\n",
    "        dvx = -np.linalg.solve(matrix, dfj)\n",
    "        vx = vx + dvx\n",
    "\n",
    "        if np.linalg.norm(fn_fj(vx, v_ind, c)) < 1e-8:\n",
    "            break\n",
    "\n",
    "    return vx\n",
    "\n",
    "\n",
    "def ba_solve_liebliniger_large_c(v_ind, coup):\n",
    "    v0 = 2 * np.pi * v_ind\n",
    "    vx = fn_steepest(v0, v_ind, coup)\n",
    "\n",
    "    return vx"
   ]
  },
  {
   "cell_type": "code",
   "execution_count": 18,
   "metadata": {},
   "outputs": [
    {
     "name": "stdout",
     "output_type": "stream",
     "text": [
      "658978024.302913\n",
      "658978024.302913\n"
     ]
    }
   ],
   "source": [
    "# 验证所得到的数据的正确性数据的正确性\n",
    "test_ind = 32\n",
    "\n",
    "coupling = 0.0002\n",
    "\n",
    "num0 = 1000\n",
    "v_base = 1.0 / 2 * np.arange(-num0, num0 + 1.0, step=2)\n",
    "v_ind_onehot = tba_X[test_ind, :]\n",
    "v_ind = v_base[v_ind_onehot > 0.5].copy()\n",
    "\n",
    "v_root = ba_solve_liebliniger_large_c(v_ind, coupling)\n",
    "\n",
    "print(tba_y[test_ind])\n",
    "print(np.sum(v_root**2))\n"
   ]
  },
  {
   "cell_type": "code",
   "execution_count": 9,
   "metadata": {},
   "outputs": [
    {
     "data": {
      "text/plain": [
       "(7800,)"
      ]
     },
     "execution_count": 9,
     "metadata": {},
     "output_type": "execute_result"
    }
   ],
   "source": [
    "tba_y.shape"
   ]
  },
  {
   "cell_type": "code",
   "execution_count": 19,
   "metadata": {},
   "outputs": [
    {
     "ename": "NameError",
     "evalue": "name 't0ba_X' is not defined",
     "output_type": "error",
     "traceback": [
      "\u001b[1;31m---------------------------------------------------------------------------\u001b[0m",
      "\u001b[1;31mNameError\u001b[0m                                 Traceback (most recent call last)",
      "\u001b[1;32m<ipython-input-19-a267589ee75f>\u001b[0m in \u001b[0;36m<module>\u001b[1;34m()\u001b[0m\n\u001b[1;32m----> 1\u001b[1;33m \u001b[0mX\u001b[0m \u001b[1;33m=\u001b[0m \u001b[0mt0ba_X\u001b[0m\u001b[1;33m[\u001b[0m\u001b[1;36m0\u001b[0m\u001b[1;33m:\u001b[0m\u001b[1;36m7800\u001b[0m\u001b[1;33m]\u001b[0m\u001b[1;33m\u001b[0m\u001b[0m\n\u001b[0m\u001b[0;32m      2\u001b[0m \u001b[0my\u001b[0m \u001b[1;33m=\u001b[0m \u001b[0mt0ba_y\u001b[0m\u001b[1;33m[\u001b[0m\u001b[1;36m0\u001b[0m\u001b[1;33m:\u001b[0m\u001b[1;36m7800\u001b[0m\u001b[1;33m]\u001b[0m\u001b[1;33m\u001b[0m\u001b[0m\n\u001b[0;32m      3\u001b[0m \u001b[1;33m\u001b[0m\u001b[0m\n\u001b[0;32m      4\u001b[0m \u001b[0mreg\u001b[0m \u001b[1;33m=\u001b[0m \u001b[0mSVR\u001b[0m\u001b[1;33m(\u001b[0m\u001b[0mgamma\u001b[0m\u001b[1;33m=\u001b[0m\u001b[1;36m0.2\u001b[0m\u001b[1;33m,\u001b[0m \u001b[0mC\u001b[0m\u001b[1;33m=\u001b[0m\u001b[1;36m1e6\u001b[0m\u001b[1;33m,\u001b[0m \u001b[0mkernel\u001b[0m\u001b[1;33m=\u001b[0m\u001b[1;34m'rbf'\u001b[0m\u001b[1;33m)\u001b[0m\u001b[1;33m\u001b[0m\u001b[0m\n\u001b[0;32m      5\u001b[0m \u001b[0mreg\u001b[0m\u001b[1;33m.\u001b[0m\u001b[0mfit\u001b[0m\u001b[1;33m(\u001b[0m\u001b[0mX\u001b[0m\u001b[1;33m,\u001b[0m \u001b[0my\u001b[0m\u001b[1;33m)\u001b[0m\u001b[1;33m\u001b[0m\u001b[0m\n",
      "\u001b[1;31mNameError\u001b[0m: name 't0ba_X' is not defined"
     ]
    }
   ],
   "source": [
    "X = tba_X[0:7800]\n",
    "y = tba_y[0:7800]\n",
    "\n",
    "reg = SVR(gamma=0.2, C=1e6, kernel='rbf')\n",
    "reg.fit(X, y)\n",
    "print(reg.score(X,y))\n",
    "# print(y)\n",
    "# print(reg.predict(X) - y)\n",
    "print(np.max(reg.predict(X) - y))\n",
    "print(np.min(reg.predict(X) - y))"
   ]
  },
  {
   "cell_type": "code",
   "execution_count": 47,
   "metadata": {},
   "outputs": [
    {
     "data": {
      "text/plain": [
       "SVR(C=10000000000.0, cache_size=200, coef0=0.0, degree=3, epsilon=0.1,\n",
       "  gamma=0.002, kernel='rbf', max_iter=-1, shrinking=True, tol=0.001,\n",
       "  verbose=False)"
      ]
     },
     "execution_count": 47,
     "metadata": {},
     "output_type": "execute_result"
    }
   ],
   "source": [
    "reg\n"
   ]
  },
  {
   "cell_type": "code",
   "execution_count": 81,
   "metadata": {},
   "outputs": [
    {
     "data": {
      "text/plain": [
       "array([[1., 2., 3.],\n",
       "       [1., 2., 3.],\n",
       "       [1., 2., 3.],\n",
       "       [1., 2., 3.]])"
      ]
     },
     "execution_count": 81,
     "metadata": {},
     "output_type": "execute_result"
    }
   ],
   "source": [
    "tv = np.array([1,2,3])\n",
    "tv=tv.reshape([1,3])\n",
    "\n",
    "np.matmul(np.ones([4,1]),tv)"
   ]
  },
  {
   "cell_type": "code",
   "execution_count": 90,
   "metadata": {},
   "outputs": [
    {
     "name": "stdout",
     "output_type": "stream",
     "text": [
      "[[0 1]\n",
      " [2 3]]\n"
     ]
    },
    {
     "data": {
      "text/plain": [
       "array([1, 5])"
      ]
     },
     "execution_count": 90,
     "metadata": {},
     "output_type": "execute_result"
    }
   ],
   "source": [
    "tm = np.arange(4).reshape([2,2])\n",
    "print(tm)\n",
    "np.sum(tm, axis = 1)"
   ]
  },
  {
   "cell_type": "code",
   "execution_count": 110,
   "metadata": {},
   "outputs": [],
   "source": [
    "def fn_predict(gamma, vx, vc, mxi, p):\n",
    "    num = vc.size\n",
    "    vx = vx.reshape([1, vx.size])\n",
    "    mx = np.matmul(np.ones([num, 1]), vx)\n",
    "    m_delta = (mx - mxi)**2\n",
    "    matrix = np.exp(-gamma * np.sum(m_delta, axis=1))\n",
    "    vc = vc.reshape([1, num])\n",
    "    result = np.sum(np.matmul(vc, matrix)) + p\n",
    "    \n",
    "    return result\n"
   ]
  },
  {
   "cell_type": "code",
   "execution_count": 112,
   "metadata": {},
   "outputs": [
    {
     "name": "stdout",
     "output_type": "stream",
     "text": [
      "[6.27920013e+08]\n"
     ]
    }
   ],
   "source": [
    "test_ind = X[7, :]\n",
    "print(fn_predict(reg.gamma, test_ind, reg.dual_coef_, reg.support_vectors_, reg.intercept_))"
   ]
  },
  {
   "cell_type": "code",
   "execution_count": 113,
   "metadata": {},
   "outputs": [
    {
     "data": {
      "text/plain": [
       "array([6.27920013e+08])"
      ]
     },
     "execution_count": 113,
     "metadata": {},
     "output_type": "execute_result"
    }
   ],
   "source": [
    "reg.predict(X[7:8])"
   ]
  },
  {
   "cell_type": "code",
   "execution_count": 169,
   "metadata": {},
   "outputs": [
    {
     "data": {
      "text/plain": [
       "5e-06"
      ]
     },
     "execution_count": 169,
     "metadata": {},
     "output_type": "execute_result"
    }
   ],
   "source": [
    "beta"
   ]
  },
  {
   "cell_type": "code",
   "execution_count": 183,
   "metadata": {},
   "outputs": [
    {
     "name": "stdout",
     "output_type": "stream",
     "text": [
      "======================================================\n",
      "iteration round 0\n",
      "Learning rate 0.001\n",
      "loss=2732.74\n",
      "number=12.679739\n",
      "energy=577834000.0\n",
      "======================================================\n",
      "iteration round 5\n",
      "Learning rate 0.000975248753121875\n",
      "loss=1935.6255\n",
      "number=74.504486\n",
      "energy=570957600.0\n",
      "======================================================\n",
      "iteration round 10\n",
      "Learning rate 0.0009511101304657719\n",
      "loss=1181.2742\n",
      "number=133.63132\n",
      "energy=565976900.0\n",
      "======================================================\n",
      "iteration round 15\n",
      "Learning rate 0.0009275689688183279\n",
      "loss=470.40894\n",
      "number=190.01257\n",
      "energy=562919040.0\n",
      "======================================================\n",
      "iteration round 20\n",
      "Learning rate 0.0009046104802746175\n",
      "loss=-197.74927\n",
      "number=243.66809\n",
      "energy=561677060.0\n",
      "======================================================\n",
      "iteration round 25\n",
      "Learning rate 0.0008822202429488012\n",
      "loss=-825.15576\n",
      "number=294.6745\n",
      "energy=562049000.0\n",
      "======================================================\n",
      "iteration round 30\n",
      "Learning rate 0.0008603841919146961\n",
      "loss=-1414.5879\n",
      "number=343.1574\n",
      "energy=563789400.0\n",
      "======================================================\n",
      "iteration round 35\n",
      "Learning rate 0.0008390886103705793\n",
      "loss=-1969.2261\n",
      "number=389.27228\n",
      "energy=566645600.0\n",
      "======================================================\n",
      "iteration round 40\n",
      "Learning rate 0.0008183201210226743\n",
      "loss=-2492.3857\n",
      "number=433.19513\n",
      "energy=570389000.0\n",
      "======================================================\n",
      "iteration round 45\n",
      "Learning rate 0.0007980656776819049\n",
      "loss=-2987.3064\n",
      "number=475.10898\n",
      "energy=574823230.0\n",
      "======================================================\n",
      "iteration round 50\n",
      "Learning rate 0.0007783125570686419\n",
      "loss=-3456.962\n",
      "number=515.19666\n",
      "energy=579804400.0\n",
      "======================================================\n",
      "iteration round 55\n",
      "Learning rate 0.0007590483508202912\n",
      "loss=-3904.1807\n",
      "number=553.63745\n",
      "energy=585209600.0\n",
      "======================================================\n",
      "iteration round 60\n",
      "Learning rate 0.0007402609576967046\n",
      "loss=-4331.4097\n",
      "number=590.596\n",
      "energy=590955260.0\n",
      "======================================================\n",
      "iteration round 65\n",
      "Learning rate 0.0007219385759785161\n",
      "loss=-4740.88\n",
      "number=626.2304\n",
      "energy=596985600.0\n",
      "======================================================\n",
      "iteration round 70\n",
      "Learning rate 0.0007040696960536298\n",
      "loss=-5134.5747\n",
      "number=660.6809\n",
      "energy=603249900.0\n",
      "======================================================\n",
      "iteration round 75\n",
      "Learning rate 0.0006866430931872\n",
      "loss=-5514.2666\n",
      "number=694.0773\n",
      "energy=609713660.0\n",
      "======================================================\n",
      "iteration round 80\n",
      "Learning rate 0.0006696478204705642\n",
      "loss=-5881.548\n",
      "number=726.5377\n",
      "energy=616350460.0\n",
      "======================================================\n",
      "iteration round 85\n",
      "Learning rate 0.0006530732019446989\n",
      "loss=-6237.5747\n",
      "number=758.15\n",
      "energy=623145200.0\n",
      "======================================================\n",
      "iteration round 90\n",
      "Learning rate 0.0006369088258938781\n",
      "loss=-6582.7695\n",
      "number=788.9272\n",
      "energy=630045950.0\n",
      "======================================================\n",
      "iteration round 95\n",
      "Learning rate 0.0006211445383053219\n",
      "loss=-6800.3594\n",
      "number=809.37146\n",
      "energy=636972300.0\n"
     ]
    }
   ],
   "source": [
    "import tensorflow as tf\n",
    "\n",
    "tf.reset_default_graph()\n",
    "\n",
    "c = 1/(2e-4)\n",
    "beta = 5e-6\n",
    "mu = (1000.0/2*np.pi)**2\n",
    "T = 1/beta\n",
    "alpha = -beta*mu\n",
    "\n",
    "num_s = vc.size\n",
    "num_n = reg.support_vectors_.shape[1]\n",
    "\n",
    "vc = reg.dual_coef_.reshape([num_s,])\n",
    "mxi = reg.support_vectors_\n",
    "p = reg.intercept_\n",
    "gamma = reg.gamma\n",
    "\n",
    "# the Learning rate\n",
    "lr = tf.Variable(1, dtype = tf.float32)\n",
    "x0 = tf.placeholder(tf.float32, list(mxi.shape))\n",
    "c0 = tf.placeholder(tf.float32, [num_s,])\n",
    "p0 = tf.placeholder(tf.float32)\n",
    "\n",
    "vn2=tf.get_variable('vn2',\n",
    "                   dtype=tf.float32,\n",
    "                   shape=[num_n,],\n",
    "                   initializer=tf.constant_initializer(np.zeros([num_n,])), \n",
    "                   #initializer=tf.random_uniform_initializer(maxval=1, minval=0),\n",
    "                   constraint=lambda t: tf.clip_by_value(t, 0, 1))\n",
    "# vn = tf.Variable(tf.random_normal([1, num_n]))\n",
    "\n",
    "mx = tf.matmul(tf.ones([num_s, 1]), tf.reshape(vn2, [1, num_n]))\n",
    "m_delta = (mx - x0)**2\n",
    "matrix = tf.exp(-gamma * tf.reduce_sum(m_delta, axis=1))\n",
    "matrix = tf.reshape(matrix, [num_s,])\n",
    "energy = tf.reduce_sum(c0*matrix) + p0[0]\n",
    "\n",
    "particle_number = tf.reduce_sum(vn2)\n",
    "\n",
    "loss = beta*energy + alpha*particle_number\n",
    "train_step = tf.train.GradientDescentOptimizer(lr).minimize(loss)\n",
    "\n",
    "init = tf.global_variables_initializer()\n",
    "\n",
    "with tf.Session() as sess:\n",
    "    sess.run(init)\n",
    "    for step in range(100):\n",
    "        sess.run(tf.assign(lr, 0.001*(0.995**step)))\n",
    "        sess.run(train_step, feed_dict={x0:mxi, c0:vc, p0:p})\n",
    "        if step%5 == 0:\n",
    "            print('======================================================')\n",
    "            print(\"iteration round \" + str(step))\n",
    "            print(\"Learning rate \" + str(0.001*(0.995**step)))\n",
    "            print(\"loss=\" + str(sess.run(loss, feed_dict={x0:mxi, c0:vc, p0:p})))\n",
    "            print(\"number=\" + str(sess.run(particle_number, feed_dict={x0:mxi, c0:vc, p0:p})))\n",
    "            print(\"energy=\" + str(sess.run(energy, feed_dict={x0:mxi, c0:vc, p0:p})))\n",
    "            "
   ]
  },
  {
   "cell_type": "code",
   "execution_count": 126,
   "metadata": {},
   "outputs": [
    {
     "data": {
      "text/plain": [
       "800"
      ]
     },
     "execution_count": 126,
     "metadata": {},
     "output_type": "execute_result"
    }
   ],
   "source": [
    "num_n"
   ]
  },
  {
   "cell_type": "code",
   "execution_count": 49,
   "metadata": {},
   "outputs": [],
   "source": [
    "v_coef = reg.dual_coef_\n",
    "v_support = reg.support_vectors_\n",
    "v_sum = np.zeros([1, 1001])\n",
    "for i in range(800):\n",
    "    coef = v_coef[0, i]\n",
    "    vsur = v_support[i, :]\n",
    "    v_sum += coef * vsur"
   ]
  },
  {
   "cell_type": "code",
   "execution_count": 50,
   "metadata": {},
   "outputs": [
    {
     "data": {
      "image/png": "[encoded data removed]",
      "text/plain": [
       "<Figure size 432x288 with 1 Axes>"
      ]
     },
     "metadata": {},
     "output_type": "display_data"
    }
   ],
   "source": [
    "\n",
    "plt.plot(np.linspace(-1, 1, 1001), v_sum[0, :])\n",
    "plt.show()"
   ]
  },
  {
   "cell_type": "code",
   "execution_count": 51,
   "metadata": {},
   "outputs": [
    {
     "name": "stdout",
     "output_type": "stream",
     "text": [
      "[8.94502458e+10]\n"
     ]
    }
   ],
   "source": [
    "test_ind = X[4, :]\n",
    "print(reg.intercept_ + np.matmul(v_sum, test_ind))"
   ]
  },
  {
   "cell_type": "code",
   "execution_count": 52,
   "metadata": {},
   "outputs": [
    {
     "data": {
      "text/plain": [
       "array([6.59880428e+08])"
      ]
     },
     "execution_count": 52,
     "metadata": {},
     "output_type": "execute_result"
    }
   ],
   "source": [
    "reg.predict(X[4:5])"
   ]
  },
  {
   "cell_type": "code",
   "execution_count": 53,
   "metadata": {},
   "outputs": [
    {
     "name": "stdout",
     "output_type": "stream",
     "text": [
      "gamma=0.0001\n",
      "score=0.996951359585253\n",
      "====================================================\n",
      "gamma=0.00010526315789473685\n",
      "score=0.9969959100024823\n",
      "====================================================\n",
      "gamma=0.00011052631578947369\n",
      "score=0.9970355045093836\n",
      "====================================================\n",
      "gamma=0.00011578947368421053\n",
      "score=0.997076622068158\n",
      "====================================================\n",
      "gamma=0.00012105263157894738\n",
      "score=0.997114832988135\n",
      "====================================================\n",
      "gamma=0.0001263157894736842\n",
      "score=0.9971507170335547\n",
      "====================================================\n",
      "gamma=0.00013157894736842105\n",
      "score=0.9971837275334121\n",
      "====================================================\n",
      "gamma=0.0001368421052631579\n",
      "score=0.9972147192466952\n",
      "====================================================\n",
      "gamma=0.00014210526315789474\n",
      "score=0.9972394084937457\n",
      "====================================================\n",
      "gamma=0.00014736842105263158\n",
      "score=0.9972637821746018\n",
      "====================================================\n",
      "gamma=0.00015263157894736842\n",
      "score=0.9972833217963872\n",
      "====================================================\n",
      "gamma=0.00015789473684210527\n",
      "score=0.99729872423498\n",
      "====================================================\n",
      "gamma=0.0001631578947368421\n",
      "score=0.9973106412632328\n",
      "====================================================\n",
      "gamma=0.00016842105263157895\n",
      "score=0.9973184574852079\n",
      "====================================================\n",
      "gamma=0.0001736842105263158\n",
      "score=0.9973219621987575\n",
      "====================================================\n",
      "gamma=0.00017894736842105264\n",
      "score=0.9973196892749658\n",
      "====================================================\n",
      "gamma=0.00018421052631578948\n",
      "score=0.9973167818344955\n",
      "====================================================\n",
      "gamma=0.00018947368421052632\n",
      "score=0.9973133314164965\n",
      "====================================================\n",
      "gamma=0.00019473684210526317\n",
      "score=0.9973108625321314\n",
      "====================================================\n",
      "gamma=0.0002\n",
      "score=0.9973071147479958\n",
      "====================================================\n"
     ]
    },
    {
     "data": {
      "image/png": "[encoded data removed]",
      "text/plain": [
       "<Figure size 432x288 with 1 Axes>"
      ]
     },
     "metadata": {},
     "output_type": "display_data"
    }
   ],
   "source": [
    "from sklearn.cross_validation import cross_val_score\n",
    "gamma_range = np.linspace(1e-4, 2e-4, 20)\n",
    "g_score = []\n",
    "for gamma in gamma_range:\n",
    "    svr_rbf = SVR(kernel='rbf', C=1e10, gamma=gamma)\n",
    "    scores = cross_val_score(svr_rbf, tba_X[0:1000], tba_y[0:1000], cv=5) # , scoring='mean_squared_error')\n",
    "    print('gamma=' + str(gamma))\n",
    "    print('score=' + str(scores.mean()))\n",
    "    print('====================================================')\n",
    "    g_score.append(scores.mean())\n",
    "plt.plot(gamma_range, g_score, '*')\n",
    "plt.xlabel('value of the gamma')\n",
    "plt.ylabel('cross-validated accuracy')\n",
    "plt.show()"
   ]
  },
  {
   "cell_type": "code",
   "execution_count": 54,
   "metadata": {},
   "outputs": [
    {
     "name": "stdout",
     "output_type": "stream",
     "text": [
      "gamma=0.0001\n",
      "score=0.998844078446175\n",
      "====================================================\n",
      "gamma=0.00010526315789473685\n",
      "score=0.9988629436428639\n",
      "====================================================\n",
      "gamma=0.00011052631578947369\n",
      "score=0.9988808508517135\n",
      "====================================================\n",
      "gamma=0.00011578947368421053\n",
      "score=0.9988975260103377\n",
      "====================================================\n",
      "gamma=0.00012105263157894738\n",
      "score=0.9989131827903007\n",
      "====================================================\n",
      "gamma=0.0001263157894736842\n",
      "score=0.9989265785086372\n",
      "====================================================\n",
      "gamma=0.00013157894736842105\n",
      "score=0.9989399786543182\n",
      "====================================================\n",
      "gamma=0.0001368421052631579\n",
      "score=0.9989514899311942\n",
      "====================================================\n",
      "gamma=0.00014210526315789474\n",
      "score=0.9989610472928472\n",
      "====================================================\n",
      "gamma=0.00014736842105263158\n",
      "score=0.9989707141806294\n",
      "====================================================\n",
      "gamma=0.00015263157894736842\n",
      "score=0.9989788841097436\n",
      "====================================================\n",
      "gamma=0.00015789473684210527\n",
      "score=0.998985220511484\n",
      "====================================================\n",
      "gamma=0.0001631578947368421\n",
      "score=0.9989901798821063\n",
      "====================================================\n",
      "gamma=0.00016842105263157895\n",
      "score=0.9989934562735447\n",
      "====================================================\n",
      "gamma=0.0001736842105263158\n",
      "score=0.9989955666769816\n",
      "====================================================\n",
      "gamma=0.00017894736842105264\n",
      "score=0.9989961263975461\n",
      "====================================================\n",
      "gamma=0.00018421052631578948\n",
      "score=0.9989958331737965\n",
      "====================================================\n",
      "gamma=0.00018947368421052632\n",
      "score=0.9989944228263564\n",
      "====================================================\n",
      "gamma=0.00019473684210526317\n",
      "score=0.9989932461003853\n",
      "====================================================\n",
      "gamma=0.0002\n",
      "score=0.9989919173259173\n",
      "====================================================\n"
     ]
    },
    {
     "data": {
      "image/png": "[encoded data removed]",
      "text/plain": [
       "<Figure size 432x288 with 1 Axes>"
      ]
     },
     "metadata": {},
     "output_type": "display_data"
    }
   ],
   "source": [
    "from sklearn.cross_validation import cross_val_score\n",
    "gamma_range = np.linspace(1e-4, 2e-4, 20)\n",
    "g_score = []\n",
    "for gamma in gamma_range:\n",
    "    svr_rbf = SVR(kernel='rbf', C=1e10, gamma=gamma)\n",
    "    scores = cross_val_score(svr_rbf, tba_X[0:2000], tba_y[0:2000], cv=5) # , scoring='mean_squared_error')\n",
    "    print('gamma=' + str(gamma))\n",
    "    print('score=' + str(scores.mean()))\n",
    "    print('====================================================')\n",
    "    g_score.append(scores.mean())\n",
    "plt.plot(gamma_range, g_score, '*')\n",
    "plt.xlabel('value of the gamma')\n",
    "plt.ylabel('cross-validated accuracy')\n",
    "plt.show()"
   ]
  },
  {
   "cell_type": "code",
   "execution_count": 57,
   "metadata": {},
   "outputs": [
    {
     "name": "stdout",
     "output_type": "stream",
     "text": [
      "gamma=0.0001\n",
      "score=0.9779739641850984\n",
      "====================================================\n",
      "gamma=0.00010526315789473685\n",
      "score=0.9788383746640887\n",
      "====================================================\n",
      "gamma=0.00011052631578947369\n",
      "score=0.97969116385434\n",
      "====================================================\n",
      "gamma=0.00011578947368421053\n",
      "score=0.9804484725142029\n",
      "====================================================\n",
      "gamma=0.00012105263157894738\n",
      "score=0.981141601485675\n",
      "====================================================\n",
      "gamma=0.0001263157894736842\n",
      "score=0.9817466113289204\n",
      "====================================================\n",
      "gamma=0.00013157894736842105\n",
      "score=0.9823422497078784\n",
      "====================================================\n",
      "gamma=0.0001368421052631579\n",
      "score=0.9828840142493089\n",
      "====================================================\n",
      "gamma=0.00014210526315789474\n",
      "score=0.9833808443254478\n",
      "====================================================\n",
      "gamma=0.00014736842105263158\n",
      "score=0.9837913706448491\n",
      "====================================================\n",
      "gamma=0.00015263157894736842\n",
      "score=0.9841335169260242\n",
      "====================================================\n",
      "gamma=0.00015789473684210527\n",
      "score=0.9844276967355444\n",
      "====================================================\n",
      "gamma=0.0001631578947368421\n",
      "score=0.9847044284092388\n",
      "====================================================\n",
      "gamma=0.00016842105263157895\n",
      "score=0.984949654054781\n",
      "====================================================\n",
      "gamma=0.0001736842105263158\n",
      "score=0.9851335996340005\n",
      "====================================================\n",
      "gamma=0.00017894736842105264\n",
      "score=0.9852835723774126\n",
      "====================================================\n",
      "gamma=0.00018421052631578948\n",
      "score=0.9853903213446019\n",
      "====================================================\n",
      "gamma=0.00018947368421052632\n",
      "score=0.9854520733072911\n",
      "====================================================\n",
      "gamma=0.00019473684210526317\n",
      "score=0.9855070855503062\n",
      "====================================================\n",
      "gamma=0.0002\n",
      "score=0.9855411876879254\n",
      "====================================================\n"
     ]
    },
    {
     "data": {
      "image/png": "[encoded data removed]",
      "text/plain": [
       "<Figure size 432x288 with 1 Axes>"
      ]
     },
     "metadata": {},
     "output_type": "display_data"
    }
   ],
   "source": [
    "from sklearn.cross_validation import cross_val_score\n",
    "gamma_range = np.linspace(1e-4, 2e-4, 20)\n",
    "g_score = []\n",
    "for gamma in gamma_range:\n",
    "    svr_rbf = SVR(kernel='rbf', C=1e10, gamma=gamma)\n",
    "    scores = cross_val_score(svr_rbf, tba_X[0:400], tba_y[0:400], cv=5, n_jobs=-1) # , scoring='mean_squared_error')\n",
    "    print('gamma=' + str(gamma))\n",
    "    print('score=' + str(scores.mean()))\n",
    "    print('====================================================')\n",
    "    g_score.append(scores.mean())\n",
    "plt.plot(gamma_range, g_score, '*')\n",
    "plt.xlabel('value of the gamma')\n",
    "plt.ylabel('cross-validated accuracy')\n",
    "plt.show()"
   ]
  },
  {
   "cell_type": "code",
   "execution_count": 68,
   "metadata": {},
   "outputs": [
    {
     "name": "stdout",
     "output_type": "stream",
     "text": [
      "epsilon=0.0001\n",
      "score=0.985541189357799\n",
      "====================================================\n",
      "epsilon=0.0001438449888287663\n",
      "score=0.9855411893571662\n",
      "====================================================\n",
      "epsilon=0.00020691380811147902\n",
      "score=0.9855411893560099\n",
      "====================================================\n",
      "epsilon=0.00029763514416313193\n",
      "score=0.9855411893543703\n",
      "====================================================\n",
      "epsilon=0.00042813323987193956\n",
      "score=0.9855411893522883\n",
      "====================================================\n",
      "epsilon=0.0006158482110660267\n",
      "score=0.9855411893488725\n",
      "====================================================\n",
      "epsilon=0.0008858667904100823\n",
      "score=0.9855411893448143\n",
      "====================================================\n",
      "epsilon=0.0012742749857031334\n",
      "score=0.9855411893381347\n",
      "====================================================\n",
      "epsilon=0.0018329807108324356\n",
      "score=0.9855411893286607\n",
      "====================================================\n",
      "epsilon=0.0026366508987303583\n",
      "score=0.9855411893152668\n",
      "====================================================\n",
      "epsilon=0.00379269019073225\n",
      "score=0.9855411892960946\n",
      "====================================================\n",
      "epsilon=0.005455594781168515\n",
      "score=0.9855411892683307\n",
      "====================================================\n",
      "epsilon=0.007847599703514606\n",
      "score=0.9855411892283661\n",
      "====================================================\n",
      "epsilon=0.011288378916846883\n",
      "score=0.985541189170742\n",
      "====================================================\n",
      "epsilon=0.01623776739188721\n",
      "score=0.9855411890877406\n",
      "====================================================\n",
      "epsilon=0.023357214690901212\n",
      "score=0.985541188969048\n",
      "====================================================\n",
      "epsilon=0.03359818286283781\n",
      "score=0.9855411887979073\n",
      "====================================================\n",
      "epsilon=0.04832930238571752\n",
      "score=0.9855411885516097\n",
      "====================================================\n",
      "epsilon=0.06951927961775606\n",
      "score=0.985541188197622\n",
      "====================================================\n",
      "epsilon=0.1\n",
      "score=0.9855411876879254\n",
      "====================================================\n"
     ]
    },
    {
     "data": {
      "image/png": "[encoded data removed]",
      "text/plain": [
       "<Figure size 432x288 with 1 Axes>"
      ]
     },
     "metadata": {},
     "output_type": "display_data"
    }
   ],
   "source": [
    "from sklearn.cross_validation import cross_val_score\n",
    "epsilon_range = np.logspace(-4, -1, 20)\n",
    "g_score = []\n",
    "for epsilon in epsilon_range:\n",
    "    svr_rbf = SVR(kernel='rbf', C=1e10, gamma=0.0002, epsilon=epsilon)\n",
    "    scores = cross_val_score(svr_rbf, tba_X[0:400], tba_y[0:400], cv=5, n_jobs=-1) # , scoring='mean_squared_error')\n",
    "    print('epsilon=' + str(epsilon))\n",
    "    print('score=' + str(scores.mean()))\n",
    "    print('====================================================')\n",
    "    g_score.append(scores.mean())\n",
    "plt.plot(epsilon_range, g_score, '*')\n",
    "plt.xlabel('value of the epsilon')\n",
    "plt.ylabel('cross-validated accuracy')\n",
    "plt.show()"
   ]
  },
  {
   "cell_type": "code",
   "execution_count": 14,
   "metadata": {},
   "outputs": [
    {
     "data": {
      "text/plain": [
       "[<matplotlib.lines.Line2D at 0x1c8bf2cc5f8>]"
      ]
     },
     "execution_count": 14,
     "metadata": {},
     "output_type": "execute_result"
    },
    {
     "data": {
      "image/png": "[encoded data removed]",
      "text/plain": [
       "<Figure size 432x288 with 1 Axes>"
      ]
     },
     "metadata": {},
     "output_type": "display_data"
    }
   ],
   "source": [
    "\n",
    "#gamma 值是重要的。取0.0002就很好。\n",
    "train_sizes,train_loss,test_loss=learning_curve(\n",
    "    SVR(gamma=0.0002, C=1e10, epsilon=1e-4),tba_X[0:500],tba_y[0:500],cv=5,  #scoring='mean_squared_error',\n",
    "    train_sizes=[0.1,0.2,0.3,0.4,0.5,0.6,0.7,0.8,0.9,1.0])\n",
    "train_loss_mean = np.mean(train_loss, axis=1)\n",
    "test_loss_mean = np.mean(test_loss, axis=1)\n",
    "\n",
    "plt.plot(train_sizes, train_loss_mean, 'o-', color='r', label='Training')\n",
    "plt.plot(train_sizes, test_loss_mean, 'o-', color='g', label='Testing')"
   ]
  },
  {
   "cell_type": "code",
   "execution_count": 13,
   "metadata": {},
   "outputs": [
    {
     "data": {
      "text/plain": [
       "[<matplotlib.lines.Line2D at 0x1c8bf38d1d0>]"
      ]
     },
     "execution_count": 13,
     "metadata": {},
     "output_type": "execute_result"
    },
    {
     "data": {
      "image/png": "[encoded data removed]",
      "text/plain": [
       "<Figure size 432x288 with 1 Axes>"
      ]
     },
     "metadata": {},
     "output_type": "display_data"
    }
   ],
   "source": [
    "param_range=np.linspace(1e-4, 2.5e-4, 20)\n",
    "#gamma 值是重要的。取0.001就很好。\n",
    "train_loss,test_loss=validation_curve(\n",
    "    SVR(C=1e10),tba_X[0:500],tba_y[0:500],param_name = 'gamma', param_range=param_range, cv=5) #scoring='mean_squared_error'\n",
    "train_loss_mean = np.mean(train_loss, axis=1)\n",
    "test_loss_mean = np.mean(test_loss, axis=1)\n",
    "\n",
    "plt.plot(param_range, train_loss_mean, 'o-', color='r', label='gamma')\n",
    "plt.plot(param_range, test_loss_mean, 'o-', color='g', label='loss')"
   ]
  },
  {
   "cell_type": "code",
   "execution_count": 53,
   "metadata": {},
   "outputs": [],
   "source": [
    "reg = SVR(kernel='rbf', epsilon=1e-2, C=1e10, gamma=1.8e-4)"
   ]
  },
  {
   "cell_type": "code",
   "execution_count": 54,
   "metadata": {},
   "outputs": [
    {
     "data": {
      "text/plain": [
       "array([0.98099869, 0.98301295, 0.98662903, 0.99443117, 0.98146773])"
      ]
     },
     "execution_count": 54,
     "metadata": {},
     "output_type": "execute_result"
    }
   ],
   "source": [
    "from sklearn.cross_validation import cross_val_score\n",
    "cross_val_score(reg, tba_X[0:400], tba_y[0:400], cv=5)"
   ]
  },
  {
   "cell_type": "code",
   "execution_count": null,
   "metadata": {},
   "outputs": [],
   "source": [
    "reg.fit(tba_X[0:3800], tba_y[0:3800])"
   ]
  },
  {
   "cell_type": "code",
   "execution_count": 37,
   "metadata": {},
   "outputs": [
    {
     "data": {
      "text/plain": [
       "SVR(C=10000000000.0, cache_size=200, coef0=0.0, degree=3, epsilon=1,\n",
       "  gamma=0.00018, kernel='rbf', max_iter=-1, shrinking=True, tol=0.001,\n",
       "  verbose=False)"
      ]
     },
     "execution_count": 37,
     "metadata": {},
     "output_type": "execute_result"
    }
   ],
   "source": [
    "reg"
   ]
  },
  {
   "cell_type": "code",
   "execution_count": 52,
   "metadata": {},
   "outputs": [
    {
     "data": {
      "text/plain": [
       "(413, 1001)"
      ]
     },
     "execution_count": 52,
     "metadata": {},
     "output_type": "execute_result"
    }
   ],
   "source": [
    "reg.support_vectors_.shape"
   ]
  },
  {
   "cell_type": "code",
   "execution_count": null,
   "metadata": {},
   "outputs": [],
   "source": []
  }
 ],
 "metadata": {
  "kernelspec": {
   "display_name": "Python 3",
   "language": "python",
   "name": "python3"
  },
  "language_info": {
   "codemirror_mode": {
    "name": "ipython",
    "version": 3
   },
   "file_extension": ".py",
   "mimetype": "text/x-python",
   "name": "python",
   "nbconvert_exporter": "python",
   "pygments_lexer": "ipython3",
   "version": "3.6.5"
  }
 },
 "nbformat": 4,
 "nbformat_minor": 2
}
