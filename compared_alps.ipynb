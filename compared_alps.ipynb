{
 "cells": [
  {
   "cell_type": "code",
   "execution_count": 38,
   "metadata": {},
   "outputs": [
    {
     "name": "stdout",
     "output_type": "stream",
     "text": [
      "3200000\n",
      "3200000\n",
      "3200000\n",
      "3200000\n"
     ]
    },
    {
     "data": {
      "image/png": "[encoded data removed]",
      "text/plain": [
       "<Figure size 432x288 with 1 Axes>"
      ]
     },
     "metadata": {},
     "output_type": "display_data"
    },
    {
     "data": {
      "image/png": "[encoded data removed]",
      "text/plain": [
       "<Figure size 432x288 with 1 Axes>"
      ]
     },
     "metadata": {},
     "output_type": "display_data"
    },
    {
     "name": "stdout",
     "output_type": "stream",
     "text": [
      "-0.07269367088607595\n",
      "-0.07144050632911392\n",
      "-0.07284556962025317\n",
      "-0.07431139240506329\n",
      "-0.07282278481012658\n"
     ]
    }
   ],
   "source": [
    "import pickle\n",
    "import struct\n",
    "import os\n",
    "import numpy as np\n",
    "import matplotlib.pyplot as plt\n",
    "\n",
    "num_thermo = 5000;\n",
    "size_of_data = 8;\n",
    "\n",
    "num_th = 4\n",
    "cc_energy1 = [[] for _ in range(num_th)]\n",
    "\n",
    "for i in range(num_th):\n",
    "    # file_name1 = \"E:/vs/sn_sus/data/671457_4_2_50000_by_iter_th_\" + str(i) + \".txt\"\n",
    "    file_name1 = \"E:/vs/sn_sus/data/671457_4_2_50000_by_step_th_\" + str(i) + \".txt\"\n",
    "    print(os.path.getsize(file_name1))\n",
    "    num1 = os.path.getsize(file_name1)//size_of_data\n",
    "    c_energy1 = [0 for _ in range(num1)]\n",
    "    f1 = open(file_name1, \"rb\")\n",
    "    for j in range(num1):\n",
    "        c_energy1[j] = struct.unpack(\"d\",f1.read(size_of_data))[0]\n",
    "    f1.close()\n",
    "    cc_energy1[i] = np.array(c_energy1[num_thermo:])\n",
    "    \n",
    "####################################################################################\n",
    "####################################################################################\n",
    "####################################################################################\n",
    "\n",
    "num_test = 100\n",
    "\n",
    "v_c = [[] for _ in range(num_th)]\n",
    "for i in range(num_th):\n",
    "    v_e = cc_energy1[i]\n",
    "    v = []\n",
    "    for k in range(num_test):\n",
    "        v.append((np.mean(v_e[k+1:]*v_e[:-k-1])-(np.mean(v_e[:-k-1]))*(np.mean(v_e[k+1:])))/np.var(v_e))\n",
    "    v_c[i] = np.array(v)\n",
    "    plt.plot(np.arange(num_test),v_c[i])\n",
    "\n",
    "v_c_total = np.zeros(num_test)\n",
    "for i in range(num_th):\n",
    "    v_c_total = v_c_total + v_c[i]\n",
    "v_c_total = v_c_total/num_th\n",
    "\n",
    "plt.scatter(np.arange(num_test), v_c_total)\n",
    "plt.show()\n",
    "\n",
    "plt.plot(np.arange(num_test), v_c_total)\n",
    "plt.show()\n",
    "\n",
    "sus = 0;\n",
    "for i in range(num_th):\n",
    "    temp_sus = np.mean(cc_energy1[i]) * (-2)\n",
    "    print(temp_sus)\n",
    "    sus = sus + temp_sus\n",
    "    \n",
    "sus = sus / num_th\n",
    "print(sus)"
   ]
  },
  {
   "cell_type": "code",
   "execution_count": 21,
   "metadata": {},
   "outputs": [
    {
     "data": {
      "text/plain": [
       "-0.07188111111111112"
      ]
     },
     "execution_count": 21,
     "metadata": {},
     "output_type": "execute_result"
    }
   ],
   "source": [
    "sus*(-2)"
   ]
  },
  {
   "cell_type": "code",
   "execution_count": 36,
   "metadata": {},
   "outputs": [
    {
     "data": {
      "text/plain": [
       "array([], dtype=float64)"
      ]
     },
     "execution_count": 36,
     "metadata": {},
     "output_type": "execute_result"
    }
   ],
   "source": [
    "cc_energy1[0]"
   ]
  },
  {
   "cell_type": "code",
   "execution_count": 26,
   "metadata": {},
   "outputs": [
    {
     "data": {
      "text/plain": [
       "-0.07224444444444444"
      ]
     },
     "execution_count": 26,
     "metadata": {},
     "output_type": "execute_result"
    }
   ],
   "source": [
    "np.mean(cc_energy1[1])*(-2)"
   ]
  },
  {
   "cell_type": "code",
   "execution_count": 27,
   "metadata": {},
   "outputs": [
    {
     "data": {
      "text/plain": [
       "-0.07101555555555555"
      ]
     },
     "execution_count": 27,
     "metadata": {},
     "output_type": "execute_result"
    }
   ],
   "source": [
    "np.mean(cc_energy1[2])*(-2)"
   ]
  },
  {
   "cell_type": "code",
   "execution_count": 28,
   "metadata": {},
   "outputs": [
    {
     "data": {
      "text/plain": [
       "-0.07252444444444445"
      ]
     },
     "execution_count": 28,
     "metadata": {},
     "output_type": "execute_result"
    }
   ],
   "source": [
    "np.mean(cc_energy1[3])*(-2)"
   ]
  },
  {
   "cell_type": "code",
   "execution_count": 15,
   "metadata": {},
   "outputs": [
    {
     "name": "stdout",
     "output_type": "stream",
     "text": [
      "2400000\n"
     ]
    },
    {
     "data": {
      "image/png": "[encoded data removed]",
      "text/plain": [
       "<Figure size 432x288 with 1 Axes>"
      ]
     },
     "metadata": {},
     "output_type": "display_data"
    },
    {
     "data": {
      "image/png": "[encoded data removed]",
      "text/plain": [
       "<Figure size 432x288 with 1 Axes>"
      ]
     },
     "metadata": {},
     "output_type": "display_data"
    }
   ],
   "source": [
    "import pickle\n",
    "import struct\n",
    "import os\n",
    "import numpy as np\n",
    "import matplotlib.pyplot as plt\n",
    "\n",
    "num_thermo = 6000;\n",
    "size_of_data = 8;\n",
    "\n",
    "num_th = 1\n",
    "cc_energy1 = [[] for _ in range(num_th)]\n",
    "for i in range(num_th):\n",
    "    file_name1 = \"E:/vs/sn_sus/data/641528_60_20_5000_by_step_th_\" + str(i) + \".txt\"\n",
    "    print(os.path.getsize(file_name1))\n",
    "    num1 = os.path.getsize(file_name1)//size_of_data\n",
    "    c_energy1 = [0 for _ in range(num1)]\n",
    "    f1 = open(file_name1, \"rb\")\n",
    "    for j in range(num1):\n",
    "        c_energy1[j] = struct.unpack(\"d\",f1.read(size_of_data))[0]\n",
    "    f1.close()\n",
    "    cc_energy1[i] = np.array(c_energy1[num_thermo:])\n",
    "    \n",
    "####################################################################################\n",
    "####################################################################################\n",
    "####################################################################################\n",
    "\n",
    "num_test = 400\n",
    "\n",
    "v_c = [[] for _ in range(num_th)]\n",
    "for i in range(num_th):\n",
    "    v_e = cc_energy1[i]\n",
    "    v = []\n",
    "    for k in range(num_test):\n",
    "        v.append((np.mean(v_e[k+1:]*v_e[:-k-1])-(np.mean(v_e[:-k-1]))*(np.mean(v_e[k+1:])))/np.var(v_e))\n",
    "    v_c[i] = np.array(v)\n",
    "    plt.plot(np.arange(num_test),v_c[i])\n",
    "\n",
    "v_c_total = np.zeros(num_test)\n",
    "for i in range(num_th):\n",
    "    v_c_total = v_c_total + v_c[i]\n",
    "v_c_total = v_c_total/num_th\n",
    "\n",
    "plt.scatter(np.arange(num_test), v_c_total)\n",
    "plt.show()\n",
    "\n",
    "plt.plot(np.arange(num_test), v_c_total)\n",
    "plt.show()\n"
   ]
  },
  {
   "cell_type": "code",
   "execution_count": null,
   "metadata": {
    "collapsed": true
   },
   "outputs": [],
   "source": []
  },
  {
   "cell_type": "code",
   "execution_count": 17,
   "metadata": {},
   "outputs": [
    {
     "data": {
      "text/plain": [
       "0.08175757575757575"
      ]
     },
     "execution_count": 17,
     "metadata": {},
     "output_type": "execute_result"
    }
   ],
   "source": [
    "np.mean(cc_energy1[0])"
   ]
  },
  {
   "cell_type": "code",
   "execution_count": 21,
   "metadata": {},
   "outputs": [
    {
     "data": {
      "text/plain": [
       "0.08175757575757575"
      ]
     },
     "execution_count": 21,
     "metadata": {},
     "output_type": "execute_result"
    }
   ],
   "source": [
    "np.mean(cc_energy1[0])"
   ]
  },
  {
   "cell_type": "code",
   "execution_count": 22,
   "metadata": {
    "collapsed": true
   },
   "outputs": [],
   "source": [
    "v = []"
   ]
  },
  {
   "cell_type": "code",
   "execution_count": 25,
   "metadata": {
    "collapsed": true
   },
   "outputs": [],
   "source": [
    "v.append(0.0817576)"
   ]
  },
  {
   "cell_type": "code",
   "execution_count": 26,
   "metadata": {},
   "outputs": [
    {
     "data": {
      "text/plain": [
       "[0.0817576]"
      ]
     },
     "execution_count": 26,
     "metadata": {},
     "output_type": "execute_result"
    }
   ],
   "source": [
    "v"
   ]
  },
  {
   "cell_type": "code",
   "execution_count": null,
   "metadata": {
    "collapsed": true
   },
   "outputs": [],
   "source": []
  }
 ],
 "metadata": {
  "kernelspec": {
   "display_name": "Python 3",
   "language": "python",
   "name": "python3"
  },
  "language_info": {
   "codemirror_mode": {
    "name": "ipython",
    "version": 3
   },
   "file_extension": ".py",
   "mimetype": "text/x-python",
   "name": "python",
   "nbconvert_exporter": "python",
   "pygments_lexer": "ipython3",
   "version": "3.6.2"
  }
 },
 "nbformat": 4,
 "nbformat_minor": 2
}
